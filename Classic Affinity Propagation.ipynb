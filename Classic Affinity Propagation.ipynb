{
 "cells": [
  {
   "cell_type": "markdown",
   "metadata": {},
   "source": [
    "# Implémentation de l'algorithme Affinity Propagation"
   ]
  },
  {
   "cell_type": "markdown",
   "metadata": {},
   "source": [
    "Dans ce notebook, nous allons implémenter l'algorithme étudié dans son cadre \"classique\", c'est à dire non distribué. Il repose sur l'article suivant : Clustering by Passing Messages Between Data Points [Brendan J. Frey* and Delbert Dueck, 2007] (http://www.icmla-conference.org/icmla07/FreyDueckScience07.pdf)"
   ]
  },
  {
   "cell_type": "code",
   "execution_count": 1,
   "metadata": {
    "collapsed": true
   },
   "outputs": [],
   "source": [
    "import numpy as np\n",
    "import matplotlib.pyplot as plt"
   ]
  },
  {
   "cell_type": "markdown",
   "metadata": {},
   "source": [
    "Générons les données d'entrainement."
   ]
  },
  {
   "cell_type": "code",
   "execution_count": 2,
   "metadata": {
    "collapsed": false
   },
   "outputs": [],
   "source": [
    "N = 10\n",
    "x_1 = np.random.multivariate_normal(mean=[0,0], cov=[[0.1,0],[0,0.1]], size=N)\n",
    "x_2 = np.random.multivariate_normal(mean=[3,0], cov=[[0.3,-0.1],[-0.1,0.2]], size=N)\n",
    "x_3 = np.random.multivariate_normal(mean=[0,3], cov=[[0.2,0],[0,0.2]], size=N)\n",
    "N = 3*N\n",
    "X = np.concatenate((x_1, x_2, x_3))"
   ]
  },
  {
   "cell_type": "markdown",
   "metadata": {},
   "source": [
    "Affichons les pour vérifier qu'on peut distinguer \"à l'oeil\" les trois clusters."
   ]
  },
  {
   "cell_type": "code",
   "execution_count": 3,
   "metadata": {
    "collapsed": false
   },
   "outputs": [
    {
     "data": {
      "image/png": "[encoded data removed]",
      "text/plain": [
       "<matplotlib.figure.Figure at 0x24e95620860>"
      ]
     },
     "metadata": {},
     "output_type": "display_data"
    }
   ],
   "source": [
    "plt.scatter(X[:,0], X[:,1])\n",
    "plt.show()"
   ]
  },
  {
   "cell_type": "markdown",
   "metadata": {},
   "source": [
    "On définit la mesure de similarité S, qui s'exprime comme une matrice (symmétrique, la métrique utilisée étant la mesure euclidienne)."
   ]
  },
  {
   "cell_type": "code",
   "execution_count": 4,
   "metadata": {
    "collapsed": false
   },
   "outputs": [],
   "source": [
    "S = np.zeros(shape=[N,N])\n",
    "for i in range(0,N):\n",
    "    for j in range(0,N):\n",
    "        S[i,j] = -np.linalg.norm(X[i]-X[j]) ** 2\n",
    "        \n",
    "for k in range(0,N):\n",
    "    S[k,k] = np.median([S[i,j] for i in range(0,N) for j in range(0,N) if i!=j])"
   ]
  },
  {
   "cell_type": "markdown",
   "metadata": {},
   "source": [
    "Affichons un extrait de cette matrice pour vérifier que :\n",
    "- elle est bien symmétrique\n",
    "- les valeurs sont négatives\n",
    "- la diagonale est constante (aucun point n'est à priori priviligié)"
   ]
  },
  {
   "cell_type": "code",
   "execution_count": 5,
   "metadata": {
    "collapsed": false
   },
   "outputs": [
    {
     "data": {
      "text/plain": [
       "array([[-8.72456454, -0.39183994, -0.43228277, -0.04586499],\n",
       "       [-0.39183994, -8.72456454, -0.72325018, -0.17332128],\n",
       "       [-0.43228277, -0.72325018, -8.72456454, -0.39763608],\n",
       "       [-0.04586499, -0.17332128, -0.39763608, -8.72456454]])"
      ]
     },
     "execution_count": 5,
     "metadata": {},
     "output_type": "execute_result"
    }
   ],
   "source": [
    "S[1:5,1:5]"
   ]
  },
  {
   "cell_type": "markdown",
   "metadata": {},
   "source": [
    "On implémente donc les opérations qui doivent être itérativement appliquées aux matrices A et R (Afffinity et Responsibility)."
   ]
  },
  {
   "cell_type": "code",
   "execution_count": 6,
   "metadata": {
    "collapsed": true
   },
   "outputs": [],
   "source": [
    "lbda = 0.5\n",
    "\n",
    "def perform_iteration(A,R):\n",
    "    for i in range(0,N):\n",
    "        for k in range(0,N):\n",
    "            updateValue = S[i,k] - np.max([A[i,kprime] + S[i,kprime] for kprime in range(0,N) if kprime != k])\n",
    "            R[i,k] = (1-lbda) * updateValue + lbda * R[i,k]\n",
    "             \n",
    "\n",
    "    for i in range(0,N):\n",
    "        for k in range(0,N):\n",
    "            if i == k:\n",
    "                value = np.sum([max(0, R[iprime,k]) for iprime in range(0,N) if iprime != k])\n",
    "                A[i,k] = (1-lbda) * value + lbda * A[i,k]\n",
    "            else:\n",
    "                value = min(0,np.sum([max(0, R[iprime,k]) for iprime in range(0,N) if iprime != k and iprime != i]) + R[k,k])\n",
    "                A[i,k] = (1-lbda) * value + lbda * A[i,k]\n",
    "                \n",
    "    return (A,R)"
   ]
  },
  {
   "cell_type": "markdown",
   "metadata": {},
   "source": [
    "On initialise les matrices à A et R à zéros, puis on lance 100 itérations"
   ]
  },
  {
   "cell_type": "code",
   "execution_count": 7,
   "metadata": {
    "collapsed": false
   },
   "outputs": [],
   "source": [
    "A = np.zeros(shape=[N,N])\n",
    "R = np.zeros(shape=[N,N])\n",
    "\n",
    "for i in range(100):\n",
    "    (A,R) = perform_iteration(A,R)"
   ]
  },
  {
   "cell_type": "markdown",
   "metadata": {},
   "source": [
    "On récupère les individu qui satisfont R[i,i] + A[i,i] > 0"
   ]
  },
  {
   "cell_type": "code",
   "execution_count": 8,
   "metadata": {
    "collapsed": false
   },
   "outputs": [
    {
     "data": {
      "text/plain": [
       "[(3, 58.527543444469508), (18, 56.973849063414569), (23, 65.818820052901557)]"
      ]
     },
     "execution_count": 8,
     "metadata": {},
     "output_type": "execute_result"
    }
   ],
   "source": [
    "[(i,R[i,i]+A[i,i]) for i in range(0,N) if R[i,i]+A[i,i]>0]"
   ]
  },
  {
   "cell_type": "markdown",
   "metadata": {},
   "source": [
    "On affiche les resultats"
   ]
  },
  {
   "cell_type": "code",
   "execution_count": 9,
   "metadata": {
    "collapsed": false,
    "scrolled": false
   },
   "outputs": [
    {
     "data": {
      "image/png": "[encoded data removed]",
      "text/plain": [
       "<matplotlib.figure.Figure at 0x24e95a247b8>"
      ]
     },
     "metadata": {},
     "output_type": "display_data"
    }
   ],
   "source": [
    "idx = [i for i in range(0,N) if R[i,i]+A[i,i]>0]\n",
    "\n",
    "fig = plt.figure()\n",
    "ax1 = fig.add_subplot(111)\n",
    "\n",
    "ax1.scatter(X[:,0], X[:,1], s=10, c='b', marker=\"s\", label='data')\n",
    "ax1.scatter(X[idx,0],X[idx,1], s=30, c='r', marker=\"o\", label='centroids')\n",
    "plt.legend(loc='upper right');\n",
    "plt.show()"
   ]
  },
  {
   "cell_type": "markdown",
   "metadata": {},
   "source": [
    "Ca marche !"
   ]
  },
  {
   "cell_type": "markdown",
   "metadata": {},
   "source": [
    "# Utilisation (et vérification des résultats) avec scikit-learn"
   ]
  },
  {
   "cell_type": "markdown",
   "metadata": {},
   "source": [
    "Scikit-learn propose une implémentation de cet algorithme. Essayons la."
   ]
  },
  {
   "cell_type": "code",
   "execution_count": 10,
   "metadata": {
    "collapsed": false
   },
   "outputs": [],
   "source": [
    "from sklearn.cluster import AffinityPropagation\n",
    "af = AffinityPropagation().fit(X)"
   ]
  },
  {
   "cell_type": "code",
   "execution_count": 11,
   "metadata": {
    "collapsed": false
   },
   "outputs": [
    {
     "data": {
      "text/plain": [
       "AffinityPropagation(affinity='euclidean', convergence_iter=15, copy=True,\n",
       "          damping=0.5, max_iter=200, preference=None, verbose=False)"
      ]
     },
     "execution_count": 11,
     "metadata": {},
     "output_type": "execute_result"
    }
   ],
   "source": [
    "af"
   ]
  },
  {
   "cell_type": "code",
   "execution_count": 12,
   "metadata": {
    "collapsed": false
   },
   "outputs": [],
   "source": [
    "cluster_centers_indices = af.cluster_centers_indices_\n",
    "labels = af.labels_\n",
    "\n",
    "n_clusters_ = len(cluster_centers_indices)"
   ]
  },
  {
   "cell_type": "code",
   "execution_count": 13,
   "metadata": {
    "collapsed": false
   },
   "outputs": [
    {
     "data": {
      "image/png": "[encoded data removed]",
      "text/plain": [
       "<matplotlib.figure.Figure at 0x24e97d35780>"
      ]
     },
     "metadata": {},
     "output_type": "display_data"
    }
   ],
   "source": [
    "from itertools import cycle\n",
    "colors = cycle('bgrcmykbgrcmykbgrcmykbgrcmyk')\n",
    "for k, col in zip(range(n_clusters_), colors):\n",
    "    class_members = labels == k\n",
    "    cluster_center = X[cluster_centers_indices[k]]\n",
    "    plt.plot(X[class_members, 0], X[class_members, 1], col + '.')\n",
    "    plt.plot(cluster_center[0], cluster_center[1], 'o', markerfacecolor=col,\n",
    "             markeredgecolor='k', markersize=14)\n",
    "    for x in X[class_members]:\n",
    "        plt.plot([cluster_center[0], x[0]], [cluster_center[1], x[1]], col)\n",
    "\n",
    "plt.title('Estimated number of clusters: %d' % n_clusters_)\n",
    "plt.show()"
   ]
  },
  {
   "cell_type": "markdown",
   "metadata": {},
   "source": [
    "On obtient bien les mêmes centres."
   ]
  }
 ],
 "metadata": {
  "anaconda-cloud": {},
  "kernelspec": {
   "display_name": "Python [conda root]",
   "language": "python",
   "name": "conda-root-py"
  },
  "language_info": {
   "codemirror_mode": {
    "name": "ipython",
    "version": 3
   },
   "file_extension": ".py",
   "mimetype": "text/x-python",
   "name": "python",
   "nbconvert_exporter": "python",
   "pygments_lexer": "ipython3",
   "version": "3.5.2"
  }
 },
 "nbformat": 4,
 "nbformat_minor": 1
}
