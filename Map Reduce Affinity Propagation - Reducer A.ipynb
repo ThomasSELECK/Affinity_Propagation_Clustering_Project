{
 "cells": [
  {
   "cell_type": "markdown",
   "metadata": {},
   "source": [
    "On génère les données"
   ]
  },
  {
   "cell_type": "code",
   "execution_count": 2,
   "metadata": {
    "collapsed": true
   },
   "outputs": [],
   "source": [
    "import numpy as np\n",
    "\n",
    "N = 3\n",
    "x_1 = np.random.multivariate_normal(mean=[0,0], cov=[[0.1,0],[0,0.1]], size=N)\n",
    "x_2 = np.random.multivariate_normal(mean=[3,0], cov=[[0.3,-0.1],[-0.1,0.2]], size=N)\n",
    "x_3 = np.random.multivariate_normal(mean=[0,3], cov=[[0.2,0],[0,0.2]], size=N)\n",
    "N = 3*N\n",
    "X = np.concatenate((x_1, x_2, x_3))"
   ]
  },
  {
   "cell_type": "markdown",
   "metadata": {},
   "source": [
    "On les visualise"
   ]
  },
  {
   "cell_type": "code",
   "execution_count": 3,
   "metadata": {
    "collapsed": false
   },
   "outputs": [
    {
     "data": {
      "image/png": "[encoded data removed]",
      "text/plain": [
       "<matplotlib.figure.Figure at 0x2e41d0cfef0>"
      ]
     },
     "metadata": {},
     "output_type": "display_data"
    }
   ],
   "source": [
    "import matplotlib.pyplot as plt\n",
    "\n",
    "plt.scatter(X[:,0], X[:,1])\n",
    "plt.show()"
   ]
  },
  {
   "cell_type": "markdown",
   "metadata": {},
   "source": [
    "On les enregistre"
   ]
  },
  {
   "cell_type": "code",
   "execution_count": 4,
   "metadata": {
    "collapsed": true
   },
   "outputs": [],
   "source": [
    "import pandas\n",
    "df = pandas.DataFrame(X)"
   ]
  },
  {
   "cell_type": "code",
   "execution_count": 6,
   "metadata": {
    "collapsed": false
   },
   "outputs": [],
   "source": [
    "df.to_csv(\"data.txt\", sep=\"\\t\", header=None, index=False)"
   ]
  },
  {
   "cell_type": "markdown",
   "metadata": {},
   "source": [
    "# Importation des données"
   ]
  },
  {
   "cell_type": "code",
   "execution_count": 7,
   "metadata": {
    "collapsed": true
   },
   "outputs": [],
   "source": [
    "dataText = sc.textFile(\"data.txt\")"
   ]
  },
  {
   "cell_type": "code",
   "execution_count": 12,
   "metadata": {
    "collapsed": true
   },
   "outputs": [],
   "source": [
    "def process_row(row):\n",
    "    values = row.split(\"\\t\")\n",
    "    values = [float(_) for _ in values]\n",
    "    return [values]"
   ]
  },
  {
   "cell_type": "code",
   "execution_count": 13,
   "metadata": {
    "collapsed": false
   },
   "outputs": [
    {
     "data": {
      "text/plain": [
       "[[-0.12062601549113369, 0.22305148205137285],\n",
       " [-0.04316140687603731, -0.42656358942141864],\n",
       " [0.09769570485396502, 0.18328614525838832],\n",
       " [4.221410905157858, -0.1639830581569055],\n",
       " [2.6031681941069076, -0.22515370643574856],\n",
       " [3.794130647258015, 0.4867018243342529],\n",
       " [-0.33967217452748155, 2.6847634907253917],\n",
       " [-0.04598493211471333, 2.263006239936773],\n",
       " [-0.6663365743715197, 2.4479258772449977]]"
      ]
     },
     "execution_count": 13,
     "metadata": {},
     "output_type": "execute_result"
    }
   ],
   "source": [
    "data = dataText.flatMap(process_row)\n",
    "data.take(12)"
   ]
  },
  {
   "cell_type": "code",
   "execution_count": 14,
   "metadata": {
    "collapsed": false
   },
   "outputs": [
    {
     "data": {
      "text/html": [
       "<div>\n",
       "<table border=\"1\" class=\"dataframe\">\n",
       "  <thead>\n",
       "    <tr style=\"text-align: right;\">\n",
       "      <th></th>\n",
       "      <th>0</th>\n",
       "      <th>1</th>\n",
       "    </tr>\n",
       "  </thead>\n",
       "  <tbody>\n",
       "    <tr>\n",
       "      <th>0</th>\n",
       "      <td>-0.120626</td>\n",
       "      <td>0.223051</td>\n",
       "    </tr>\n",
       "    <tr>\n",
       "      <th>1</th>\n",
       "      <td>-0.043161</td>\n",
       "      <td>-0.426564</td>\n",
       "    </tr>\n",
       "    <tr>\n",
       "      <th>2</th>\n",
       "      <td>0.097696</td>\n",
       "      <td>0.183286</td>\n",
       "    </tr>\n",
       "    <tr>\n",
       "      <th>3</th>\n",
       "      <td>4.221411</td>\n",
       "      <td>-0.163983</td>\n",
       "    </tr>\n",
       "    <tr>\n",
       "      <th>4</th>\n",
       "      <td>2.603168</td>\n",
       "      <td>-0.225154</td>\n",
       "    </tr>\n",
       "    <tr>\n",
       "      <th>5</th>\n",
       "      <td>3.794131</td>\n",
       "      <td>0.486702</td>\n",
       "    </tr>\n",
       "    <tr>\n",
       "      <th>6</th>\n",
       "      <td>-0.339672</td>\n",
       "      <td>2.684763</td>\n",
       "    </tr>\n",
       "    <tr>\n",
       "      <th>7</th>\n",
       "      <td>-0.045985</td>\n",
       "      <td>2.263006</td>\n",
       "    </tr>\n",
       "    <tr>\n",
       "      <th>8</th>\n",
       "      <td>-0.666337</td>\n",
       "      <td>2.447926</td>\n",
       "    </tr>\n",
       "  </tbody>\n",
       "</table>\n",
       "</div>"
      ],
      "text/plain": [
       "          0         1\n",
       "0 -0.120626  0.223051\n",
       "1 -0.043161 -0.426564\n",
       "2  0.097696  0.183286\n",
       "3  4.221411 -0.163983\n",
       "4  2.603168 -0.225154\n",
       "5  3.794131  0.486702\n",
       "6 -0.339672  2.684763\n",
       "7 -0.045985  2.263006\n",
       "8 -0.666337  2.447926"
      ]
     },
     "execution_count": 14,
     "metadata": {},
     "output_type": "execute_result"
    }
   ],
   "source": [
    "df"
   ]
  },
  {
   "cell_type": "markdown",
   "metadata": {},
   "source": [
    "C'est bon, les données ont bien étées importées"
   ]
  },
  {
   "cell_type": "markdown",
   "metadata": {},
   "source": [
    "# Reducer A"
   ]
  },
  {
   "cell_type": "markdown",
   "metadata": {},
   "source": [
    "Le reducer A à pour objectif d'aggréger les (potentiels) différents centroïdes d'un cluster."
   ]
  },
  {
   "cell_type": "code",
   "execution_count": null,
   "metadata": {
    "collapsed": true
   },
   "outputs": [],
   "source": [
    "class ReducerA:\n",
    "    \"\"\"\n",
    "    This class defines a reducer object that aggregates candidate centers when they are close enough given mappers in argument.\n",
    "    \"\"\"\n",
    "    \n",
    "    def __init__(self, mappers):\n",
    "        \"\"\"\n",
    "        This is the class' constructor.\n",
    "        \"\"\"\n",
    "        \n",
    "        # List of the mapper objects\n",
    "        self.__mappers = mappers\n",
    "        \n",
    "        # Number of mappers\n",
    "        self.__N = mappers.shape[0]\n",
    "        \n",
    "        # Preference value\n",
    "        self.__preference = [mappers[i].__S[0,0] for i in range(0, self.__N)]\n",
    "        \n",
    "        # Distance threshold to combine centers\n",
    "        self.__threshold = [self.__preference[i] * 0.5 for i in range(0, self.__N)]\n",
    "        \n",
    "        # List of clusters\n",
    "        self.__clusters = []\n",
    "        \n",
    "    def __distance(self, mapper_1, center_1, mapper_2, center_2):\n",
    "        \"\"\"\n",
    "        This method computes the distance between two centers.\n",
    "        \n",
    "        Parameters\n",
    "        ----------\n",
    "        mapper_1 : Mapper object\n",
    "                This is a mapper object.\n",
    "\n",
    "        center_1 : integer\n",
    "                This is the index i which represents the index of the center in mapper_1.\n",
    "                \n",
    "        mapper_2 : Mapper object\n",
    "                This is a mapper object.\n",
    "\n",
    "        center_2 : integer\n",
    "                This is the index j which represents the index of the center in mapper_2.\n",
    "\n",
    "        Returns\n",
    "        -------\n",
    "        d : float\n",
    "                This is the euclidian distance between the center j from mapper i and center l from mapper k.\n",
    "        \"\"\"\n",
    "        \n",
    "        #Access the coordinate of the centers from the data\n",
    "        x1 = mapper_1.__data[center_1]\n",
    "        x2 = mapper_2.__data[center_2]\n",
    "        \n",
    "        # Compute euclidian distance\n",
    "        d = np.linalg.norm(x2-x1)\n",
    "        \n",
    "        return d\n",
    "        \n",
    "    def __combine(self):\n",
    "        \"\"\"\n",
    "        This method computes the average.\n",
    "        \n",
    "        Parameters\n",
    "        ----------\n",
    "        i : integer\n",
    "                This is the index i needed to select the first point.\n",
    "\n",
    "        k : integer\n",
    "                This is the index k needed to select the first point.\n",
    "\n",
    "        Returns\n",
    "        -------\n",
    "        a : float\n",
    "                This is the availability of point i for k.\n",
    "        \"\"\"\n",
    "        \n",
    "        # Initialize the clusters to be : 1 center = 1 cluster\n",
    "        self.__clusters = [(mapper, center) for mapper in range(self.__N) for center in range(self.__mapper[i].__centers)]\n",
    "    \n",
    "        # When we find two centers too close, aggregate them\n",
    "        for i in range(self.__N): # For each mapper\n",
    "            for j in range(self.__mappers[i].__centers.shape[0]): # For each center\n",
    "                for k in range(self.__N): # For each mapper\n",
    "                    for l in range(self.__mappers[k].__centers.shape[0]): # For each center\n",
    "                        # Define properly mappers and centers\n",
    "                        mapper_1 = self.__mappers[i]\n",
    "                        center_1 = self.__mappers[i].__center[j]\n",
    "                        mapper_2 = self.__mappers[k]\n",
    "                        center_2 = self.__mappers[k].__center[l]\n",
    "                        \n",
    "                        tmp = self.__distance(mapper_1, center_1, mapper_2, center_2)\n",
    "                        \n",
    "                        if tmp < (mapper_1.__threshold + mapper_2.__threshold) / 2:\n",
    "                            self.__clusters.append()\n",
    "        \n",
    "        # Autre essai..                     \n",
    "        for i in range(self.__clusters.shape[0]):\n",
    "            for j in range(self.__clusters.shape[0]):\n",
    "                if i != j:\n",
    "                    mapper_1 = self.__clusters[i][0]\n",
    "                    center_1 = self.__clusters[i][1]\n",
    "                    mapper_2 = self.__clusters[j][0]\n",
    "                    center_2 = self.__clusters[j][1]\n",
    "                    \n",
    "                    tmp = self.__distance(mapper_1, center_1, mapper_2, center_2)\n",
    "                    \n",
    "                    if tmp < (mapper_1.__threshold + mapper_2.__threshold) / 2:\n",
    "                            self.__clusters.append(())\n",
    "                    \n",
    "        return self.__clusters\n",
    "  "
   ]
  },
  {
   "cell_type": "code",
   "execution_count": 15,
   "metadata": {
    "collapsed": true
   },
   "outputs": [],
   "source": [
    "def reducerB(row):\n",
    "    centroides, individus = row\n",
    "    nouveau_centroide = sc.parallelize(centroides).mean()\n",
    "    return (nouveau_centroide, individus)"
   ]
  }
 ],
 "metadata": {
  "anaconda-cloud": {},
  "kernelspec": {
   "display_name": "Python [default]",
   "language": "python",
   "name": "python3"
  },
  "language_info": {
   "codemirror_mode": {
    "name": "ipython",
    "version": 3
   },
   "file_extension": ".py",
   "mimetype": "text/x-python",
   "name": "python",
   "nbconvert_exporter": "python",
   "pygments_lexer": "ipython3",
   "version": "3.5.2"
  }
 },
 "nbformat": 4,
 "nbformat_minor": 1
}
