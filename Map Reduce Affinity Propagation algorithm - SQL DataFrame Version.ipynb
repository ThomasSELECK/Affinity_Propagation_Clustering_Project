{
 "cells": [
  {
   "cell_type": "code",
   "execution_count": 1,
   "metadata": {
    "collapsed": true
   },
   "outputs": [],
   "source": [
    "import numpy as np\n",
    "import matplotlib.pyplot as plt\n",
    "import pandas as pd\n",
    "from operator import add, sub\n",
    "\n",
    "np.random.seed(2017)"
   ]
  },
  {
   "cell_type": "code",
   "execution_count": 2,
   "metadata": {
    "collapsed": false
   },
   "outputs": [],
   "source": [
    "from pyspark import SparkContext\n",
    "\n",
    "sc.stop()\n",
    "\n",
    "#SparkContext.setSystemProperty('spark.executor.memory', '2g')\n",
    "#SparkContext.setSystemProperty('spark.executor.cores', '4')\n",
    "#SparkContext.setSystemProperty('spark.driver.memory', '2g')\n",
    "\n",
    "#pyspark --executor-cores 4 --executor-memory 4g --driver-memory 2g  --conf spark.yarn.executor.memoryOverhead=4096\n",
    "\n",
    "sc = SparkContext(\"local\", \"App Name\")\n",
    "\n",
    "sc.setSystemProperty('spark.executor.memory', '2g')\n",
    "sc.setSystemProperty('spark.executor.cores', '4')\n",
    "sc.setSystemProperty('spark.driver.memory', '2g')"
   ]
  },
  {
   "cell_type": "code",
   "execution_count": 3,
   "metadata": {
    "collapsed": false
   },
   "outputs": [
    {
     "data": {
      "image/png": "[encoded data removed]",
      "text/plain": [
       "<matplotlib.figure.Figure at 0x15ae1c9f240>"
      ]
     },
     "metadata": {},
     "output_type": "display_data"
    }
   ],
   "source": [
    "# Temporary cell. To be deleted later\n",
    "\n",
    "N = 4\n",
    "\n",
    "x_1 = np.random.multivariate_normal(mean = [0,0], cov = [[0.1,0],[0,0.1]], size = N)\n",
    "x_2 = np.random.multivariate_normal(mean = [3,0], cov = [[0.3,-0.1],[-0.1,0.2]], size = N)\n",
    "x_3 = np.random.multivariate_normal(mean = [0,3], cov = [[0.2,0],[0,0.2]], size = N)\n",
    "N = 3 * N\n",
    "X = np.concatenate((x_1, x_2, x_3))\n",
    "\n",
    "plt.scatter(X[:,0], X[:,1])\n",
    "plt.show()\n",
    "\n",
    "pd.DataFrame(X).to_csv(\"gaussian_data.csv\", sep=\"\\t\", header=None, index=True)"
   ]
  },
  {
   "cell_type": "code",
   "execution_count": 3,
   "metadata": {
    "collapsed": false
   },
   "outputs": [],
   "source": [
    "#Permet de convertir le RDD en Data Frame. On pourra directement créer un dataframe plus tard\n",
    "from pyspark.sql.types import *\n",
    "\n",
    "sql_c = SQLContext(sc)\n",
    "\n",
    "lines = sc.textFile(\"gaussian_data.csv\")\n",
    "parts = lines.map(lambda l: l.split(\"\\t\"))\n",
    "\n",
    "# Each line is converted to a tuple.\n",
    "data = parts.map(lambda p: (int(p[0]), float(p[1]), float(p[2])))\n",
    "#data = parts.map(lambda p: (float(p[1]), float(p[2])))\n",
    "\n",
    "# Apply the schema to the RDD.\n",
    "spark_data = sql_c.createDataFrame(data, schema=(\"index\",\"x1\",\"x2\"))\n",
    "#spark_data = sql_c.createDataFrame(data, schema=(\"x1\",\"x2\"))"
   ]
  },
  {
   "cell_type": "code",
   "execution_count": 20,
   "metadata": {
    "collapsed": false
   },
   "outputs": [
    {
     "name": "stdout",
     "output_type": "stream",
     "text": [
      "root\n",
      " |-- index: long (nullable = true)\n",
      " |-- x1: double (nullable = true)\n",
      " |-- x2: double (nullable = true)\n",
      "\n"
     ]
    }
   ],
   "source": [
    "spark_data.printSchema()"
   ]
  },
  {
   "cell_type": "code",
   "execution_count": 21,
   "metadata": {
    "collapsed": false
   },
   "outputs": [
    {
     "name": "stdout",
     "output_type": "stream",
     "text": [
      "+-----+--------------------+--------------------+\n",
      "|index|                  x1|                  x2|\n",
      "+-----+--------------------+--------------------+\n",
      "|    0|-0.32348370312099217|-0.04439774349688147|\n",
      "|    1|  0.0629585045493585| 0.18134902706122666|\n",
      "|    2| -0.1247764738311745|-0.16704490375482864|\n",
      "|    3| -0.2351423604041935|-0.26804989117924266|\n",
      "|    4|  2.6862027295781523|-0.17691842971400198|\n",
      "|    5|  3.6127378495457303| -0.7978262411909502|\n",
      "|    6|  3.9101371436256858|-0.16402333935541125|\n",
      "|    7|   2.803154714725354| -0.0731413132245947|\n",
      "|    8|-0.08914572728042147|  2.8013828859258862|\n",
      "|    9| -0.5521156252383028|   2.512836733774541|\n",
      "|   10|  0.6754209723875768|   2.842196629280239|\n",
      "|   11|-0.09335682900449731|  2.9949710227720954|\n",
      "+-----+--------------------+--------------------+\n",
      "\n"
     ]
    }
   ],
   "source": [
    "spark_data.show()"
   ]
  },
  {
   "cell_type": "code",
   "execution_count": 4,
   "metadata": {
    "collapsed": false,
    "scrolled": true
   },
   "outputs": [
    {
     "name": "stdout",
     "output_type": "stream",
     "text": [
      "+-----+--------------------+--------------------+-----+--------------------+--------------------+\n",
      "|index|                  x1|                  x2|index|                  x1|                  x2|\n",
      "+-----+--------------------+--------------------+-----+--------------------+--------------------+\n",
      "|    0|-0.32348370312099217|-0.04439774349688147|    0|-0.32348370312099217|-0.04439774349688147|\n",
      "|    0|-0.32348370312099217|-0.04439774349688147|    1|  0.0629585045493585| 0.18134902706122666|\n",
      "|    0|-0.32348370312099217|-0.04439774349688147|    2| -0.1247764738311745|-0.16704490375482864|\n",
      "|    0|-0.32348370312099217|-0.04439774349688147|    3| -0.2351423604041935|-0.26804989117924266|\n",
      "|    0|-0.32348370312099217|-0.04439774349688147|    4|  2.6862027295781523|-0.17691842971400198|\n",
      "|    0|-0.32348370312099217|-0.04439774349688147|    5|  3.6127378495457303| -0.7978262411909502|\n",
      "|    0|-0.32348370312099217|-0.04439774349688147|    6|  3.9101371436256858|-0.16402333935541125|\n",
      "|    0|-0.32348370312099217|-0.04439774349688147|    7|   2.803154714725354| -0.0731413132245947|\n",
      "|    0|-0.32348370312099217|-0.04439774349688147|    8|-0.08914572728042147|  2.8013828859258862|\n",
      "|    0|-0.32348370312099217|-0.04439774349688147|    9| -0.5521156252383028|   2.512836733774541|\n",
      "|    0|-0.32348370312099217|-0.04439774349688147|   10|  0.6754209723875768|   2.842196629280239|\n",
      "|    0|-0.32348370312099217|-0.04439774349688147|   11|-0.09335682900449731|  2.9949710227720954|\n",
      "|    1|  0.0629585045493585| 0.18134902706122666|    0|-0.32348370312099217|-0.04439774349688147|\n",
      "|    1|  0.0629585045493585| 0.18134902706122666|    1|  0.0629585045493585| 0.18134902706122666|\n",
      "|    1|  0.0629585045493585| 0.18134902706122666|    2| -0.1247764738311745|-0.16704490375482864|\n",
      "|    1|  0.0629585045493585| 0.18134902706122666|    3| -0.2351423604041935|-0.26804989117924266|\n",
      "|    1|  0.0629585045493585| 0.18134902706122666|    4|  2.6862027295781523|-0.17691842971400198|\n",
      "|    1|  0.0629585045493585| 0.18134902706122666|    5|  3.6127378495457303| -0.7978262411909502|\n",
      "|    1|  0.0629585045493585| 0.18134902706122666|    6|  3.9101371436256858|-0.16402333935541125|\n",
      "|    1|  0.0629585045493585| 0.18134902706122666|    7|   2.803154714725354| -0.0731413132245947|\n",
      "+-----+--------------------+--------------------+-----+--------------------+--------------------+\n",
      "only showing top 20 rows\n",
      "\n"
     ]
    }
   ],
   "source": [
    "#Cette instruction permet d'autoriser les produits cartésiens. Sinon, spark bloque\n",
    "sql_c.setConf(\"spark.sql.crossJoin.enabled\", True)\n",
    "\n",
    "#L'instruction createOrReplaceTempView permet de créer uen View pour effectuer des opérations SQL\n",
    "spark_data.createOrReplaceTempView(\"data\")\n",
    "\n",
    "sql_c.sql(\"SELECT * FROM data d1 JOIN data d2\").show()"
   ]
  },
  {
   "cell_type": "code",
   "execution_count": 5,
   "metadata": {
    "collapsed": false,
    "scrolled": true
   },
   "outputs": [
    {
     "name": "stdout",
     "output_type": "stream",
     "text": [
      "+--------+--------+--------------------+--------------------+\n",
      "|x1_index|x2_index|       similarity_x1|       similarity_x2|\n",
      "+--------+--------+--------------------+--------------------+\n",
      "|       0|       0|                -0.0|                -0.0|\n",
      "|       0|       1|-0.14933757986913443|-0.05096160441741512|\n",
      "|       0|       2|-0.03948456297203617|-0.01504232591933...|\n",
      "|       0|       3|-0.00780419283300...| -0.0500202831629327|\n",
      "|       0|       4|  -9.058212423173302|-0.01756173227545...|\n",
      "|       0|       5| -15.493840111678022| -0.5676545011375415|\n",
      "|       0|       6| -17.923545474008062|-0.01431028318450...|\n",
      "|       0|       7|  -9.775867795952703|-8.26192800691912...|\n",
      "|       0|       8| -0.0549142869210559|  -8.098467390797843|\n",
      "|       0|       9|-0.05227255581105...|  -6.539448171745646|\n",
      "|       0|      10| -0.9978105507528795|  -8.332427072948537|\n",
      "|       0|      11|-0.05295837819062907|  -9.237762497371403|\n",
      "|       1|       0|-0.14933757986913443|-0.05096160441741512|\n",
      "|       1|       1|                -0.0|                -0.0|\n",
      "|       1|       2|-0.03524442210753919|-0.12137833102946233|\n",
      "|       1|       3|-0.08886412568605587|-0.20195938771570401|\n",
      "|       1|       4| -6.8814102641469175|-0.12835557058419034|\n",
      "|       1|       5| -12.600933398162871| -0.9587842059567226|\n",
      "|       1|       6| -14.800783480965183|-0.11928207148422841|\n",
      "|       1|       7| -7.5086752702628905|-0.06476533329879314|\n",
      "+--------+--------+--------------------+--------------------+\n",
      "only showing top 20 rows\n",
      "\n"
     ]
    }
   ],
   "source": [
    "#Permet de faire le produit cartésien. Je n'ai pas réussi à faire fonctionner la fonction pow() ou power(), donc je fait le carré manuellement\n",
    "cartesian_similarities = sql_c.sql(\"SELECT d1.index as x1_index, d2.index as x2_index, -((d1.x1 - d2.x1) * (d1.x1 - d2.x1)) as similarity_x1, -((d1.x2 - d2.x2) * (d1.x2 - d2.x2)) as similarity_x2  FROM data d1 JOIN data d2\")\n",
    "#cartesian_similarities = sql_c.sql(\"SELECT -((d1.x1 - d2.x1) * (d1.x1 - d2.x1)) as similarity_x1, -((d1.x2 - d2.x2) * (d1.x2 - d2.x2)) as similarity_x2  FROM data d1 JOIN data d2\")\n",
    "cartesian_similarities.show()"
   ]
  },
  {
   "cell_type": "code",
   "execution_count": 6,
   "metadata": {
    "collapsed": false
   },
   "outputs": [
    {
     "name": "stdout",
     "output_type": "stream",
     "text": [
      "+--------+--------+--------------------+\n",
      "|x1_index|x2_index|        similarities|\n",
      "+--------+--------+--------------------+\n",
      "|       0|       0|  -9.075774155448759|\n",
      "|       0|       1|-0.20029918428654955|\n",
      "|       0|       2|-0.05452688889137475|\n",
      "|       0|       3|-0.05782447599593958|\n",
      "|       0|       4|  -9.075774155448759|\n",
      "|       0|       5| -16.061494612815565|\n",
      "|       0|       6|  -17.93785575719257|\n",
      "|       0|       7|  -9.776693988753395|\n",
      "|       0|       8|    -8.1533816777189|\n",
      "|       0|       9| -6.5917207275567025|\n",
      "|       0|      10|  -9.330237623701416|\n",
      "|       0|      11|  -9.290720875562032|\n",
      "|       1|       0|-0.20029918428654955|\n",
      "|       1|       1|  -9.075774155448759|\n",
      "|       1|       2|-0.15662275313700152|\n",
      "|       1|       3| -0.2908235134017599|\n",
      "|       1|       4|  -7.009765834731108|\n",
      "|       1|       5| -13.559717604119594|\n",
      "|       1|       6| -14.920065552449412|\n",
      "|       1|       7|  -7.573440603561684|\n",
      "+--------+--------+--------------------+\n",
      "only showing top 20 rows\n",
      "\n"
     ]
    }
   ],
   "source": [
    "#Créer une View du produit cartésien\n",
    "cartesian_similarities.createOrReplaceTempView(\"cartesian_similarities\")\n",
    "\n",
    "#Somme des similarités + création d'une view\n",
    "sum_similarites = sql_c.sql(\"SELECT x1_index, x2_index, (similarity_x1 + similarity_x2) as similarity_without_diagonal FROM cartesian_similarities\")\n",
    "sum_similarites.createOrReplaceTempView(\"sum_similarites\")\n",
    "\n",
    "#Calcul de la médiane // On supprime les 0 et on calcule la médiane\n",
    "sum_similarites_without_diagonal = sql_c.sql(\"SELECT *  FROM sum_similarites HAVING similarity_without_diagonal != 0\")\n",
    "sum_similarites.createOrReplaceTempView(\"sum_similarites_without_diagonal\")\n",
    "\n",
    "#Mediane est fausse\n",
    "median = sum_similarites_without_diagonal.approxQuantile(\"similarity_without_diagonal\", [0.5], 0)[0]\n",
    "\n",
    "#Remplace la diagonale par la médiane\n",
    "similarity_matrix = sql_c.sql(\"SELECT x1_index, x2_index, if(similarity_without_diagonal=0, '%s', similarity_without_diagonal) as similarities FROM sum_similarites\" % median)\n",
    "similarity_matrix.createOrReplaceTempView(\"Similarity_matrix\")\n",
    "similarity_matrix.show()"
   ]
  },
  {
   "cell_type": "code",
   "execution_count": 8,
   "metadata": {
    "collapsed": false,
    "scrolled": true
   },
   "outputs": [],
   "source": [
    "#Création de RDD availability puis responsibiity puis conversion en spark dataframes. Pas top mais ça marche\n",
    "\n",
    "# Create A and R matrices\n",
    "A = sc.parallelize(range(N)).flatMap(lambda x: [(x, y, 0) for y in range(N)])\n",
    "R = sc.parallelize(range(N)).flatMap(lambda x: [(x, y, 0) for y in range(N)])\n",
    "\n",
    "# Each line is converted to a tuple.\n",
    "A = A.map(lambda p: (int(p[0]), int(p[1]), float(p[2])))\n",
    "R = R.map(lambda p: (int(p[0]), int(p[1]), float(p[2])))\n",
    "\n",
    "# Apply the schema to the RDD.\n",
    "A_spark = sql_c.createDataFrame(A, schema=(\"x1_index\",\"x2_index\",\"availability\"))\n",
    "R_spark = sql_c.createDataFrame(R, schema=(\"x1_index\",\"x2_index\",\"responsibility\"))\n",
    "\n",
    "#Créé les tables sql\n",
    "A_spark.createOrReplaceTempView(\"availability_matrix\")\n",
    "R_spark.createOrReplaceTempView(\"responsibility_matrix\")\n",
    "\n",
    "lambdaValue = 0.5"
   ]
  },
  {
   "cell_type": "code",
   "execution_count": 9,
   "metadata": {
    "collapsed": false,
    "scrolled": false
   },
   "outputs": [
    {
     "name": "stdout",
     "output_type": "stream",
     "text": [
      "+--------+--------+----------------------+\n",
      "|x1_index|x2_index|responsibility_updated|\n",
      "+--------+--------+----------------------+\n",
      "|       3|       0|  -0.01772091979614...|\n",
      "|       8|       7|    -8.295398559111602|\n",
      "|       3|       5|    -7.532231227376172|\n",
      "|       4|       0|    -4.525663349356016|\n",
      "|      11|      11|    -4.519140027671721|\n",
      "|       2|       6|    -8.129077196893286|\n",
      "|       1|       3|  -0.06710038013237918|\n",
      "|       7|       8|    -8.301921880795897|\n",
      "|       9|       3|    -3.768101231564982|\n",
      "|       4|       7|    0.6097731910748501|\n",
      "|       8|       9|  -0.13005295411558057|\n",
      "|       0|      11|    -4.618096993335329|\n",
      "|       2|       5|    -7.172257888350786|\n",
      "|       7|       3|    -4.622395506882169|\n",
      "|      11|       6|   -12.984857634367131|\n",
      "|       5|       6|   0.34522031925639174|\n",
      "|       9|       5|   -14.004446895945758|\n",
      "|      11|       2|   -4.9809189067928195|\n",
      "|       1|       0|  -0.02183821557477...|\n",
      "|       7|       7|    -4.525663349356016|\n",
      "+--------+--------+----------------------+\n",
      "only showing top 20 rows\n",
      "\n"
     ]
    }
   ],
   "source": [
    "def computeR(): #computeR(A, R, S, N)\n",
    "    # Compute the sum of A and S\n",
    "    sum_A_S = sql_c.sql(\"SELECT t.x1_index, t.x2_index, sum(t.sim_availability) as sim_availability FROM(SELECT  x1_index, x2_index, similarities as sim_availability FROM similarity_matrix UNION ALL SELECT x1_index, x2_index, availability as sim_availability FROM availability_matrix)t GROUP BY t.x1_index, t.x2_index ORDER BY t.x1_index, t.x2_index\") \n",
    "    sum_A_S.createOrReplaceTempView(\"sum_A_S\")\n",
    "\n",
    "    # Remove all rows where i == k and compute the maximum\n",
    "    sum_A_S_cartesian = sql_c.sql(\"SELECT  d.index, s.x2_index, s.x1_index, s.sim_availability FROM data d JOIN sum_A_S s WHERE d.index != s.x2_index\")\n",
    "    sum_A_S_cartesian.createOrReplaceTempView(\"sum_A_S_cartesian\")\n",
    "    maximum = sql_c.sql(\"SELECT x1_index, index, max(sim_availability) as maximum FROM sum_A_S_cartesian GROUP BY x1_index, index\")\n",
    "    maximum.createOrReplaceTempView(\"maximum\")\n",
    "\n",
    "    # Compute r\n",
    "    responsibility_matrix_updated = sql_c.sql(\"SELECT x1_index, x2_index, sum(r_value) as r FROM (SELECT x1_index, x2_index, similarities as r_value FROM Similarity_matrix UNION ALL SELECT x1_index, index as x2_index, maximum*(-1) as r_value FROM maximum)t GROUP BY t.x1_index, t.x2_index\")\n",
    "    responsibility_matrix_updated.createOrReplaceTempView(\"responsibility_matrix_updated\")\n",
    "    \n",
    "    #DOUBLE JOINTURE ?? --> possible source d'erreur\n",
    "    # Compute R\n",
    "    R_updated = sql_c.sql(\"SELECT rmu.x1_index, rmu.x2_index, ((1 - 0.5)* rmu.r) + (0.5 * rm.responsibility) as responsibility_updated FROM responsibility_matrix rm JOIN responsibility_matrix_updated rmu ON rm.x1_index = rmu.x1_index AND rm.x2_index = rmu.x2_index\") #% lambdaValue  \n",
    "    R_updated.createOrReplaceTempView(\"R_updated\")\n",
    "    \n",
    "    return R_updated\n",
    "\n",
    "test = computeR()\n",
    "test.show()"
   ]
  },
  {
   "cell_type": "code",
   "execution_count": 48,
   "metadata": {
    "collapsed": false
   },
   "outputs": [
    {
     "data": {
      "text/plain": [
       "[Row(availibility_updated=-2.255311816639346),\n",
       " Row(availibility_updated=-1.957945079140583),\n",
       " Row(availibility_updated=-1.9605261287202598),\n",
       " Row(availibility_updated=-2.255311816639346),\n",
       " Row(availibility_updated=0.06502647705779029),\n",
       " Row(availibility_updated=-1.9737952646103925),\n",
       " Row(availibility_updated=-2.255311816639346),\n",
       " Row(availibility_updated=-2.114854157238719),\n",
       " Row(availibility_updated=-2.255311816639346),\n",
       " Row(availibility_updated=-2.262831674678008),\n",
       " Row(availibility_updated=-2.1945435367780703),\n",
       " Row(availibility_updated=-2.1945435367780703),\n",
       " Row(availibility_updated=-1.9605261287202598),\n",
       " Row(availibility_updated=-2.255311816639346),\n",
       " Row(availibility_updated=-1.9737952646103925),\n",
       " Row(availibility_updated=-2.1464054242385884),\n",
       " Row(availibility_updated=-1.9605261287202598),\n",
       " Row(availibility_updated=-2.242743915299677),\n",
       " Row(availibility_updated=-2.255311816639346),\n",
       " Row(availibility_updated=0.30488659553742503),\n",
       " Row(availibility_updated=-1.957945079140583),\n",
       " Row(availibility_updated=-2.1945435367780703),\n",
       " Row(availibility_updated=-2.229787850577939),\n",
       " Row(availibility_updated=-1.957945079140583),\n",
       " Row(availibility_updated=-2.1945435367780703),\n",
       " Row(availibility_updated=0.0),\n",
       " Row(availibility_updated=-2.122386538890237),\n",
       " Row(availibility_updated=-2.1945435367780703),\n",
       " Row(availibility_updated=-1.9737952646103925),\n",
       " Row(availibility_updated=-2.122386538890237),\n",
       " Row(availibility_updated=-2.1945435367780703),\n",
       " Row(availibility_updated=-2.114854157238719),\n",
       " Row(availibility_updated=-1.9737952646103925),\n",
       " Row(availibility_updated=-2.229787850577939),\n",
       " Row(availibility_updated=-2.229787850577939),\n",
       " Row(availibility_updated=-2.1945435367780703),\n",
       " Row(availibility_updated=-2.229787850577939),\n",
       " Row(availibility_updated=-1.9605261287202598),\n",
       " Row(availibility_updated=-1.9737952646103925),\n",
       " Row(availibility_updated=-1.9605261287202598),\n",
       " Row(availibility_updated=-1.9737952646103925),\n",
       " Row(availibility_updated=-2.229787850577939),\n",
       " Row(availibility_updated=-1.9605261287202598),\n",
       " Row(availibility_updated=-2.262831674678008),\n",
       " Row(availibility_updated=-2.1945435367780703),\n",
       " Row(availibility_updated=-2.242743915299677),\n",
       " Row(availibility_updated=-2.255311816639346),\n",
       " Row(availibility_updated=-2.122386538890237),\n",
       " Row(availibility_updated=-2.229787850577939),\n",
       " Row(availibility_updated=-2.114854157238719),\n",
       " Row(availibility_updated=0.0),\n",
       " Row(availibility_updated=-2.1945435367780703),\n",
       " Row(availibility_updated=0.28903641006761543),\n",
       " Row(availibility_updated=-2.242743915299677),\n",
       " Row(availibility_updated=-2.114854157238719),\n",
       " Row(availibility_updated=-2.1218869880717754),\n",
       " Row(availibility_updated=-2.1945435367780703),\n",
       " Row(availibility_updated=-2.114854157238719),\n",
       " Row(availibility_updated=-2.122386538890237),\n",
       " Row(availibility_updated=-2.255311816639346),\n",
       " Row(availibility_updated=-1.957945079140583),\n",
       " Row(availibility_updated=-2.1945435367780703),\n",
       " Row(availibility_updated=0.008036063121930054),\n",
       " Row(availibility_updated=-2.255311816639346),\n",
       " Row(availibility_updated=-1.957945079140583),\n",
       " Row(availibility_updated=-2.114854157238719),\n",
       " Row(availibility_updated=-2.242743915299677),\n",
       " Row(availibility_updated=-1.9737952646103925),\n",
       " Row(availibility_updated=-2.1511824315918666),\n",
       " Row(availibility_updated=-1.9605261287202598),\n",
       " Row(availibility_updated=-1.957945079140583),\n",
       " Row(availibility_updated=-2.2633478797612763),\n",
       " Row(availibility_updated=-2.255311816639346),\n",
       " Row(availibility_updated=-1.9737952646103925),\n",
       " Row(availibility_updated=-1.9737952646103925),\n",
       " Row(availibility_updated=0.17261015962819587),\n",
       " Row(availibility_updated=-1.9737952646103925),\n",
       " Row(availibility_updated=-2.1945435367780703),\n",
       " Row(availibility_updated=-2.1945435367780703),\n",
       " Row(availibility_updated=-2.1945435367780703),\n",
       " Row(availibility_updated=-2.242743915299677),\n",
       " Row(availibility_updated=-2.255311816639346),\n",
       " Row(availibility_updated=-1.9737952646103925),\n",
       " Row(availibility_updated=-2.229787850577939),\n",
       " Row(availibility_updated=-2.251604375197748),\n",
       " Row(availibility_updated=0.1858792955183286),\n",
       " Row(availibility_updated=0.1447158565971413),\n",
       " Row(availibility_updated=-1.9737952646103925),\n",
       " Row(availibility_updated=-2.1464054242385884),\n",
       " Row(availibility_updated=-1.9737952646103925),\n",
       " Row(availibility_updated=-2.122386538890237),\n",
       " Row(availibility_updated=0.020603964461599476),\n",
       " Row(availibility_updated=-2.255311816639346),\n",
       " Row(availibility_updated=-2.229787850577939),\n",
       " Row(availibility_updated=-2.255311816639346),\n",
       " Row(availibility_updated=-2.1945435367780703),\n",
       " Row(availibility_updated=-1.9737952646103925),\n",
       " Row(availibility_updated=-2.2595700138358605),\n",
       " Row(availibility_updated=0.0),\n",
       " Row(availibility_updated=-1.957945079140583),\n",
       " Row(availibility_updated=-1.9737952646103925),\n",
       " Row(availibility_updated=-2.255311816639346),\n",
       " Row(availibility_updated=-1.9737952646103925),\n",
       " Row(availibility_updated=-1.957945079140583),\n",
       " Row(availibility_updated=-2.122386538890237),\n",
       " Row(availibility_updated=-2.255311816639346),\n",
       " Row(availibility_updated=-2.242743915299677),\n",
       " Row(availibility_updated=-2.114854157238719),\n",
       " Row(availibility_updated=-2.242743915299677),\n",
       " Row(availibility_updated=-1.9737952646103925),\n",
       " Row(availibility_updated=-1.9737952646103925),\n",
       " Row(availibility_updated=-2.216208908649657),\n",
       " Row(availibility_updated=-2.122386538890237),\n",
       " Row(availibility_updated=0.0),\n",
       " Row(availibility_updated=-2.122386538890237),\n",
       " Row(availibility_updated=-1.9605261287202598),\n",
       " Row(availibility_updated=-2.243568312075818),\n",
       " Row(availibility_updated=-2.253663023087064),\n",
       " Row(availibility_updated=-2.229787850577939),\n",
       " Row(availibility_updated=-2.1945435367780703),\n",
       " Row(availibility_updated=-2.229787850577939),\n",
       " Row(availibility_updated=-2.255311816639346),\n",
       " Row(availibility_updated=-2.122386538890237),\n",
       " Row(availibility_updated=-2.122386538890237),\n",
       " Row(availibility_updated=-2.1945435367780703),\n",
       " Row(availibility_updated=-2.255311816639346),\n",
       " Row(availibility_updated=-1.9737952646103925),\n",
       " Row(availibility_updated=-1.957945079140583),\n",
       " Row(availibility_updated=-2.1945435367780703),\n",
       " Row(availibility_updated=-2.1945435367780703),\n",
       " Row(availibility_updated=-2.229787850577939),\n",
       " Row(availibility_updated=-2.255311816639346),\n",
       " Row(availibility_updated=-2.1945435367780703),\n",
       " Row(availibility_updated=-2.255311816639346),\n",
       " Row(availibility_updated=-1.9605261287202598),\n",
       " Row(availibility_updated=-1.9605261287202598),\n",
       " Row(availibility_updated=-2.122386538890237),\n",
       " Row(availibility_updated=-2.255311816639346),\n",
       " Row(availibility_updated=-2.114854157238719),\n",
       " Row(availibility_updated=-2.1945435367780703),\n",
       " Row(availibility_updated=-2.255311816639346),\n",
       " Row(availibility_updated=-2.242743915299677),\n",
       " Row(availibility_updated=-1.9737952646103925),\n",
       " Row(availibility_updated=-1.957945079140583)]"
      ]
     },
     "execution_count": 48,
     "metadata": {},
     "output_type": "execute_result"
    }
   ],
   "source": [
    "def computeA():\n",
    "    \"\"\"\n",
    "    if i != k:\n",
    "        a = min([0, R[k, k] + sum([max(0, R[i_prime, k]) for i_prime in range(N) if i_prime != i and i_prime != k])])\n",
    "    else:\n",
    "        a = sum([max(0, R[i_prime, k]) for i_prime in range(N) if i_prime != k])\n",
    "    \"\"\"\n",
    "    \n",
    "    # Remove all rows where i == k and compute the maximum\n",
    "    tmp = sql_c.sql(\"SELECT * FROM R_updated WHERE x1_index != x2_index\")\n",
    "    tmp.createOrReplaceTempView(\"tmp\")\n",
    "    tmp_bis = sql_c.sql(\"SELECT d.index, ru.* FROM data d JOIN tmp ru\")\n",
    "    tmp_bis.createOrReplaceTempView(\"tmp_bis\")\n",
    "    tmp_ter = sql_c.sql(\"SELECT * FROM tmp_bis WHERE index != x1_index AND index != x2_index\")\n",
    "    tmp_ter.createOrReplaceTempView(\"tmp_ter\")\n",
    "    tmp_2 = sql_c.sql(\"SELECT index, x2_index, x1_index FROM tmp_ter\")\n",
    "    tmp_2.createOrReplaceTempView(\"tmp_2\")\n",
    "    tmp_2_bis = sql_c.sql(\"SELECT t.*, ru.responsibility_updated FROM tmp_2 t JOIN R_updated ru ON ru.x1_index = t.index AND ru.x2_index = t.x2_index\")\n",
    "    tmp_2_bis.createOrReplaceTempView(\"tmp_2_bis\")\n",
    "    maximum = sql_c.sql(\"SELECT x1_index, x2_index, sum(if(responsibility_updated < 0, 0, responsibility_updated)) as sum_max_responsibility FROM tmp_2_bis GROUP BY x1_index, x2_index\")\n",
    "    maximum.createOrReplaceTempView(\"maximum_compute_A\")\n",
    " \n",
    "    # Add R[k, k]\n",
    "    tmp_add = sql_c.sql(\"SELECT max.x2_index, max.x2_index, max.x1_index, max.x2_index, max.sum_max_responsibility, ru.responsibility_updated FROM maximum_compute_A max JOIN R_updated ru ON ru.x1_index = max.x2_index AND ru.x2_index = max.x2_index\")\n",
    "    tmp_add.createOrReplaceTempView(\"tmp_add\")\n",
    "    a = sql_c.sql(\"SELECT x1_index, x2_index, if((sum_max_responsibility + responsibility_updated) > 0, 0, sum_max_responsibility + responsibility_updated) as min_sum FROM tmp_add\")\n",
    "    a.createOrReplaceTempView(\"a\")\n",
    "\n",
    "    # Compute the value of a when i == k\n",
    "    R_filter = sql_c.sql(\"SELECT * FROM R_updated WHERE x1_index = x2_index\")\n",
    "    R_filter.createOrReplaceTempView(\"R_filter\")\n",
    "    tmp_max2 = sql_c.sql(\"SELECT d.index, f.* FROM data d JOIN R_filter f WHERE d.index != f.x2_index\")\n",
    "    tmp_max2.createOrReplaceTempView(\"tmp_max2\")\n",
    "    tmp_max2_bis = sql_c.sql(\"SELECT t.index, t.x2_index, t.x1_index, ru.responsibility_updated FROM tmp_max2 t JOIN R_updated ru ON ru.x1_index = t.index AND ru.x2_index = t.x2_index\")\n",
    "    tmp_max2_bis.createOrReplaceTempView(\"tmp_max2_bis\")\n",
    "    max_2 = sql_c.sql(\"SELECT x1_index, x2_index, sum(if(responsibility_updated<0, 0, responsibility_updated)) as min_sum FROM tmp_max2_bis GROUP BY x1_index, x2_index\")\n",
    "    max_2.createOrReplaceTempView(\"max_2\")\n",
    "\n",
    "    # Join both RDDs\n",
    "    union = sql_c.sql(\"SELECT * FROM a UNION ALL SELECT * FROM max_2\")\n",
    "    union.createOrReplaceTempView(\"union\")\n",
    "\n",
    "    # Compute A\n",
    "    A_updated = sql_c.sql(\"SELECT ((1 - 0.5) * u.min_sum) + (0.5 * a.availability) as availibility_updated FROM availability_matrix a JOIN union u ON u.x1_index = a.x1_index AND u.x2_index = a.x2_index\")\n",
    "    A_updated.createOrReplaceTempView(\"A_updated\")\n",
    "\n",
    "    return A_updated\n",
    "\n",
    "test_compute = computeA()\n",
    "test_compute.collect()"
   ]
  },
  {
   "cell_type": "code",
   "execution_count": 9,
   "metadata": {
    "collapsed": false,
    "scrolled": true
   },
   "outputs": [
    {
     "name": "stdout",
     "output_type": "stream",
     "text": [
      "0 iterations done\n",
      "2 iterations done\n"
     ]
    },
    {
     "ename": "Py4JJavaError",
     "evalue": "An error occurred while calling o916.partitions.\n: java.lang.OutOfMemoryError: GC overhead limit exceeded\r\n\tat java.lang.Integer.valueOf(Unknown Source)\r\n\tat scala.runtime.BoxesRunTime.boxToInteger(BoxesRunTime.java:65)\r\n\tat scala.collection.IndexedSeqOptimized$class.zipWithIndex(IndexedSeqOptimized.scala:103)\r\n\tat scala.collection.mutable.ArrayOps$ofRef.zipWithIndex(ArrayOps.scala:186)\r\n\tat org.apache.spark.rdd.RDD$$anonfun$partitions$2.apply(RDD.scala:249)\r\n\tat org.apache.spark.rdd.RDD$$anonfun$partitions$2.apply(RDD.scala:246)\r\n\tat scala.Option.getOrElse(Option.scala:121)\r\n\tat org.apache.spark.rdd.RDD.partitions(RDD.scala:246)\r\n\tat org.apache.spark.api.java.JavaRDDLike$class.partitions(JavaRDDLike.scala:60)\r\n\tat org.apache.spark.api.java.AbstractJavaRDDLike.partitions(JavaRDDLike.scala:45)\r\n\tat sun.reflect.GeneratedMethodAccessor41.invoke(Unknown Source)\r\n\tat sun.reflect.DelegatingMethodAccessorImpl.invoke(Unknown Source)\r\n\tat java.lang.reflect.Method.invoke(Unknown Source)\r\n\tat py4j.reflection.MethodInvoker.invoke(MethodInvoker.java:237)\r\n\tat py4j.reflection.ReflectionEngine.invoke(ReflectionEngine.java:357)\r\n\tat py4j.Gateway.invoke(Gateway.java:280)\r\n\tat py4j.commands.AbstractCommand.invokeMethod(AbstractCommand.java:132)\r\n\tat py4j.commands.CallCommand.execute(CallCommand.java:79)\r\n\tat py4j.GatewayConnection.run(GatewayConnection.java:214)\r\n\tat java.lang.Thread.run(Unknown Source)\r\n",
     "output_type": "error",
     "traceback": [
      "\u001b[0;31m---------------------------------------------------------------------------\u001b[0m",
      "\u001b[0;31mPy4JJavaError\u001b[0m                             Traceback (most recent call last)",
      "\u001b[0;32m<ipython-input-9-020d7c8d1dfb>\u001b[0m in \u001b[0;36m<module>\u001b[0;34m()\u001b[0m\n\u001b[1;32m      4\u001b[0m         \u001b[0mprint\u001b[0m\u001b[1;33m(\u001b[0m\u001b[0miter\u001b[0m\u001b[1;33m,\u001b[0m \u001b[1;34m\"iterations done\"\u001b[0m\u001b[1;33m)\u001b[0m\u001b[1;33m\u001b[0m\u001b[0m\n\u001b[1;32m      5\u001b[0m     \u001b[1;31m# Update r(i, k) given a(i, k)\u001b[0m\u001b[1;33m\u001b[0m\u001b[1;33m\u001b[0m\u001b[0m\n\u001b[0;32m----> 6\u001b[0;31m     \u001b[0mR\u001b[0m \u001b[1;33m=\u001b[0m \u001b[0mcomputeR\u001b[0m\u001b[1;33m(\u001b[0m\u001b[0mA\u001b[0m\u001b[1;33m,\u001b[0m \u001b[0mR\u001b[0m\u001b[1;33m,\u001b[0m \u001b[0mS\u001b[0m\u001b[1;33m,\u001b[0m \u001b[0mN\u001b[0m\u001b[1;33m)\u001b[0m\u001b[1;33m\u001b[0m\u001b[0m\n\u001b[0m\u001b[1;32m      7\u001b[0m \u001b[1;33m\u001b[0m\u001b[0m\n\u001b[1;32m      8\u001b[0m     \u001b[1;31m# Update a(i, k) given r(i, k)\u001b[0m\u001b[1;33m\u001b[0m\u001b[1;33m\u001b[0m\u001b[0m\n",
      "\u001b[0;32m<ipython-input-6-fb2c52b5313e>\u001b[0m in \u001b[0;36mcomputeR\u001b[0;34m(A, R, S, N)\u001b[0m\n\u001b[1;32m      9\u001b[0m \u001b[1;33m\u001b[0m\u001b[0m\n\u001b[1;32m     10\u001b[0m     \u001b[1;31m# Compute r\u001b[0m\u001b[1;33m\u001b[0m\u001b[1;33m\u001b[0m\u001b[0m\n\u001b[0;32m---> 11\u001b[0;31m     \u001b[0mr\u001b[0m \u001b[1;33m=\u001b[0m \u001b[0msc\u001b[0m\u001b[1;33m.\u001b[0m\u001b[0msparkContext\u001b[0m\u001b[1;33m.\u001b[0m\u001b[0munion\u001b[0m\u001b[1;33m(\u001b[0m\u001b[1;33m[\u001b[0m\u001b[0mS\u001b[0m\u001b[1;33m,\u001b[0m \u001b[0mmaximum\u001b[0m\u001b[1;33m]\u001b[0m\u001b[1;33m)\u001b[0m\u001b[1;33m.\u001b[0m\u001b[0mreduceByKey\u001b[0m\u001b[1;33m(\u001b[0m\u001b[0msub\u001b[0m\u001b[1;33m)\u001b[0m\u001b[1;33m\u001b[0m\u001b[0m\n\u001b[0m\u001b[1;32m     12\u001b[0m \u001b[1;33m\u001b[0m\u001b[0m\n\u001b[1;32m     13\u001b[0m     \u001b[1;31m# Compute R\u001b[0m\u001b[1;33m\u001b[0m\u001b[1;33m\u001b[0m\u001b[0m\n",
      "\u001b[0;32mC:\\spark\\python\\pyspark\\rdd.py\u001b[0m in \u001b[0;36mreduceByKey\u001b[0;34m(self, func, numPartitions, partitionFunc)\u001b[0m\n\u001b[1;32m   1572\u001b[0m         \u001b[1;33m[\u001b[0m\u001b[1;33m(\u001b[0m\u001b[1;34m'a'\u001b[0m\u001b[1;33m,\u001b[0m \u001b[1;36m2\u001b[0m\u001b[1;33m)\u001b[0m\u001b[1;33m,\u001b[0m \u001b[1;33m(\u001b[0m\u001b[1;34m'b'\u001b[0m\u001b[1;33m,\u001b[0m \u001b[1;36m1\u001b[0m\u001b[1;33m)\u001b[0m\u001b[1;33m]\u001b[0m\u001b[1;33m\u001b[0m\u001b[0m\n\u001b[1;32m   1573\u001b[0m         \"\"\"\n\u001b[0;32m-> 1574\u001b[0;31m         \u001b[1;32mreturn\u001b[0m \u001b[0mself\u001b[0m\u001b[1;33m.\u001b[0m\u001b[0mcombineByKey\u001b[0m\u001b[1;33m(\u001b[0m\u001b[1;32mlambda\u001b[0m \u001b[0mx\u001b[0m\u001b[1;33m:\u001b[0m \u001b[0mx\u001b[0m\u001b[1;33m,\u001b[0m \u001b[0mfunc\u001b[0m\u001b[1;33m,\u001b[0m \u001b[0mfunc\u001b[0m\u001b[1;33m,\u001b[0m \u001b[0mnumPartitions\u001b[0m\u001b[1;33m,\u001b[0m \u001b[0mpartitionFunc\u001b[0m\u001b[1;33m)\u001b[0m\u001b[1;33m\u001b[0m\u001b[0m\n\u001b[0m\u001b[1;32m   1575\u001b[0m \u001b[1;33m\u001b[0m\u001b[0m\n\u001b[1;32m   1576\u001b[0m     \u001b[1;32mdef\u001b[0m \u001b[0mreduceByKeyLocally\u001b[0m\u001b[1;33m(\u001b[0m\u001b[0mself\u001b[0m\u001b[1;33m,\u001b[0m \u001b[0mfunc\u001b[0m\u001b[1;33m)\u001b[0m\u001b[1;33m:\u001b[0m\u001b[1;33m\u001b[0m\u001b[0m\n",
      "\u001b[0;32mC:\\spark\\python\\pyspark\\rdd.py\u001b[0m in \u001b[0;36mcombineByKey\u001b[0;34m(self, createCombiner, mergeValue, mergeCombiners, numPartitions, partitionFunc)\u001b[0m\n\u001b[1;32m   1782\u001b[0m         \"\"\"\n\u001b[1;32m   1783\u001b[0m         \u001b[1;32mif\u001b[0m \u001b[0mnumPartitions\u001b[0m \u001b[1;32mis\u001b[0m \u001b[1;32mNone\u001b[0m\u001b[1;33m:\u001b[0m\u001b[1;33m\u001b[0m\u001b[0m\n\u001b[0;32m-> 1784\u001b[0;31m             \u001b[0mnumPartitions\u001b[0m \u001b[1;33m=\u001b[0m \u001b[0mself\u001b[0m\u001b[1;33m.\u001b[0m\u001b[0m_defaultReducePartitions\u001b[0m\u001b[1;33m(\u001b[0m\u001b[1;33m)\u001b[0m\u001b[1;33m\u001b[0m\u001b[0m\n\u001b[0m\u001b[1;32m   1785\u001b[0m \u001b[1;33m\u001b[0m\u001b[0m\n\u001b[1;32m   1786\u001b[0m         \u001b[0mserializer\u001b[0m \u001b[1;33m=\u001b[0m \u001b[0mself\u001b[0m\u001b[1;33m.\u001b[0m\u001b[0mctx\u001b[0m\u001b[1;33m.\u001b[0m\u001b[0mserializer\u001b[0m\u001b[1;33m\u001b[0m\u001b[0m\n",
      "\u001b[0;32mC:\\spark\\python\\pyspark\\rdd.py\u001b[0m in \u001b[0;36m_defaultReducePartitions\u001b[0;34m(self)\u001b[0m\n\u001b[1;32m   2183\u001b[0m             \u001b[1;32mreturn\u001b[0m \u001b[0mself\u001b[0m\u001b[1;33m.\u001b[0m\u001b[0mctx\u001b[0m\u001b[1;33m.\u001b[0m\u001b[0mdefaultParallelism\u001b[0m\u001b[1;33m\u001b[0m\u001b[0m\n\u001b[1;32m   2184\u001b[0m         \u001b[1;32melse\u001b[0m\u001b[1;33m:\u001b[0m\u001b[1;33m\u001b[0m\u001b[0m\n\u001b[0;32m-> 2185\u001b[0;31m             \u001b[1;32mreturn\u001b[0m \u001b[0mself\u001b[0m\u001b[1;33m.\u001b[0m\u001b[0mgetNumPartitions\u001b[0m\u001b[1;33m(\u001b[0m\u001b[1;33m)\u001b[0m\u001b[1;33m\u001b[0m\u001b[0m\n\u001b[0m\u001b[1;32m   2186\u001b[0m \u001b[1;33m\u001b[0m\u001b[0m\n\u001b[1;32m   2187\u001b[0m     \u001b[1;32mdef\u001b[0m \u001b[0mlookup\u001b[0m\u001b[1;33m(\u001b[0m\u001b[0mself\u001b[0m\u001b[1;33m,\u001b[0m \u001b[0mkey\u001b[0m\u001b[1;33m)\u001b[0m\u001b[1;33m:\u001b[0m\u001b[1;33m\u001b[0m\u001b[0m\n",
      "\u001b[0;32mC:\\spark\\python\\pyspark\\rdd.py\u001b[0m in \u001b[0;36mgetNumPartitions\u001b[0;34m(self)\u001b[0m\n\u001b[1;32m    354\u001b[0m         \u001b[1;36m2\u001b[0m\u001b[1;33m\u001b[0m\u001b[0m\n\u001b[1;32m    355\u001b[0m         \"\"\"\n\u001b[0;32m--> 356\u001b[0;31m         \u001b[1;32mreturn\u001b[0m \u001b[0mself\u001b[0m\u001b[1;33m.\u001b[0m\u001b[0m_jrdd\u001b[0m\u001b[1;33m.\u001b[0m\u001b[0mpartitions\u001b[0m\u001b[1;33m(\u001b[0m\u001b[1;33m)\u001b[0m\u001b[1;33m.\u001b[0m\u001b[0msize\u001b[0m\u001b[1;33m(\u001b[0m\u001b[1;33m)\u001b[0m\u001b[1;33m\u001b[0m\u001b[0m\n\u001b[0m\u001b[1;32m    357\u001b[0m \u001b[1;33m\u001b[0m\u001b[0m\n\u001b[1;32m    358\u001b[0m     \u001b[1;32mdef\u001b[0m \u001b[0mfilter\u001b[0m\u001b[1;33m(\u001b[0m\u001b[0mself\u001b[0m\u001b[1;33m,\u001b[0m \u001b[0mf\u001b[0m\u001b[1;33m)\u001b[0m\u001b[1;33m:\u001b[0m\u001b[1;33m\u001b[0m\u001b[0m\n",
      "\u001b[0;32mC:\\spark\\python\\lib\\py4j-0.10.3-src.zip\\py4j\\java_gateway.py\u001b[0m in \u001b[0;36m__call__\u001b[0;34m(self, *args)\u001b[0m\n\u001b[1;32m   1131\u001b[0m         \u001b[0manswer\u001b[0m \u001b[1;33m=\u001b[0m \u001b[0mself\u001b[0m\u001b[1;33m.\u001b[0m\u001b[0mgateway_client\u001b[0m\u001b[1;33m.\u001b[0m\u001b[0msend_command\u001b[0m\u001b[1;33m(\u001b[0m\u001b[0mcommand\u001b[0m\u001b[1;33m)\u001b[0m\u001b[1;33m\u001b[0m\u001b[0m\n\u001b[1;32m   1132\u001b[0m         return_value = get_return_value(\n\u001b[0;32m-> 1133\u001b[0;31m             answer, self.gateway_client, self.target_id, self.name)\n\u001b[0m\u001b[1;32m   1134\u001b[0m \u001b[1;33m\u001b[0m\u001b[0m\n\u001b[1;32m   1135\u001b[0m         \u001b[1;32mfor\u001b[0m \u001b[0mtemp_arg\u001b[0m \u001b[1;32min\u001b[0m \u001b[0mtemp_args\u001b[0m\u001b[1;33m:\u001b[0m\u001b[1;33m\u001b[0m\u001b[0m\n",
      "\u001b[0;32mC:\\spark\\python\\pyspark\\sql\\utils.py\u001b[0m in \u001b[0;36mdeco\u001b[0;34m(*a, **kw)\u001b[0m\n\u001b[1;32m     61\u001b[0m     \u001b[1;32mdef\u001b[0m \u001b[0mdeco\u001b[0m\u001b[1;33m(\u001b[0m\u001b[1;33m*\u001b[0m\u001b[0ma\u001b[0m\u001b[1;33m,\u001b[0m \u001b[1;33m**\u001b[0m\u001b[0mkw\u001b[0m\u001b[1;33m)\u001b[0m\u001b[1;33m:\u001b[0m\u001b[1;33m\u001b[0m\u001b[0m\n\u001b[1;32m     62\u001b[0m         \u001b[1;32mtry\u001b[0m\u001b[1;33m:\u001b[0m\u001b[1;33m\u001b[0m\u001b[0m\n\u001b[0;32m---> 63\u001b[0;31m             \u001b[1;32mreturn\u001b[0m \u001b[0mf\u001b[0m\u001b[1;33m(\u001b[0m\u001b[1;33m*\u001b[0m\u001b[0ma\u001b[0m\u001b[1;33m,\u001b[0m \u001b[1;33m**\u001b[0m\u001b[0mkw\u001b[0m\u001b[1;33m)\u001b[0m\u001b[1;33m\u001b[0m\u001b[0m\n\u001b[0m\u001b[1;32m     64\u001b[0m         \u001b[1;32mexcept\u001b[0m \u001b[0mpy4j\u001b[0m\u001b[1;33m.\u001b[0m\u001b[0mprotocol\u001b[0m\u001b[1;33m.\u001b[0m\u001b[0mPy4JJavaError\u001b[0m \u001b[1;32mas\u001b[0m \u001b[0me\u001b[0m\u001b[1;33m:\u001b[0m\u001b[1;33m\u001b[0m\u001b[0m\n\u001b[1;32m     65\u001b[0m             \u001b[0ms\u001b[0m \u001b[1;33m=\u001b[0m \u001b[0me\u001b[0m\u001b[1;33m.\u001b[0m\u001b[0mjava_exception\u001b[0m\u001b[1;33m.\u001b[0m\u001b[0mtoString\u001b[0m\u001b[1;33m(\u001b[0m\u001b[1;33m)\u001b[0m\u001b[1;33m\u001b[0m\u001b[0m\n",
      "\u001b[0;32mC:\\spark\\python\\lib\\py4j-0.10.3-src.zip\\py4j\\protocol.py\u001b[0m in \u001b[0;36mget_return_value\u001b[0;34m(answer, gateway_client, target_id, name)\u001b[0m\n\u001b[1;32m    317\u001b[0m                 raise Py4JJavaError(\n\u001b[1;32m    318\u001b[0m                     \u001b[1;34m\"An error occurred while calling {0}{1}{2}.\\n\"\u001b[0m\u001b[1;33m.\u001b[0m\u001b[1;33m\u001b[0m\u001b[0m\n\u001b[0;32m--> 319\u001b[0;31m                     format(target_id, \".\", name), value)\n\u001b[0m\u001b[1;32m    320\u001b[0m             \u001b[1;32melse\u001b[0m\u001b[1;33m:\u001b[0m\u001b[1;33m\u001b[0m\u001b[0m\n\u001b[1;32m    321\u001b[0m                 raise Py4JError(\n",
      "\u001b[0;31mPy4JJavaError\u001b[0m: An error occurred while calling o916.partitions.\n: java.lang.OutOfMemoryError: GC overhead limit exceeded\r\n\tat java.lang.Integer.valueOf(Unknown Source)\r\n\tat scala.runtime.BoxesRunTime.boxToInteger(BoxesRunTime.java:65)\r\n\tat scala.collection.IndexedSeqOptimized$class.zipWithIndex(IndexedSeqOptimized.scala:103)\r\n\tat scala.collection.mutable.ArrayOps$ofRef.zipWithIndex(ArrayOps.scala:186)\r\n\tat org.apache.spark.rdd.RDD$$anonfun$partitions$2.apply(RDD.scala:249)\r\n\tat org.apache.spark.rdd.RDD$$anonfun$partitions$2.apply(RDD.scala:246)\r\n\tat scala.Option.getOrElse(Option.scala:121)\r\n\tat org.apache.spark.rdd.RDD.partitions(RDD.scala:246)\r\n\tat org.apache.spark.api.java.JavaRDDLike$class.partitions(JavaRDDLike.scala:60)\r\n\tat org.apache.spark.api.java.AbstractJavaRDDLike.partitions(JavaRDDLike.scala:45)\r\n\tat sun.reflect.GeneratedMethodAccessor41.invoke(Unknown Source)\r\n\tat sun.reflect.DelegatingMethodAccessorImpl.invoke(Unknown Source)\r\n\tat java.lang.reflect.Method.invoke(Unknown Source)\r\n\tat py4j.reflection.MethodInvoker.invoke(MethodInvoker.java:237)\r\n\tat py4j.reflection.ReflectionEngine.invoke(ReflectionEngine.java:357)\r\n\tat py4j.Gateway.invoke(Gateway.java:280)\r\n\tat py4j.commands.AbstractCommand.invokeMethod(AbstractCommand.java:132)\r\n\tat py4j.commands.CallCommand.execute(CallCommand.java:79)\r\n\tat py4j.GatewayConnection.run(GatewayConnection.java:214)\r\n\tat java.lang.Thread.run(Unknown Source)\r\n"
     ]
    }
   ],
   "source": [
    "import time\n",
    "\n",
    "# Start the timer\n",
    "startTime = time.time()\n",
    "\n",
    "iterations = 10\n",
    "for iter in range(iterations):\n",
    "    if iter % 2 == 0:\n",
    "        print(iter, \"iterations done\")\n",
    "    # Update r(i, k) given a(i, k)\n",
    "    R = computeR()\n",
    "    \n",
    "    \n",
    "    # Actually execute the code\n",
    "    A = computeA()\n",
    "    #R_exec = R.collect()\n",
    "    #R = sc.parallelize(R_exec)\n",
    "    \n",
    "    \n",
    "# Stop the timer and print the exectution time\n",
    "\n",
    "results = R.collect()\n",
    "\n",
    "print(\"Exec: --- %s seconds ---\" % (time.time() - startTime))"
   ]
  }
 ],
 "metadata": {
  "anaconda-cloud": {},
  "kernelspec": {
   "display_name": "Python [conda root]",
   "language": "python",
   "name": "conda-root-py"
  },
  "language_info": {
   "codemirror_mode": {
    "name": "ipython",
    "version": 3
   },
   "file_extension": ".py",
   "mimetype": "text/x-python",
   "name": "python",
   "nbconvert_exporter": "python",
   "pygments_lexer": "ipython3",
   "version": "3.5.2"
  }
 },
 "nbformat": 4,
 "nbformat_minor": 1
}
