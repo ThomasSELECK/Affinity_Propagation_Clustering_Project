{
 "cells": [
  {
   "cell_type": "code",
   "execution_count": 1,
   "metadata": {
    "collapsed": true
   },
   "outputs": [],
   "source": [
    "import numpy as np\n",
    "import matplotlib.pyplot as plt\n",
    "import pandas as pd\n",
    "from operator import add, sub"
   ]
  },
  {
   "cell_type": "code",
   "execution_count": 13,
   "metadata": {
    "collapsed": false
   },
   "outputs": [],
   "source": [
    "from pyspark import SparkContext\n",
    "\n",
    "sc.stop()\n",
    "\n",
    "sc = SparkContext(\"local\", \"App Name\", pyFiles=['C:/Users/Maxence/Desktop/Mapper.py'])\n",
    "\n",
    "sc.setSystemProperty('spark.executor.memory', '2g')\n",
    "sc.setSystemProperty('spark.executor.cores', '4')"
   ]
  },
  {
   "cell_type": "code",
   "execution_count": 17,
   "metadata": {
    "collapsed": false
   },
   "outputs": [
    {
     "data": {
      "image/png": "[encoded data removed]",
      "text/plain": [
       "<matplotlib.figure.Figure at 0x1ae2fd23780>"
      ]
     },
     "metadata": {},
     "output_type": "display_data"
    }
   ],
   "source": [
    "# Temporary cell. To be deleted later\n",
    "\n",
    "N = 4\n",
    "x_1 = np.random.multivariate_normal(mean = [0,0], cov = [[0.1,0],[0,0.1]], size = N)\n",
    "x_2 = np.random.multivariate_normal(mean = [3,0], cov = [[0.3,-0.1],[-0.1,0.2]], size = N)\n",
    "x_3 = np.random.multivariate_normal(mean = [0,3], cov = [[0.2,0],[0,0.2]], size = N)\n",
    "N = 3 * N\n",
    "X = np.concatenate((x_1, x_2, x_3))\n",
    "\n",
    "plt.scatter(X[:,0], X[:,1])\n",
    "plt.show()\n",
    "\n",
    "#pd.DataFrame(X).to_csv(\"gaussian_data.txt\", sep=\"\\t\", header=None, index=True)"
   ]
  },
  {
   "cell_type": "code",
   "execution_count": 18,
   "metadata": {
    "collapsed": false
   },
   "outputs": [
    {
     "data": {
      "text/plain": [
       "<Mapper.Mapper at 0x1ae32ad1400>"
      ]
     },
     "execution_count": 18,
     "metadata": {},
     "output_type": "execute_result"
    }
   ],
   "source": [
    "from Mapper import *\n",
    "Mapper(X)"
   ]
  },
  {
   "cell_type": "code",
   "execution_count": 19,
   "metadata": {
    "collapsed": false
   },
   "outputs": [
    {
     "name": "stdout",
     "output_type": "stream",
     "text": [
      "root\n",
      " |-- index: long (nullable = true)\n",
      " |-- x1: double (nullable = true)\n",
      " |-- x2: double (nullable = true)\n",
      "\n"
     ]
    }
   ],
   "source": [
    "#Permet de convertir le RDD en Data Frame. On pourra directement créer un dataframe plus tard\n",
    "from pyspark.sql.types import *\n",
    "sql_c = SQLContext(sc)\n",
    "\n",
    "lines = sc.textFile(\"gaussian_data.csv\")\n",
    "parts = lines.map(lambda l: l.split(\"\\t\"))\n",
    "\n",
    "#Conversion de chaque ligne en format int ou float pour l'intégration ultérieure au DataFrame\n",
    "data = parts.map(lambda p: (int(p[0]), float(p[1]), float(p[2])))\n",
    "\n",
    "#Création du DataFrame\n",
    "spark_data = sql_c.createDataFrame(data, schema=(\"index\",\"x1\",\"x2\"))\n",
    "\n",
    "#Cette instruction permet d'autoriser les produits cartésiens. Sinon, spark bloque cette opération par défaut\n",
    "sql_c.setConf(\"spark.sql.crossJoin.enabled\", True)\n",
    "\n",
    "#L'instruction createOrReplaceTempView permet de créer une View pour effectuer des opérations SQL\n",
    "spark_data.createOrReplaceTempView(\"data\")\n",
    "spark_data.printSchema()"
   ]
  },
  {
   "cell_type": "code",
   "execution_count": 21,
   "metadata": {
    "collapsed": false
   },
   "outputs": [
    {
     "name": "stdout",
     "output_type": "stream",
     "text": [
      "+-----+--------------------+--------------------+\n",
      "|index|                  x1|                  x2|\n",
      "+-----+--------------------+--------------------+\n",
      "|    0|-0.32348370312099217|-0.04439774349688147|\n",
      "|    1|  0.0629585045493585| 0.18134902706122666|\n",
      "|    2| -0.1247764738311745|-0.16704490375482864|\n",
      "|    3| -0.2351423604041935|-0.26804989117924266|\n",
      "|    4|  2.6862027295781523|-0.17691842971400198|\n",
      "|    5|  3.6127378495457303| -0.7978262411909502|\n",
      "|    6|  3.9101371436256858|-0.16402333935541125|\n",
      "|    7|   2.803154714725354| -0.0731413132245947|\n",
      "|    8|-0.08914572728042147|  2.8013828859258862|\n",
      "|    9| -0.5521156252383028|   2.512836733774541|\n",
      "|   10|  0.6754209723875768|   2.842196629280239|\n",
      "|   11|-0.09335682900449731|  2.9949710227720954|\n",
      "+-----+--------------------+--------------------+\n",
      "\n"
     ]
    }
   ],
   "source": [
    "spark_data.show()"
   ]
  },
  {
   "cell_type": "code",
   "execution_count": 21,
   "metadata": {
    "collapsed": false,
    "scrolled": true
   },
   "outputs": [
    {
     "name": "stdout",
     "output_type": "stream",
     "text": [
      "+--------+--------+--------------------+\n",
      "|x1_index|x2_index|        similarities|\n",
      "+--------+--------+--------------------+\n",
      "|       0|       0|  -9.075774155448759|\n",
      "|       0|       1|-0.20029918428654955|\n",
      "|       0|       2|-0.05452688889137475|\n",
      "|       0|       3|-0.05782447599593958|\n",
      "|       0|       4|  -9.075774155448759|\n",
      "|       0|       5| -16.061494612815565|\n",
      "|       0|       6|  -17.93785575719257|\n",
      "|       0|       7|  -9.776693988753395|\n",
      "|       0|       8|    -8.1533816777189|\n",
      "|       0|       9| -6.5917207275567025|\n",
      "|       0|      10|  -9.330237623701416|\n",
      "|       0|      11|  -9.290720875562032|\n",
      "|       1|       0|-0.20029918428654955|\n",
      "|       1|       1|  -9.075774155448759|\n",
      "|       1|       2|-0.15662275313700152|\n",
      "|       1|       3| -0.2908235134017599|\n",
      "|       1|       4|  -7.009765834731108|\n",
      "|       1|       5| -13.559717604119594|\n",
      "|       1|       6| -14.920065552449412|\n",
      "|       1|       7|  -7.573440603561684|\n",
      "+--------+--------+--------------------+\n",
      "only showing top 20 rows\n",
      "\n"
     ]
    }
   ],
   "source": [
    "def generateSimilarityMatrix():\n",
    "    #Permet de faire le produit cartésien. Je n'ai pas réussi à faire fonctionner la fonction pow() ou power(), donc je fait le carré manuellement\n",
    "    cartesian_similarities = sql_c.sql(\"SELECT d1.index as x1_index, d2.index as x2_index, -((d1.x1 - d2.x1) * (d1.x1 - d2.x1)) as similarity_x1, -((d1.x2 - d2.x2) * (d1.x2 - d2.x2)) as similarity_x2  FROM data d1 JOIN data d2\")\n",
    "    \n",
    "    #Créer une View du produit cartésien\n",
    "    cartesian_similarities.createOrReplaceTempView(\"cartesian_similarities\")\n",
    "    \n",
    "    #Somme des similarités + création d'une view\n",
    "    sum_similarites = sql_c.sql(\"SELECT x1_index, x2_index, (similarity_x1 + similarity_x2) as similarity_without_diagonal FROM cartesian_similarities\")\n",
    "    sum_similarites.createOrReplaceTempView(\"sum_similarites\")\n",
    "\n",
    "    #Calcul de la médiane // On supprime les 0 et on calcule la médiane\n",
    "    sum_similarites_without_diagonal = sql_c.sql(\"SELECT *  FROM sum_similarites HAVING similarity_without_diagonal != 0\")\n",
    "    sum_similarites.createOrReplaceTempView(\"sum_similarites_without_diagonal\")\n",
    "\n",
    "    #Mediane est fausse\n",
    "    median = sum_similarites_without_diagonal.approxQuantile(\"similarity_without_diagonal\", [0.5], 0)[0]\n",
    "\n",
    "    #Remplace la diagonale par la médiane\n",
    "    similarity_matrix = sql_c.sql(\"SELECT x1_index, x2_index, if(similarity_without_diagonal=0, '%s', similarity_without_diagonal) as similarities FROM sum_similarites\" % median)\n",
    "    similarity_matrix.createOrReplaceTempView(\"Similarity_matrix\")\n",
    "\n",
    "    return similarity_matrix\n",
    "\n",
    "generateSimilarityMatrix().show()"
   ]
  },
  {
   "cell_type": "code",
   "execution_count": 25,
   "metadata": {
    "collapsed": false,
    "scrolled": true
   },
   "outputs": [],
   "source": [
    "def initializeAvailibityAndResponsibilityMatrices(N):\n",
    "\n",
    "    # Create A and R matrices\n",
    "    A = sc.parallelize(range(N)).flatMap(lambda x: [(x, y, 0) for y in range(N)])\n",
    "    R = sc.parallelize(range(N)).flatMap(lambda x: [(x, y, 0) for y in range(N)])\n",
    "\n",
    "    # Each line is converted to a tuple.\n",
    "    A = A.map(lambda p: (int(p[0]), int(p[1]), float(p[2])))\n",
    "    R = R.map(lambda p: (int(p[0]), int(p[1]), float(p[2])))\n",
    "\n",
    "    # Apply the schema to the RDD.\n",
    "    A_spark = sql_c.createDataFrame(A, schema=(\"x1_index\",\"x2_index\",\"availability\"))\n",
    "    R_spark = sql_c.createDataFrame(R, schema=(\"x1_index\",\"x2_index\",\"responsibility\"))\n",
    "\n",
    "    #Créé les tables sql\n",
    "    A_spark.createOrReplaceTempView(\"availability_matrix\")\n",
    "    R_spark.createOrReplaceTempView(\"responsibility_matrix\")\n",
    "    \n",
    "    return A_spark, R_spark\n",
    "\n",
    "initializeAvailibityAndResponsibilityMatrices(N)"
   ]
  },
  {
   "cell_type": "code",
   "execution_count": 8,
   "metadata": {
    "collapsed": false,
    "scrolled": false
   },
   "outputs": [],
   "source": [
    "def computeR(): #computeR(A, R, S, N)\n",
    "    # Compute the sum of A and S\n",
    "    sum_A_S = sql_c.sql(\"SELECT t.x1_index, t.x2_index, sum(t.sim_availability) as sim_availability FROM(SELECT  x1_index, x2_index, similarities as sim_availability FROM similarity_matrix UNION ALL SELECT x1_index, x2_index, availability as sim_availability FROM availability_matrix)t GROUP BY t.x1_index, t.x2_index ORDER BY t.x1_index, t.x2_index\") \n",
    "    sum_A_S.createOrReplaceTempView(\"sum_A_S\")\n",
    "\n",
    "    # Remove all rows where i == k and compute the maximum\n",
    "    sum_A_S_cartesian = sql_c.sql(\"SELECT  d.index, s.x2_index, s.x1_index, s.sim_availability FROM data d JOIN sum_A_S s WHERE d.index != s.x2_index\")\n",
    "    sum_A_S_cartesian.createOrReplaceTempView(\"sum_A_S_cartesian\")\n",
    "    maximum = sql_c.sql(\"SELECT x1_index, index, max(sim_availability) as maximum FROM sum_A_S_cartesian GROUP BY x1_index, index\")\n",
    "    maximum.createOrReplaceTempView(\"maximum\")\n",
    "\n",
    "    # Compute r\n",
    "    responsibility_matrix_updated = sql_c.sql(\"SELECT x1_index, x2_index, sum(r_value) as r FROM (SELECT x1_index, x2_index, similarities as r_value FROM Similarity_matrix UNION ALL SELECT x1_index, index as x2_index, maximum*(-1) as r_value FROM maximum)t GROUP BY t.x1_index, t.x2_index\")\n",
    "    responsibility_matrix_updated.createOrReplaceTempView(\"responsibility_matrix_updated\")\n",
    "    \n",
    "    # Compute R\n",
    "    R_updated = sql_c.sql(\"SELECT rmu.x1_index, rmu.x2_index, ((1 - 0.5)* rmu.r) + (0.5 * rm.responsibility) as responsibility_updated FROM responsibility_matrix rm JOIN responsibility_matrix_updated rmu ON rm.x1_index = rmu.x1_index AND rm.x2_index = rmu.x2_index\") #% lambdaValue  \n",
    "    R_updated.createOrReplaceTempView(\"R_updated\")\n",
    "    \n",
    "    return R_updated"
   ]
  },
  {
   "cell_type": "code",
   "execution_count": 9,
   "metadata": {
    "collapsed": false
   },
   "outputs": [],
   "source": [
    "def computeA():\n",
    "    \"\"\"\n",
    "    if i != k:\n",
    "        a = min([0, R[k, k] + sum([max(0, R[i_prime, k]) for i_prime in range(N) if i_prime != i and i_prime != k])])\n",
    "    else:\n",
    "        a = sum([max(0, R[i_prime, k]) for i_prime in range(N) if i_prime != k])\n",
    "    \"\"\"\n",
    "    \n",
    "    # Remove all rows where i == k and compute the maximum\n",
    "    tmp = sql_c.sql(\"SELECT * FROM R_updated WHERE x1_index != x2_index\")\n",
    "    tmp.createOrReplaceTempView(\"tmp\")\n",
    "    tmp_bis = sql_c.sql(\"SELECT d.index, ru.* FROM data d JOIN tmp ru\")\n",
    "    tmp_bis.createOrReplaceTempView(\"tmp_bis\")\n",
    "    tmp_ter = sql_c.sql(\"SELECT * FROM tmp_bis WHERE index != x1_index AND index != x2_index\")\n",
    "    tmp_ter.createOrReplaceTempView(\"tmp_ter\")\n",
    "    tmp_2 = sql_c.sql(\"SELECT index, x2_index, x1_index FROM tmp_ter\")\n",
    "    tmp_2.createOrReplaceTempView(\"tmp_2\")\n",
    "    tmp_2_bis = sql_c.sql(\"SELECT t.*, ru.responsibility_updated FROM tmp_2 t JOIN R_updated ru ON ru.x1_index = t.index AND ru.x2_index = t.x2_index\")\n",
    "    tmp_2_bis.createOrReplaceTempView(\"tmp_2_bis\")\n",
    "    maximum = sql_c.sql(\"SELECT x1_index, x2_index, sum(if(responsibility_updated < 0, 0, responsibility_updated)) as sum_max_responsibility FROM tmp_2_bis GROUP BY x1_index, x2_index\")\n",
    "    maximum.createOrReplaceTempView(\"maximum_compute_A\")\n",
    " \n",
    "    # Add R[k, k]\n",
    "    tmp_add = sql_c.sql(\"SELECT max.x2_index, max.x2_index, max.x1_index, max.x2_index, max.sum_max_responsibility, ru.responsibility_updated FROM maximum_compute_A max JOIN R_updated ru ON ru.x1_index = max.x2_index AND ru.x2_index = max.x2_index\")\n",
    "    tmp_add.createOrReplaceTempView(\"tmp_add\")\n",
    "    a = sql_c.sql(\"SELECT x1_index, x2_index, if((sum_max_responsibility + responsibility_updated) > 0, 0, sum_max_responsibility + responsibility_updated) as min_sum FROM tmp_add\")\n",
    "    a.createOrReplaceTempView(\"a\")\n",
    "\n",
    "    # Compute the value of a when i == k\n",
    "    R_filter = sql_c.sql(\"SELECT * FROM R_updated WHERE x1_index = x2_index\")\n",
    "    R_filter.createOrReplaceTempView(\"R_filter\")\n",
    "    tmp_max2 = sql_c.sql(\"SELECT d.index, f.* FROM data d JOIN R_filter f WHERE d.index != f.x2_index\")\n",
    "    tmp_max2.createOrReplaceTempView(\"tmp_max2\")\n",
    "    tmp_max2_bis = sql_c.sql(\"SELECT t.index, t.x2_index, t.x1_index, ru.responsibility_updated FROM tmp_max2 t JOIN R_updated ru ON ru.x1_index = t.index AND ru.x2_index = t.x2_index\")\n",
    "    tmp_max2_bis.createOrReplaceTempView(\"tmp_max2_bis\")\n",
    "    max_2 = sql_c.sql(\"SELECT x1_index, x2_index, sum(if(responsibility_updated<0, 0, responsibility_updated)) as min_sum FROM tmp_max2_bis GROUP BY x1_index, x2_index\")\n",
    "    max_2.createOrReplaceTempView(\"max_2\")\n",
    "\n",
    "    # Join both RDDs\n",
    "    union = sql_c.sql(\"SELECT * FROM a UNION ALL SELECT * FROM max_2\")\n",
    "    union.createOrReplaceTempView(\"union\")\n",
    "\n",
    "    # Compute A\n",
    "    A_updated = sql_c.sql(\"SELECT ((1 - 0.5) * u.min_sum) + (0.5 * a.availability) as availibility_updated FROM availability_matrix a JOIN union u ON u.x1_index = a.x1_index AND u.x2_index = a.x2_index\")\n",
    "    A_updated.createOrReplaceTempView(\"A_updated\")\n",
    "\n",
    "    return A_updated"
   ]
  },
  {
   "cell_type": "code",
   "execution_count": 10,
   "metadata": {
    "collapsed": false,
    "scrolled": true
   },
   "outputs": [
    {
     "name": "stdout",
     "output_type": "stream",
     "text": [
      "0 iterations done\n",
      "2 iterations done\n",
      "4 iterations done\n",
      "6 iterations done\n",
      "8 iterations done\n",
      "Exec: --- 1068.3034920692444 seconds ---\n"
     ]
    }
   ],
   "source": [
    "import time\n",
    "\n",
    "# Start the timer\n",
    "startTime = time.time()\n",
    "\n",
    "iterations = 10\n",
    "for iter in range(iterations):\n",
    "    if iter % 2 == 0:\n",
    "        print(iter, \"iterations done\")\n",
    "    # Update r(i, k) given a(i, k)\n",
    "    R = computeR()\n",
    "    \n",
    "    # Actually execute the code\n",
    "    A = computeA()\n",
    "\n",
    "R_final = R.collect()\n",
    "A_final = A.collect()\n",
    "\n",
    "print(\"Exec: --- %s seconds ---\" % (time.time() - startTime))"
   ]
  },
  {
   "cell_type": "code",
   "execution_count": 12,
   "metadata": {
    "collapsed": false,
    "scrolled": true
   },
   "outputs": [
    {
     "data": {
      "text/plain": [
       "[Row(x1_index=3, x2_index=0, responsibility_updated=-0.017720919796142525),\n",
       " Row(x1_index=8, x2_index=7, responsibility_updated=-8.295398559111602),\n",
       " Row(x1_index=3, x2_index=5, responsibility_updated=-7.532231227376172),\n",
       " Row(x1_index=4, x2_index=0, responsibility_updated=-4.525663349356016),\n",
       " Row(x1_index=11, x2_index=11, responsibility_updated=-4.519140027671721),\n",
       " Row(x1_index=2, x2_index=6, responsibility_updated=-8.129077196893286),\n",
       " Row(x1_index=1, x2_index=3, responsibility_updated=-0.06710038013237918),\n",
       " Row(x1_index=7, x2_index=8, responsibility_updated=-8.301921880795897),\n",
       " Row(x1_index=9, x2_index=3, responsibility_updated=-3.768101231564982),\n",
       " Row(x1_index=4, x2_index=7, responsibility_updated=0.6097731910748501),\n",
       " Row(x1_index=8, x2_index=9, responsibility_updated=-0.13005295411558057),\n",
       " Row(x1_index=0, x2_index=11, responsibility_updated=-4.618096993335329),\n",
       " Row(x1_index=2, x2_index=5, responsibility_updated=-7.172257888350786),\n",
       " Row(x1_index=7, x2_index=3, responsibility_updated=-4.622395506882169),\n",
       " Row(x1_index=11, x2_index=6, responsibility_updated=-12.984857634367131),\n",
       " Row(x1_index=5, x2_index=6, responsibility_updated=0.34522031925639174),\n",
       " Row(x1_index=9, x2_index=5, responsibility_updated=-14.004446895945758),\n",
       " Row(x1_index=11, x2_index=2, responsibility_updated=-4.9809189067928195),\n",
       " Row(x1_index=1, x2_index=0, responsibility_updated=-0.021838215574774014),\n",
       " Row(x1_index=7, x2_index=7, responsibility_updated=-4.525663349356016),\n",
       " Row(x1_index=10, x2_index=7, responsibility_updated=-6.220109098701615),\n",
       " Row(x1_index=2, x2_index=9, responsibility_updated=-3.671000852544403),\n",
       " Row(x1_index=5, x2_index=1, responsibility_updated=-6.534782572812595),\n",
       " Row(x1_index=11, x2_index=7, responsibility_updated=-8.88279916457502),\n",
       " Row(x1_index=10, x2_index=11, responsibility_updated=-0.01406566166611295),\n",
       " Row(x1_index=1, x2_index=1, responsibility_updated=-4.459575701155878),\n",
       " Row(x1_index=0, x2_index=10, responsibility_updated=-4.637855367405021),\n",
       " Row(x1_index=0, x2_index=9, responsibility_updated=-3.268596919332664),\n",
       " Row(x1_index=3, x2_index=4, responsibility_updated=-4.260089720814547),\n",
       " Row(x1_index=4, x2_index=10, responsibility_updated=-6.566925778879746),\n",
       " Row(x1_index=10, x2_index=9, responsibility_updated=-0.5145480196953174),\n",
       " Row(x1_index=3, x2_index=8, responsibility_updated=-4.710174976823565),\n",
       " Row(x1_index=10, x2_index=6, responsibility_updated=-9.457259604202623),\n",
       " Row(x1_index=7, x2_index=1, responsibility_updated=-3.7744965734124785),\n",
       " Row(x1_index=8, x2_index=1, responsibility_updated=-3.4251095094162247),\n",
       " Row(x1_index=11, x2_index=9, responsibility_updated=-0.20270950282187514),\n",
       " Row(x1_index=0, x2_index=1, responsibility_updated=-0.0728861476975874),\n",
       " Row(x1_index=11, x2_index=5, responsibility_updated=-14.041477375899282),\n",
       " Row(x1_index=1, x2_index=4, responsibility_updated=-3.4265715407970534),\n",
       " Row(x1_index=8, x2_index=5, responsibility_updated=-13.310377128495503),\n",
       " Row(x1_index=0, x2_index=4, responsibility_updated=-4.510623633278692),\n",
       " Row(x1_index=11, x2_index=1, responsibility_updated=-3.9517045590733737),\n",
       " Row(x1_index=4, x2_index=5, responsibility_updated=-0.6097731910748501),\n",
       " Row(x1_index=7, x2_index=4, responsibility_updated=0.5780728201352309),\n",
       " Row(x1_index=5, x2_index=9, responsibility_updated=-13.908170670866793),\n",
       " Row(x1_index=7, x2_index=2, responsibility_updated=-4.278575736249895),\n",
       " Row(x1_index=4, x2_index=3, responsibility_updated=-4.259057310648011),\n",
       " Row(x1_index=9, x2_index=10, responsibility_updated=-0.6588620154709833),\n",
       " Row(x1_index=6, x2_index=1, responsibility_updated=-7.214956546977503),\n",
       " Row(x1_index=4, x2_index=8, responsibility_updated=-8.274195163496413),\n",
       " Row(x1_index=10, x2_index=10, responsibility_updated=-4.244773077780474),\n",
       " Row(x1_index=6, x2_index=9, responsibility_updated=-13.293563582928611),\n",
       " Row(x1_index=4, x2_index=4, responsibility_updated=-4.525663349356016),\n",
       " Row(x1_index=10, x2_index=2, responsibility_updated=-4.554811278595222),\n",
       " Row(x1_index=2, x2_index=8, responsibility_updated=-4.395225228122422),\n",
       " Row(x1_index=10, x2_index=8, responsibility_updated=0.01406566166611295),\n",
       " Row(x1_index=4, x2_index=9, responsibility_updated=-8.848520574958851),\n",
       " Row(x1_index=5, x2_index=8, responsibility_updated=-13.084047949300958),\n",
       " Row(x1_index=7, x2_index=10, responsibility_updated=-6.500999370277157),\n",
       " Row(x1_index=8, x2_index=3, responsibility_updated=-4.702619244972733),\n",
       " Row(x1_index=5, x2_index=7, responsibility_updated=-0.34522031925639174),\n",
       " Row(x1_index=1, x2_index=11, responsibility_updated=-3.892140232557532),\n",
       " Row(x1_index=3, x2_index=3, responsibility_updated=-4.5266957595225525),\n",
       " Row(x1_index=0, x2_index=3, responsibility_updated=-0.0016487935522824168),\n",
       " Row(x1_index=0, x2_index=7, responsibility_updated=-4.861083549931011),\n",
       " Row(x1_index=6, x2_index=8, responsibility_updated=-12.14887255198283),\n",
       " Row(x1_index=4, x2_index=2, responsibility_updated=-3.938627055888937),\n",
       " Row(x1_index=7, x2_index=6, responsibility_updated=-0.6046110919154963),\n",
       " Row(x1_index=9, x2_index=8, responsibility_updated=0.07265654870629457),\n",
       " Row(x1_index=1, x2_index=5, responsibility_updated=-6.701547425491296),\n",
       " Row(x1_index=2, x2_index=7, responsibility_updated=-4.2796081464164315),\n",
       " Row(x1_index=2, x2_index=3, responsibility_updated=0.01607212624386011),\n",
       " Row(x1_index=11, x2_index=0, responsibility_updated=-4.626613387728358),\n",
       " Row(x1_index=11, x2_index=4, responsibility_updated=-8.874669969197706),\n",
       " Row(x1_index=1, x2_index=6, responsibility_updated=-7.381721399656205),\n",
       " Row(x1_index=6, x2_index=6, responsibility_updated=-4.292810848477177),\n",
       " Row(x1_index=10, x2_index=4, responsibility_updated=-6.286035507304204),\n",
       " Row(x1_index=9, x2_index=11, responsibility_updated=-0.07265654870629457),\n",
       " Row(x1_index=7, x2_index=9, responsibility_updated=-8.960337028532289),\n",
       " Row(x1_index=2, x2_index=11, responsibility_updated=-4.988474638643651),\n",
       " Row(x1_index=5, x2_index=2, responsibility_updated=-6.93837297730541),\n",
       " Row(x1_index=7, x2_index=0, responsibility_updated=-4.876123266008334),\n",
       " Row(x1_index=9, x2_index=4, responsibility_updated=-8.711944299158976),\n",
       " Row(x1_index=10, x2_index=1, responsibility_updated=-3.434496118428669),\n",
       " Row(x1_index=3, x2_index=2, responsibility_updated=0.017720919796142525),\n",
       " Row(x1_index=5, x2_index=5, responsibility_updated=-4.292810848477177),\n",
       " Row(x1_index=8, x2_index=8, responsibility_updated=-4.519140027671721),\n",
       " Row(x1_index=0, x2_index=6, responsibility_updated=-8.941664434150598),\n",
       " Row(x1_index=6, x2_index=5, responsibility_updated=0.3717585910366572),\n",
       " Row(x1_index=6, x2_index=4, responsibility_updated=-0.5040146373754147),\n",
       " Row(x1_index=1, x2_index=10, responsibility_updated=-3.649298741804073),\n",
       " Row(x1_index=2, x2_index=2, responsibility_updated=-4.5266957595225525),\n",
       " Row(x1_index=6, x2_index=0, responsibility_updated=-8.723851649349081),\n",
       " Row(x1_index=4, x2_index=1, responsibility_updated=-3.4926591889971905),\n",
       " Row(x1_index=6, x2_index=3, responsibility_updated=-8.352005615760076),\n",
       " Row(x1_index=7, x2_index=11, responsibility_updated=-8.889322486259315),\n",
       " Row(x1_index=4, x2_index=6, responsibility_updated=-0.7368671382542539),\n",
       " Row(x1_index=8, x2_index=11, responsibility_updated=0.13005295411558057),\n",
       " Row(x1_index=9, x2_index=9, responsibility_updated=-4.389087073556141),\n",
       " Row(x1_index=6, x2_index=7, responsibility_updated=-0.3717585910366572),\n",
       " Row(x1_index=3, x2_index=6, responsibility_updated=-8.585890526805452),\n",
       " Row(x1_index=2, x2_index=0, responsibility_updated=-0.01607212624386011),\n",
       " Row(x1_index=8, x2_index=4, responsibility_updated=-8.267671841812119),\n",
       " Row(x1_index=1, x2_index=7, responsibility_updated=-3.7084089252123413),\n",
       " Row(x1_index=6, x2_index=10, responsibility_updated=-9.505297374899325),\n",
       " Row(x1_index=11, x2_index=3, responsibility_updated=-5.314957260846402),\n",
       " Row(x1_index=8, x2_index=2, responsibility_updated=-4.387669496271591),\n",
       " Row(x1_index=0, x2_index=8, responsibility_updated=-4.049427394413763),\n",
       " Row(x1_index=6, x2_index=2, responsibility_updated=-7.895192285847911),\n",
       " Row(x1_index=9, x2_index=6, responsibility_updated=-13.389839808007576),\n",
       " Row(x1_index=2, x2_index=4, responsibility_updated=-3.939659466055473),\n",
       " Row(x1_index=11, x2_index=8, responsibility_updated=0.20270950282187514),\n",
       " Row(x1_index=2, x2_index=10, responsibility_updated=-4.836733960337301),\n",
       " Row(x1_index=0, x2_index=0, responsibility_updated=-4.510623633278692),\n",
       " Row(x1_index=5, x2_index=10, responsibility_updated=-10.693722237948517),\n",
       " Row(x1_index=7, x2_index=5, responsibility_updated=-0.5780728201352309),\n",
       " Row(x1_index=0, x2_index=2, responsibility_updated=0.0016487935522824168),\n",
       " Row(x1_index=1, x2_index=2, responsibility_updated=0.021838215574774014),\n",
       " Row(x1_index=9, x2_index=1, responsibility_updated=-2.758275551676441),\n",
       " Row(x1_index=3, x2_index=9, responsibility_updated=-3.905709917531394),\n",
       " Row(x1_index=2, x2_index=1, responsibility_updated=-0.0671200583666735),\n",
       " Row(x1_index=5, x2_index=3, responsibility_updated=-7.298346316330796),\n",
       " Row(x1_index=3, x2_index=10, responsibility_updated=-5.240188182325758),\n",
       " Row(x1_index=8, x2_index=10, responsibility_updated=-0.2743669498912465),\n",
       " Row(x1_index=5, x2_index=11, responsibility_updated=-13.815148196704737),\n",
       " Row(x1_index=10, x2_index=3, responsibility_updated=-4.958265500583679),\n",
       " Row(x1_index=8, x2_index=6, responsibility_updated=-12.375201731177375),\n",
       " Row(x1_index=3, x2_index=7, responsibility_updated=-4.623427917048706),\n",
       " Row(x1_index=4, x2_index=11, responsibility_updated=-8.881193290882),\n",
       " Row(x1_index=1, x2_index=9, responsibility_updated=-2.8287641792761793),\n",
       " Row(x1_index=3, x2_index=1, responsibility_updated=-0.13422043849905269),\n",
       " Row(x1_index=10, x2_index=0, responsibility_updated=-4.372004811906803),\n",
       " Row(x1_index=6, x2_index=11, responsibility_updated=-12.758528455172586),\n",
       " Row(x1_index=8, x2_index=0, responsibility_updated=-4.057943788806791),\n",
       " Row(x1_index=10, x2_index=5, responsibility_updated=-10.645684467251815),\n",
       " Row(x1_index=0, x2_index=5, responsibility_updated=-8.003483861962096),\n",
       " Row(x1_index=11, x2_index=10, responsibility_updated=-0.28843261155735944),\n",
       " Row(x1_index=9, x2_index=0, responsibility_updated=-3.147060359610112),\n",
       " Row(x1_index=1, x2_index=8, responsibility_updated=-3.365545182900383),\n",
       " Row(x1_index=3, x2_index=11, responsibility_updated=-5.322512992697233),\n",
       " Row(x1_index=5, x2_index=0, responsibility_updated=-7.78567107716058),\n",
       " Row(x1_index=9, x2_index=2, responsibility_updated=-3.533392166577991),\n",
       " Row(x1_index=5, x2_index=4, responsibility_updated=-0.37692069019601093),\n",
       " Row(x1_index=9, x2_index=7, responsibility_updated=-8.823760752732413)]"
      ]
     },
     "execution_count": 12,
     "metadata": {},
     "output_type": "execute_result"
    }
   ],
   "source": [
    "R_final"
   ]
  }
 ],
 "metadata": {
  "anaconda-cloud": {},
  "kernelspec": {
   "display_name": "Python [conda root]",
   "language": "python",
   "name": "conda-root-py"
  },
  "language_info": {
   "codemirror_mode": {
    "name": "ipython",
    "version": 3
   },
   "file_extension": ".py",
   "mimetype": "text/x-python",
   "name": "python",
   "nbconvert_exporter": "python",
   "pygments_lexer": "ipython3",
   "version": "3.5.2"
  }
 },
 "nbformat": 4,
 "nbformat_minor": 1
}
