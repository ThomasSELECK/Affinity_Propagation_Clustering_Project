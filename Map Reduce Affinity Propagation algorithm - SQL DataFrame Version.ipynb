{
 "cells": [
  {
   "cell_type": "code",
   "execution_count": 1,
   "metadata": {
    "collapsed": true
   },
   "outputs": [],
   "source": [
    "import numpy as np\n",
    "import matplotlib.pyplot as plt\n",
    "import pandas as pd\n",
    "from operator import add, sub\n",
    "\n",
    "np.random.seed(2017)"
   ]
  },
  {
   "cell_type": "code",
   "execution_count": 2,
   "metadata": {
    "collapsed": false
   },
   "outputs": [],
   "source": [
    "from pyspark import SparkContext\n",
    "\n",
    "sc.stop()\n",
    "\n",
    "SparkContext.setSystemProperty('spark.executor.memory', '2g')\n",
    "SparkContext.setSystemProperty('spark.executor.cores', '4')\n",
    "\n",
    "sc = SparkContext(\"local\", \"App Name\")"
   ]
  },
  {
   "cell_type": "code",
   "execution_count": 14,
   "metadata": {
    "collapsed": false
   },
   "outputs": [
    {
     "data": {
      "image/png": "[encoded data removed]",
      "text/plain": [
       "<matplotlib.figure.Figure at 0x1ed8bcd3400>"
      ]
     },
     "metadata": {},
     "output_type": "display_data"
    }
   ],
   "source": [
    "# Temporary cell. To be deleted later\n",
    "\n",
    "N = 4\n",
    "\n",
    "x_1 = np.random.multivariate_normal(mean = [0,0], cov = [[0.1,0],[0,0.1]], size = N)\n",
    "x_2 = np.random.multivariate_normal(mean = [3,0], cov = [[0.3,-0.1],[-0.1,0.2]], size = N)\n",
    "x_3 = np.random.multivariate_normal(mean = [0,3], cov = [[0.2,0],[0,0.2]], size = N)\n",
    "N = 3 * N\n",
    "X = np.concatenate((x_1, x_2, x_3))\n",
    "\n",
    "plt.scatter(X[:,0], X[:,1])\n",
    "plt.show()\n",
    "\n",
    "pd.DataFrame(X).to_csv(\"gaussian_data.csv\", sep=\"\\t\", header=None, index=True)"
   ]
  },
  {
   "cell_type": "code",
   "execution_count": 95,
   "metadata": {
    "collapsed": false
   },
   "outputs": [],
   "source": [
    "#Permet de convertir le RDD en Data Frame. On pourra directement créer un dataframe plus tard\n",
    "from pyspark.sql.types import *\n",
    "\n",
    "sql_c = SQLContext(sc)\n",
    "\n",
    "lines = sc.textFile(\"gaussian_data.csv\")\n",
    "parts = lines.map(lambda l: l.split(\"\\t\"))\n",
    "\n",
    "# Each line is converted to a tuple.\n",
    "data = parts.map(lambda p: (int(p[0]), float(p[1]), float(p[2])))\n",
    "#data = parts.map(lambda p: (float(p[1]), float(p[2])))\n",
    "\n",
    "# Apply the schema to the RDD.\n",
    "spark_data = sql_c.createDataFrame(data, schema=(\"index\",\"x1\",\"x2\"))\n",
    "#spark_data = sql_c.createDataFrame(data, schema=(\"x1\",\"x2\"))"
   ]
  },
  {
   "cell_type": "code",
   "execution_count": 96,
   "metadata": {
    "collapsed": false
   },
   "outputs": [
    {
     "name": "stdout",
     "output_type": "stream",
     "text": [
      "root\n",
      " |-- index: long (nullable = true)\n",
      " |-- x1: double (nullable = true)\n",
      " |-- x2: double (nullable = true)\n",
      "\n"
     ]
    }
   ],
   "source": [
    "spark_data.printSchema()"
   ]
  },
  {
   "cell_type": "code",
   "execution_count": 97,
   "metadata": {
    "collapsed": false
   },
   "outputs": [
    {
     "name": "stdout",
     "output_type": "stream",
     "text": [
      "+-----+--------------------+--------------------+\n",
      "|index|                  x1|                  x2|\n",
      "+-----+--------------------+--------------------+\n",
      "|    0| 0.29354767383937447|  0.4568056073684831|\n",
      "|    1|-0.12124833116822087|  0.5752018260995152|\n",
      "|    2| 0.12483458806722963| 0.05885954111875446|\n",
      "|    3|-0.15259069394378327|-0.03033431797640859|\n",
      "|    4|   4.024687578015456|-0.06000651655121...|\n",
      "|    5|   3.257188478127214| -0.6338546652028731|\n",
      "|    6|  2.9208445305373254|-0.09815585513762597|\n",
      "|    7|   3.654916033718488| 0.46443393112851783|\n",
      "|    8|  0.3961357113708628|  3.0348860538467664|\n",
      "|    9|-0.36549091419397184|   2.733579893500002|\n",
      "|   10| -0.9850700857682828|   3.009768190648289|\n",
      "|   11| -0.6293522535439434|   2.546469901438722|\n",
      "+-----+--------------------+--------------------+\n",
      "\n"
     ]
    }
   ],
   "source": [
    "spark_data.show()"
   ]
  },
  {
   "cell_type": "code",
   "execution_count": 98,
   "metadata": {
    "collapsed": false,
    "scrolled": true
   },
   "outputs": [
    {
     "name": "stdout",
     "output_type": "stream",
     "text": [
      "+-----+--------------------+------------------+-----+--------------------+--------------------+\n",
      "|index|                  x1|                x2|index|                  x1|                  x2|\n",
      "+-----+--------------------+------------------+-----+--------------------+--------------------+\n",
      "|    0| 0.29354767383937447|0.4568056073684831|    0| 0.29354767383937447|  0.4568056073684831|\n",
      "|    0| 0.29354767383937447|0.4568056073684831|    1|-0.12124833116822087|  0.5752018260995152|\n",
      "|    0| 0.29354767383937447|0.4568056073684831|    2| 0.12483458806722963| 0.05885954111875446|\n",
      "|    0| 0.29354767383937447|0.4568056073684831|    3|-0.15259069394378327|-0.03033431797640859|\n",
      "|    0| 0.29354767383937447|0.4568056073684831|    4|   4.024687578015456|-0.06000651655121...|\n",
      "|    0| 0.29354767383937447|0.4568056073684831|    5|   3.257188478127214| -0.6338546652028731|\n",
      "|    0| 0.29354767383937447|0.4568056073684831|    6|  2.9208445305373254|-0.09815585513762597|\n",
      "|    0| 0.29354767383937447|0.4568056073684831|    7|   3.654916033718488| 0.46443393112851783|\n",
      "|    0| 0.29354767383937447|0.4568056073684831|    8|  0.3961357113708628|  3.0348860538467664|\n",
      "|    0| 0.29354767383937447|0.4568056073684831|    9|-0.36549091419397184|   2.733579893500002|\n",
      "|    0| 0.29354767383937447|0.4568056073684831|   10| -0.9850700857682828|   3.009768190648289|\n",
      "|    0| 0.29354767383937447|0.4568056073684831|   11| -0.6293522535439434|   2.546469901438722|\n",
      "|    1|-0.12124833116822087|0.5752018260995152|    0| 0.29354767383937447|  0.4568056073684831|\n",
      "|    1|-0.12124833116822087|0.5752018260995152|    1|-0.12124833116822087|  0.5752018260995152|\n",
      "|    1|-0.12124833116822087|0.5752018260995152|    2| 0.12483458806722963| 0.05885954111875446|\n",
      "|    1|-0.12124833116822087|0.5752018260995152|    3|-0.15259069394378327|-0.03033431797640859|\n",
      "|    1|-0.12124833116822087|0.5752018260995152|    4|   4.024687578015456|-0.06000651655121...|\n",
      "|    1|-0.12124833116822087|0.5752018260995152|    5|   3.257188478127214| -0.6338546652028731|\n",
      "|    1|-0.12124833116822087|0.5752018260995152|    6|  2.9208445305373254|-0.09815585513762597|\n",
      "|    1|-0.12124833116822087|0.5752018260995152|    7|   3.654916033718488| 0.46443393112851783|\n",
      "+-----+--------------------+------------------+-----+--------------------+--------------------+\n",
      "only showing top 20 rows\n",
      "\n"
     ]
    }
   ],
   "source": [
    "#Cette instruction permet d'autoriser les produits cartésiens. Sinon, spark bloque\n",
    "sql_c.setConf(\"spark.sql.crossJoin.enabled\", True)\n",
    "\n",
    "#L'instruction createOrReplaceTempView permet de créer uen View pour effectuer des opérations SQL\n",
    "spark_data.createOrReplaceTempView(\"data\")\n",
    "\n",
    "sql_c.sql(\"SELECT  *  FROM data d1 JOIN data d2\").show()"
   ]
  },
  {
   "cell_type": "code",
   "execution_count": 101,
   "metadata": {
    "collapsed": false,
    "scrolled": true
   },
   "outputs": [
    {
     "name": "stdout",
     "output_type": "stream",
     "text": [
      "+--------+--------+--------------------+--------------------+\n",
      "|x1_index|x2_index|       similarity_x1|       similarity_x2|\n",
      "+--------+--------+--------------------+--------------------+\n",
      "|       0|       0|                -0.0|                -0.0|\n",
      "|       0|       1|-0.17205572577026104| -0.0140176646098064|\n",
      "|       0|       2| -0.0284641053107591| -0.1583610716436334|\n",
      "|       0|       3|-0.19903944320822012| -0.2373053068650266|\n",
      "|       0|       4| -13.921404984535101| -0.2670947714303925|\n",
      "|       0|       5|  -8.783166816839874| -1.1895398301654252|\n",
      "|       0|       6|  -6.902688773214934|-0.30798222486691945|\n",
      "|       0|       7| -11.298797250796403|-5.81913233879107E-5|\n",
      "|       0|       8|-0.01052430544456...| -6.6464987885136635|\n",
      "|       0|       9| -0.4343318605169867|  -5.183701149989688|\n",
      "|       0|      10|  -1.634863375184105|  -6.517617951626699|\n",
      "|       0|      11| -0.8517442759641334|   -4.36669686191207|\n",
      "|       1|       0|-0.17205572577026104| -0.0140176646098064|\n",
      "|       1|       1|                -0.0|                -0.0|\n",
      "|       1|       2|-0.06055680313944...|-0.26660935525915314|\n",
      "|       1|       3|-9.82343704354959...|  -0.366674021782338|\n",
      "|       1|       4| -17.188784563058686|-0.40348963857309134|\n",
      "|       1|       5| -11.413835274402318| -1.4618175991604425|\n",
      "|       1|       6|   -9.25432897923984|-0.45341056688105935|\n",
      "|       1|       7| -14.259417310640242|-0.01226952655630...|\n",
      "+--------+--------+--------------------+--------------------+\n",
      "only showing top 20 rows\n",
      "\n"
     ]
    }
   ],
   "source": [
    "#Permet de faire le produit cartésien. Je n'ai pas réussi à faire fonctionner la fonction pow() ou power(), donc je fait le carré manuellement\n",
    "cartesian_similarities = sql_c.sql(\"SELECT d1.index as x1_index, d2.index as x2_index, -((d1.x1 - d2.x1) * (d1.x1 - d2.x1)) as similarity_x1, -((d1.x2 - d2.x2) * (d1.x2 - d2.x2)) as similarity_x2  FROM data d1 JOIN data d2\")\n",
    "#cartesian_similarities = sql_c.sql(\"SELECT -((d1.x1 - d2.x1) * (d1.x1 - d2.x1)) as similarity_x1, -((d1.x2 - d2.x2) * (d1.x2 - d2.x2)) as similarity_x2  FROM data d1 JOIN data d2\")\n",
    "cartesian_similarities.show()"
   ]
  },
  {
   "cell_type": "code",
   "execution_count": 104,
   "metadata": {
    "collapsed": false
   },
   "outputs": [
    {
     "name": "stdout",
     "output_type": "stream",
     "text": [
      "+--------+--------+--------------------+\n",
      "|x1_index|x2_index|        similarities|\n",
      "+--------+--------+--------------------+\n",
      "|       0|       0|  -8.930338103965866|\n",
      "|       0|       1|-0.18607339038006745|\n",
      "|       0|       2| -0.1868251769543925|\n",
      "|       0|       3| -0.4363447500732467|\n",
      "|       0|       4| -14.188499755965493|\n",
      "|       0|       5|    -9.9727066470053|\n",
      "|       0|       6|  -7.210670998081854|\n",
      "|       0|       7| -11.298855442119791|\n",
      "|       0|       8|  -6.657023093958226|\n",
      "|       0|       9|  -5.618033010506675|\n",
      "|       0|      10|  -8.152481326810804|\n",
      "|       0|      11|  -5.218441137876203|\n",
      "|       1|       0|-0.18607339038006745|\n",
      "|       1|       1|  -8.930338103965866|\n",
      "|       1|       2| -0.3271661583985944|\n",
      "|       1|       3|-0.36765636548669295|\n",
      "|       1|       4| -17.592274201631778|\n",
      "|       1|       5|  -12.87565287356276|\n",
      "|       1|       6|    -9.7077395461209|\n",
      "|       1|       7| -14.271686837196548|\n",
      "+--------+--------+--------------------+\n",
      "only showing top 20 rows\n",
      "\n"
     ]
    }
   ],
   "source": [
    "#Créer une View du produit cartésien\n",
    "cartesian_similarities.createOrReplaceTempView(\"cartesian_similarities\")\n",
    "\n",
    "#Somme des similarités + création d'une view\n",
    "sum_similarites = sql_c.sql(\"SELECT x1_index, x2_index, (similarity_x1 + similarity_x2) as similarity_without_diagonal FROM cartesian_similarities\")\n",
    "sum_similarites.createOrReplaceTempView(\"sum_similarites\")\n",
    "\n",
    "#Calcul de la médiane // On supprime les 0 et on calcule la médiane\n",
    "sum_similarites_without_diagonal = sql_c.sql(\"SELECT *  FROM sum_similarites HAVING similarity_without_diagonal != 0\")\n",
    "sum_similarites.createOrReplaceTempView(\"sum_similarites_without_diagonal\")\n",
    "\n",
    "#Mediane est fausse\n",
    "median = sum_similarites_without_diagonal.approxQuantile(\"similarity_without_diagonal\", [0.5], 0)[0]\n",
    "\n",
    "#Remplace la diagonale par la médiane\n",
    "similarity_matrix = sql_c.sql(\"SELECT x1_index, x2_index, if(similarity_without_diagonal=0, '%s', similarity_without_diagonal) as similarities FROM sum_similarites\" % median)\n",
    "similarity_matrix.show()"
   ]
  },
  {
   "cell_type": "code",
   "execution_count": 111,
   "metadata": {
    "collapsed": false,
    "scrolled": true
   },
   "outputs": [
    {
     "data": {
      "text/plain": [
       "[((0, 0), 0),\n",
       " ((0, 1), 0),\n",
       " ((0, 2), 0),\n",
       " ((0, 3), 0),\n",
       " ((0, 4), 0),\n",
       " ((0, 5), 0),\n",
       " ((0, 6), 0),\n",
       " ((0, 7), 0),\n",
       " ((0, 8), 0),\n",
       " ((0, 9), 0),\n",
       " ((0, 10), 0),\n",
       " ((0, 11), 0),\n",
       " ((1, 0), 0),\n",
       " ((1, 1), 0),\n",
       " ((1, 2), 0),\n",
       " ((1, 3), 0),\n",
       " ((1, 4), 0),\n",
       " ((1, 5), 0),\n",
       " ((1, 6), 0),\n",
       " ((1, 7), 0),\n",
       " ((1, 8), 0),\n",
       " ((1, 9), 0),\n",
       " ((1, 10), 0),\n",
       " ((1, 11), 0),\n",
       " ((2, 0), 0),\n",
       " ((2, 1), 0),\n",
       " ((2, 2), 0),\n",
       " ((2, 3), 0),\n",
       " ((2, 4), 0),\n",
       " ((2, 5), 0),\n",
       " ((2, 6), 0),\n",
       " ((2, 7), 0),\n",
       " ((2, 8), 0),\n",
       " ((2, 9), 0),\n",
       " ((2, 10), 0),\n",
       " ((2, 11), 0),\n",
       " ((3, 0), 0),\n",
       " ((3, 1), 0),\n",
       " ((3, 2), 0),\n",
       " ((3, 3), 0),\n",
       " ((3, 4), 0),\n",
       " ((3, 5), 0),\n",
       " ((3, 6), 0),\n",
       " ((3, 7), 0),\n",
       " ((3, 8), 0),\n",
       " ((3, 9), 0),\n",
       " ((3, 10), 0),\n",
       " ((3, 11), 0),\n",
       " ((4, 0), 0),\n",
       " ((4, 1), 0),\n",
       " ((4, 2), 0),\n",
       " ((4, 3), 0),\n",
       " ((4, 4), 0),\n",
       " ((4, 5), 0),\n",
       " ((4, 6), 0),\n",
       " ((4, 7), 0),\n",
       " ((4, 8), 0),\n",
       " ((4, 9), 0),\n",
       " ((4, 10), 0),\n",
       " ((4, 11), 0),\n",
       " ((5, 0), 0),\n",
       " ((5, 1), 0),\n",
       " ((5, 2), 0),\n",
       " ((5, 3), 0),\n",
       " ((5, 4), 0),\n",
       " ((5, 5), 0),\n",
       " ((5, 6), 0),\n",
       " ((5, 7), 0),\n",
       " ((5, 8), 0),\n",
       " ((5, 9), 0),\n",
       " ((5, 10), 0),\n",
       " ((5, 11), 0),\n",
       " ((6, 0), 0),\n",
       " ((6, 1), 0),\n",
       " ((6, 2), 0),\n",
       " ((6, 3), 0),\n",
       " ((6, 4), 0),\n",
       " ((6, 5), 0),\n",
       " ((6, 6), 0),\n",
       " ((6, 7), 0),\n",
       " ((6, 8), 0),\n",
       " ((6, 9), 0),\n",
       " ((6, 10), 0),\n",
       " ((6, 11), 0),\n",
       " ((7, 0), 0),\n",
       " ((7, 1), 0),\n",
       " ((7, 2), 0),\n",
       " ((7, 3), 0),\n",
       " ((7, 4), 0),\n",
       " ((7, 5), 0),\n",
       " ((7, 6), 0),\n",
       " ((7, 7), 0),\n",
       " ((7, 8), 0),\n",
       " ((7, 9), 0),\n",
       " ((7, 10), 0),\n",
       " ((7, 11), 0),\n",
       " ((8, 0), 0),\n",
       " ((8, 1), 0),\n",
       " ((8, 2), 0),\n",
       " ((8, 3), 0),\n",
       " ((8, 4), 0),\n",
       " ((8, 5), 0),\n",
       " ((8, 6), 0),\n",
       " ((8, 7), 0),\n",
       " ((8, 8), 0),\n",
       " ((8, 9), 0),\n",
       " ((8, 10), 0),\n",
       " ((8, 11), 0),\n",
       " ((9, 0), 0),\n",
       " ((9, 1), 0),\n",
       " ((9, 2), 0),\n",
       " ((9, 3), 0),\n",
       " ((9, 4), 0),\n",
       " ((9, 5), 0),\n",
       " ((9, 6), 0),\n",
       " ((9, 7), 0),\n",
       " ((9, 8), 0),\n",
       " ((9, 9), 0),\n",
       " ((9, 10), 0),\n",
       " ((9, 11), 0),\n",
       " ((10, 0), 0),\n",
       " ((10, 1), 0),\n",
       " ((10, 2), 0),\n",
       " ((10, 3), 0),\n",
       " ((10, 4), 0),\n",
       " ((10, 5), 0),\n",
       " ((10, 6), 0),\n",
       " ((10, 7), 0),\n",
       " ((10, 8), 0),\n",
       " ((10, 9), 0),\n",
       " ((10, 10), 0),\n",
       " ((10, 11), 0),\n",
       " ((11, 0), 0),\n",
       " ((11, 1), 0),\n",
       " ((11, 2), 0),\n",
       " ((11, 3), 0),\n",
       " ((11, 4), 0),\n",
       " ((11, 5), 0),\n",
       " ((11, 6), 0),\n",
       " ((11, 7), 0),\n",
       " ((11, 8), 0),\n",
       " ((11, 9), 0),\n",
       " ((11, 10), 0),\n",
       " ((11, 11), 0)]"
      ]
     },
     "execution_count": 111,
     "metadata": {},
     "output_type": "execute_result"
    }
   ],
   "source": [
    "# Create A and R matrices\n",
    "A = sc.parallelize(range(N)).flatMap(lambda x: [((x, y), 0) for y in range(N)])\n",
    "#A = sc.parallelize(range(N)).flatMap(lambda x1: [[x1, x2] for x2 in range(N)])\n",
    "#R = sc.parallelize(range(N)).flatMap(lambda x1: [[x1, x2] for x2 in range(N)])\n",
    "R = sc.parallelize(range(N)).flatMap(lambda x: [((x, y), 0) for y in range(N)])\n",
    "\n",
    "# Each line is converted to a tuple.\n",
    "#A = A.map(lambda p: ((x,y), float(0)))\n",
    "#R = R.map(lambda p: (x, y , float(0), float(0)))\n",
    "\n",
    "# Apply the schema to the RDD.\n",
    "#A_spark = sql_c.createDataFrame(A, schema=(\"x1_index\",\"x2_index\",\"x1\",\"x2\"))\n",
    "#R_spark = sql_c.createDataFrame(R, schema=(\"x1_index\",\"x2_index\",\"x1\",\"x2\"))\n",
    "\n",
    "lambdaValue = 0.5\n",
    "A.collect()"
   ]
  },
  {
   "cell_type": "code",
   "execution_count": 66,
   "metadata": {
    "collapsed": false
   },
   "outputs": [
    {
     "ename": "AssertionError",
     "evalue": "col should be Column",
     "output_type": "error",
     "traceback": [
      "\u001b[0;31m---------------------------------------------------------------------------\u001b[0m",
      "\u001b[0;31mAssertionError\u001b[0m                            Traceback (most recent call last)",
      "\u001b[0;32m<ipython-input-66-af8e45eed953>\u001b[0m in \u001b[0;36m<module>\u001b[0;34m()\u001b[0m\n\u001b[1;32m      4\u001b[0m \u001b[0mcols\u001b[0m \u001b[1;33m=\u001b[0m \u001b[1;33m[\u001b[0m\u001b[1;34m'x1'\u001b[0m\u001b[1;33m,\u001b[0m \u001b[1;34m'x2'\u001b[0m\u001b[1;33m,\u001b[0m \u001b[1;34m'x1_A'\u001b[0m\u001b[1;33m,\u001b[0m \u001b[1;34m'x2_A'\u001b[0m\u001b[1;33m]\u001b[0m\u001b[1;33m\u001b[0m\u001b[0m\n\u001b[1;32m      5\u001b[0m \u001b[1;33m\u001b[0m\u001b[0m\n\u001b[0;32m----> 6\u001b[0;31m \u001b[0mdf_1_new\u001b[0m \u001b[1;33m=\u001b[0m \u001b[0msimilarity_matrix\u001b[0m\u001b[1;33m.\u001b[0m\u001b[0mwithColumn\u001b[0m\u001b[1;33m(\u001b[0m\u001b[1;34m\"x1\"\u001b[0m\u001b[1;33m,\u001b[0m \u001b[0mA_spark\u001b[0m\u001b[1;33m)\u001b[0m\u001b[1;33m\u001b[0m\u001b[0m\n\u001b[0m\u001b[1;32m      7\u001b[0m \u001b[1;31m#.select(cols)\u001b[0m\u001b[1;33m\u001b[0m\u001b[1;33m\u001b[0m\u001b[0m\n\u001b[1;32m      8\u001b[0m \u001b[1;31m#df_2_new = df_2.withColumn(\"normal\", lit(None)).select(cols)\u001b[0m\u001b[1;33m\u001b[0m\u001b[1;33m\u001b[0m\u001b[0m\n",
      "\u001b[0;32mC:\\spark\\python\\pyspark\\sql\\dataframe.py\u001b[0m in \u001b[0;36mwithColumn\u001b[0;34m(self, colName, col)\u001b[0m\n\u001b[1;32m   1367\u001b[0m         \u001b[1;33m[\u001b[0m\u001b[0mRow\u001b[0m\u001b[1;33m(\u001b[0m\u001b[0mage\u001b[0m\u001b[1;33m=\u001b[0m\u001b[1;36m2\u001b[0m\u001b[1;33m,\u001b[0m \u001b[0mname\u001b[0m\u001b[1;33m=\u001b[0m\u001b[1;34mu'Alice'\u001b[0m\u001b[1;33m,\u001b[0m \u001b[0mage2\u001b[0m\u001b[1;33m=\u001b[0m\u001b[1;36m4\u001b[0m\u001b[1;33m)\u001b[0m\u001b[1;33m,\u001b[0m \u001b[0mRow\u001b[0m\u001b[1;33m(\u001b[0m\u001b[0mage\u001b[0m\u001b[1;33m=\u001b[0m\u001b[1;36m5\u001b[0m\u001b[1;33m,\u001b[0m \u001b[0mname\u001b[0m\u001b[1;33m=\u001b[0m\u001b[1;34mu'Bob'\u001b[0m\u001b[1;33m,\u001b[0m \u001b[0mage2\u001b[0m\u001b[1;33m=\u001b[0m\u001b[1;36m7\u001b[0m\u001b[1;33m)\u001b[0m\u001b[1;33m]\u001b[0m\u001b[1;33m\u001b[0m\u001b[0m\n\u001b[1;32m   1368\u001b[0m         \"\"\"\n\u001b[0;32m-> 1369\u001b[0;31m         \u001b[1;32massert\u001b[0m \u001b[0misinstance\u001b[0m\u001b[1;33m(\u001b[0m\u001b[0mcol\u001b[0m\u001b[1;33m,\u001b[0m \u001b[0mColumn\u001b[0m\u001b[1;33m)\u001b[0m\u001b[1;33m,\u001b[0m \u001b[1;34m\"col should be Column\"\u001b[0m\u001b[1;33m\u001b[0m\u001b[0m\n\u001b[0m\u001b[1;32m   1370\u001b[0m         \u001b[1;32mreturn\u001b[0m \u001b[0mDataFrame\u001b[0m\u001b[1;33m(\u001b[0m\u001b[0mself\u001b[0m\u001b[1;33m.\u001b[0m\u001b[0m_jdf\u001b[0m\u001b[1;33m.\u001b[0m\u001b[0mwithColumn\u001b[0m\u001b[1;33m(\u001b[0m\u001b[0mcolName\u001b[0m\u001b[1;33m,\u001b[0m \u001b[0mcol\u001b[0m\u001b[1;33m.\u001b[0m\u001b[0m_jc\u001b[0m\u001b[1;33m)\u001b[0m\u001b[1;33m,\u001b[0m \u001b[0mself\u001b[0m\u001b[1;33m.\u001b[0m\u001b[0msql_ctx\u001b[0m\u001b[1;33m)\u001b[0m\u001b[1;33m\u001b[0m\u001b[0m\n\u001b[1;32m   1371\u001b[0m \u001b[1;33m\u001b[0m\u001b[0m\n",
      "\u001b[0;31mAssertionError\u001b[0m: col should be Column"
     ]
    }
   ],
   "source": [
    "#A_spark.withColumn('x1', '2')\n",
    "#similarity_matrix + A_spark\n",
    "\n",
    "#cols = ['x1', 'x2', 'x1_A', 'x2_A']    \n",
    "\n",
    "x1 = sql_c.read.parquet(\"SELECT \")\n",
    "#df_1_new = similarity_matrix.withColumn(\"x1\", A_spark.columns)\n",
    "\n",
    "#.select(cols)\n",
    "#df_2_new = df_2.withColumn(\"normal\", lit(None)).select(cols)\n",
    "\n",
    "#result = df_1_new.unionAll(df_2_new)"
   ]
  },
  {
   "cell_type": "code",
   "execution_count": 6,
   "metadata": {
    "collapsed": false
   },
   "outputs": [],
   "source": [
    "def computeR(A, R, S, N):\n",
    "    # Compute the sum of A and S\n",
    "    sumA_S = sc.sparkContext.union([A, S]).reduceByKey(add)\n",
    "\n",
    "    # Remove all rows where i == k and compute the maximum\n",
    "    tmp = sc.sparkContext.parallelize(range(N)).cartesian(sumA_S)\n",
    "    tmp = tmp.map(lambda row: (row[0], (row[1][0][1], (row[1][0][0], row[1][1])))).filter(lambda row: row[1][0] != row[0])\n",
    "    maximum = tmp.map(lambda row: ((row[1][1][0], row[0]), row[1][1][1])).reduceByKey(max)\n",
    "\n",
    "    # Compute r\n",
    "    r = sc.sparkContext.union([S, maximum]).reduceByKey(sub)\n",
    "\n",
    "    # Compute R\n",
    "    R = R.join(r).map(lambda row: (row[0], (1 - lambdaValue) * row[1][1] + lambdaValue * row[1][0]))\n",
    "    \n",
    "    return R"
   ]
  },
  {
   "cell_type": "code",
   "execution_count": 7,
   "metadata": {
    "collapsed": true
   },
   "outputs": [],
   "source": [
    "def computeA(A, R, N):\n",
    "    # Remove all rows where i == k and compute the maximum\n",
    "    tmp = R.filter(lambda row: row[0][0] != row[0][1])\n",
    "    tmp = sc.sparkContext.parallelize(range(N)).cartesian(tmp).filter(lambda row: row[0] != row[1][0][0] and row[0] != row[1][0][1])\n",
    "    maximum = tmp.map(lambda row: (row[1][0], max(0, row[1][1]))).reduceByKey(add)\n",
    "\n",
    "    # Add R[k, k]\n",
    "    tmp = maximum.map(lambda row: ((row[0][1], row[0][1]), row)).join(R.filter(lambda row: row[0][0] == row[0][1]))\n",
    "    a = tmp.map(lambda row: (row[1][0][0], min(0, row[1][0][1] + row[1][1])))\n",
    "\n",
    "    # Compute the value of a when i == k\n",
    "    tmp = R.filter(lambda row: row[0][0] == row[0][1])\n",
    "    tmp = sc.sparkContext.parallelize(range(N)).cartesian(tmp).filter(lambda row: row[0] != row[1][0][1])\n",
    "    maximum = tmp.map(lambda row: (row[1][0], max(0, row[1][1]))).reduceByKey(add)\n",
    "\n",
    "    # Join both RDDs\n",
    "    a = sc.sparkContext.union([a, maximum])\n",
    "\n",
    "    # Compute A\n",
    "    A = A.join(a).map(lambda row: (row[0], (1 - lambdaValue) * row[1][1] + lambdaValue * row[1][0]))\n",
    "    \n",
    "    return A"
   ]
  },
  {
   "cell_type": "code",
   "execution_count": 9,
   "metadata": {
    "collapsed": false
   },
   "outputs": [
    {
     "name": "stdout",
     "output_type": "stream",
     "text": [
      "0 iterations done\n",
      "2 iterations done\n"
     ]
    },
    {
     "ename": "Py4JJavaError",
     "evalue": "An error occurred while calling o916.partitions.\n: java.lang.OutOfMemoryError: GC overhead limit exceeded\r\n\tat java.lang.Integer.valueOf(Unknown Source)\r\n\tat scala.runtime.BoxesRunTime.boxToInteger(BoxesRunTime.java:65)\r\n\tat scala.collection.IndexedSeqOptimized$class.zipWithIndex(IndexedSeqOptimized.scala:103)\r\n\tat scala.collection.mutable.ArrayOps$ofRef.zipWithIndex(ArrayOps.scala:186)\r\n\tat org.apache.spark.rdd.RDD$$anonfun$partitions$2.apply(RDD.scala:249)\r\n\tat org.apache.spark.rdd.RDD$$anonfun$partitions$2.apply(RDD.scala:246)\r\n\tat scala.Option.getOrElse(Option.scala:121)\r\n\tat org.apache.spark.rdd.RDD.partitions(RDD.scala:246)\r\n\tat org.apache.spark.api.java.JavaRDDLike$class.partitions(JavaRDDLike.scala:60)\r\n\tat org.apache.spark.api.java.AbstractJavaRDDLike.partitions(JavaRDDLike.scala:45)\r\n\tat sun.reflect.GeneratedMethodAccessor41.invoke(Unknown Source)\r\n\tat sun.reflect.DelegatingMethodAccessorImpl.invoke(Unknown Source)\r\n\tat java.lang.reflect.Method.invoke(Unknown Source)\r\n\tat py4j.reflection.MethodInvoker.invoke(MethodInvoker.java:237)\r\n\tat py4j.reflection.ReflectionEngine.invoke(ReflectionEngine.java:357)\r\n\tat py4j.Gateway.invoke(Gateway.java:280)\r\n\tat py4j.commands.AbstractCommand.invokeMethod(AbstractCommand.java:132)\r\n\tat py4j.commands.CallCommand.execute(CallCommand.java:79)\r\n\tat py4j.GatewayConnection.run(GatewayConnection.java:214)\r\n\tat java.lang.Thread.run(Unknown Source)\r\n",
     "output_type": "error",
     "traceback": [
      "\u001b[0;31m---------------------------------------------------------------------------\u001b[0m",
      "\u001b[0;31mPy4JJavaError\u001b[0m                             Traceback (most recent call last)",
      "\u001b[0;32m<ipython-input-9-020d7c8d1dfb>\u001b[0m in \u001b[0;36m<module>\u001b[0;34m()\u001b[0m\n\u001b[1;32m      4\u001b[0m         \u001b[0mprint\u001b[0m\u001b[1;33m(\u001b[0m\u001b[0miter\u001b[0m\u001b[1;33m,\u001b[0m \u001b[1;34m\"iterations done\"\u001b[0m\u001b[1;33m)\u001b[0m\u001b[1;33m\u001b[0m\u001b[0m\n\u001b[1;32m      5\u001b[0m     \u001b[1;31m# Update r(i, k) given a(i, k)\u001b[0m\u001b[1;33m\u001b[0m\u001b[1;33m\u001b[0m\u001b[0m\n\u001b[0;32m----> 6\u001b[0;31m     \u001b[0mR\u001b[0m \u001b[1;33m=\u001b[0m \u001b[0mcomputeR\u001b[0m\u001b[1;33m(\u001b[0m\u001b[0mA\u001b[0m\u001b[1;33m,\u001b[0m \u001b[0mR\u001b[0m\u001b[1;33m,\u001b[0m \u001b[0mS\u001b[0m\u001b[1;33m,\u001b[0m \u001b[0mN\u001b[0m\u001b[1;33m)\u001b[0m\u001b[1;33m\u001b[0m\u001b[0m\n\u001b[0m\u001b[1;32m      7\u001b[0m \u001b[1;33m\u001b[0m\u001b[0m\n\u001b[1;32m      8\u001b[0m     \u001b[1;31m# Update a(i, k) given r(i, k)\u001b[0m\u001b[1;33m\u001b[0m\u001b[1;33m\u001b[0m\u001b[0m\n",
      "\u001b[0;32m<ipython-input-6-fb2c52b5313e>\u001b[0m in \u001b[0;36mcomputeR\u001b[0;34m(A, R, S, N)\u001b[0m\n\u001b[1;32m      9\u001b[0m \u001b[1;33m\u001b[0m\u001b[0m\n\u001b[1;32m     10\u001b[0m     \u001b[1;31m# Compute r\u001b[0m\u001b[1;33m\u001b[0m\u001b[1;33m\u001b[0m\u001b[0m\n\u001b[0;32m---> 11\u001b[0;31m     \u001b[0mr\u001b[0m \u001b[1;33m=\u001b[0m \u001b[0msc\u001b[0m\u001b[1;33m.\u001b[0m\u001b[0msparkContext\u001b[0m\u001b[1;33m.\u001b[0m\u001b[0munion\u001b[0m\u001b[1;33m(\u001b[0m\u001b[1;33m[\u001b[0m\u001b[0mS\u001b[0m\u001b[1;33m,\u001b[0m \u001b[0mmaximum\u001b[0m\u001b[1;33m]\u001b[0m\u001b[1;33m)\u001b[0m\u001b[1;33m.\u001b[0m\u001b[0mreduceByKey\u001b[0m\u001b[1;33m(\u001b[0m\u001b[0msub\u001b[0m\u001b[1;33m)\u001b[0m\u001b[1;33m\u001b[0m\u001b[0m\n\u001b[0m\u001b[1;32m     12\u001b[0m \u001b[1;33m\u001b[0m\u001b[0m\n\u001b[1;32m     13\u001b[0m     \u001b[1;31m# Compute R\u001b[0m\u001b[1;33m\u001b[0m\u001b[1;33m\u001b[0m\u001b[0m\n",
      "\u001b[0;32mC:\\spark\\python\\pyspark\\rdd.py\u001b[0m in \u001b[0;36mreduceByKey\u001b[0;34m(self, func, numPartitions, partitionFunc)\u001b[0m\n\u001b[1;32m   1572\u001b[0m         \u001b[1;33m[\u001b[0m\u001b[1;33m(\u001b[0m\u001b[1;34m'a'\u001b[0m\u001b[1;33m,\u001b[0m \u001b[1;36m2\u001b[0m\u001b[1;33m)\u001b[0m\u001b[1;33m,\u001b[0m \u001b[1;33m(\u001b[0m\u001b[1;34m'b'\u001b[0m\u001b[1;33m,\u001b[0m \u001b[1;36m1\u001b[0m\u001b[1;33m)\u001b[0m\u001b[1;33m]\u001b[0m\u001b[1;33m\u001b[0m\u001b[0m\n\u001b[1;32m   1573\u001b[0m         \"\"\"\n\u001b[0;32m-> 1574\u001b[0;31m         \u001b[1;32mreturn\u001b[0m \u001b[0mself\u001b[0m\u001b[1;33m.\u001b[0m\u001b[0mcombineByKey\u001b[0m\u001b[1;33m(\u001b[0m\u001b[1;32mlambda\u001b[0m \u001b[0mx\u001b[0m\u001b[1;33m:\u001b[0m \u001b[0mx\u001b[0m\u001b[1;33m,\u001b[0m \u001b[0mfunc\u001b[0m\u001b[1;33m,\u001b[0m \u001b[0mfunc\u001b[0m\u001b[1;33m,\u001b[0m \u001b[0mnumPartitions\u001b[0m\u001b[1;33m,\u001b[0m \u001b[0mpartitionFunc\u001b[0m\u001b[1;33m)\u001b[0m\u001b[1;33m\u001b[0m\u001b[0m\n\u001b[0m\u001b[1;32m   1575\u001b[0m \u001b[1;33m\u001b[0m\u001b[0m\n\u001b[1;32m   1576\u001b[0m     \u001b[1;32mdef\u001b[0m \u001b[0mreduceByKeyLocally\u001b[0m\u001b[1;33m(\u001b[0m\u001b[0mself\u001b[0m\u001b[1;33m,\u001b[0m \u001b[0mfunc\u001b[0m\u001b[1;33m)\u001b[0m\u001b[1;33m:\u001b[0m\u001b[1;33m\u001b[0m\u001b[0m\n",
      "\u001b[0;32mC:\\spark\\python\\pyspark\\rdd.py\u001b[0m in \u001b[0;36mcombineByKey\u001b[0;34m(self, createCombiner, mergeValue, mergeCombiners, numPartitions, partitionFunc)\u001b[0m\n\u001b[1;32m   1782\u001b[0m         \"\"\"\n\u001b[1;32m   1783\u001b[0m         \u001b[1;32mif\u001b[0m \u001b[0mnumPartitions\u001b[0m \u001b[1;32mis\u001b[0m \u001b[1;32mNone\u001b[0m\u001b[1;33m:\u001b[0m\u001b[1;33m\u001b[0m\u001b[0m\n\u001b[0;32m-> 1784\u001b[0;31m             \u001b[0mnumPartitions\u001b[0m \u001b[1;33m=\u001b[0m \u001b[0mself\u001b[0m\u001b[1;33m.\u001b[0m\u001b[0m_defaultReducePartitions\u001b[0m\u001b[1;33m(\u001b[0m\u001b[1;33m)\u001b[0m\u001b[1;33m\u001b[0m\u001b[0m\n\u001b[0m\u001b[1;32m   1785\u001b[0m \u001b[1;33m\u001b[0m\u001b[0m\n\u001b[1;32m   1786\u001b[0m         \u001b[0mserializer\u001b[0m \u001b[1;33m=\u001b[0m \u001b[0mself\u001b[0m\u001b[1;33m.\u001b[0m\u001b[0mctx\u001b[0m\u001b[1;33m.\u001b[0m\u001b[0mserializer\u001b[0m\u001b[1;33m\u001b[0m\u001b[0m\n",
      "\u001b[0;32mC:\\spark\\python\\pyspark\\rdd.py\u001b[0m in \u001b[0;36m_defaultReducePartitions\u001b[0;34m(self)\u001b[0m\n\u001b[1;32m   2183\u001b[0m             \u001b[1;32mreturn\u001b[0m \u001b[0mself\u001b[0m\u001b[1;33m.\u001b[0m\u001b[0mctx\u001b[0m\u001b[1;33m.\u001b[0m\u001b[0mdefaultParallelism\u001b[0m\u001b[1;33m\u001b[0m\u001b[0m\n\u001b[1;32m   2184\u001b[0m         \u001b[1;32melse\u001b[0m\u001b[1;33m:\u001b[0m\u001b[1;33m\u001b[0m\u001b[0m\n\u001b[0;32m-> 2185\u001b[0;31m             \u001b[1;32mreturn\u001b[0m \u001b[0mself\u001b[0m\u001b[1;33m.\u001b[0m\u001b[0mgetNumPartitions\u001b[0m\u001b[1;33m(\u001b[0m\u001b[1;33m)\u001b[0m\u001b[1;33m\u001b[0m\u001b[0m\n\u001b[0m\u001b[1;32m   2186\u001b[0m \u001b[1;33m\u001b[0m\u001b[0m\n\u001b[1;32m   2187\u001b[0m     \u001b[1;32mdef\u001b[0m \u001b[0mlookup\u001b[0m\u001b[1;33m(\u001b[0m\u001b[0mself\u001b[0m\u001b[1;33m,\u001b[0m \u001b[0mkey\u001b[0m\u001b[1;33m)\u001b[0m\u001b[1;33m:\u001b[0m\u001b[1;33m\u001b[0m\u001b[0m\n",
      "\u001b[0;32mC:\\spark\\python\\pyspark\\rdd.py\u001b[0m in \u001b[0;36mgetNumPartitions\u001b[0;34m(self)\u001b[0m\n\u001b[1;32m    354\u001b[0m         \u001b[1;36m2\u001b[0m\u001b[1;33m\u001b[0m\u001b[0m\n\u001b[1;32m    355\u001b[0m         \"\"\"\n\u001b[0;32m--> 356\u001b[0;31m         \u001b[1;32mreturn\u001b[0m \u001b[0mself\u001b[0m\u001b[1;33m.\u001b[0m\u001b[0m_jrdd\u001b[0m\u001b[1;33m.\u001b[0m\u001b[0mpartitions\u001b[0m\u001b[1;33m(\u001b[0m\u001b[1;33m)\u001b[0m\u001b[1;33m.\u001b[0m\u001b[0msize\u001b[0m\u001b[1;33m(\u001b[0m\u001b[1;33m)\u001b[0m\u001b[1;33m\u001b[0m\u001b[0m\n\u001b[0m\u001b[1;32m    357\u001b[0m \u001b[1;33m\u001b[0m\u001b[0m\n\u001b[1;32m    358\u001b[0m     \u001b[1;32mdef\u001b[0m \u001b[0mfilter\u001b[0m\u001b[1;33m(\u001b[0m\u001b[0mself\u001b[0m\u001b[1;33m,\u001b[0m \u001b[0mf\u001b[0m\u001b[1;33m)\u001b[0m\u001b[1;33m:\u001b[0m\u001b[1;33m\u001b[0m\u001b[0m\n",
      "\u001b[0;32mC:\\spark\\python\\lib\\py4j-0.10.3-src.zip\\py4j\\java_gateway.py\u001b[0m in \u001b[0;36m__call__\u001b[0;34m(self, *args)\u001b[0m\n\u001b[1;32m   1131\u001b[0m         \u001b[0manswer\u001b[0m \u001b[1;33m=\u001b[0m \u001b[0mself\u001b[0m\u001b[1;33m.\u001b[0m\u001b[0mgateway_client\u001b[0m\u001b[1;33m.\u001b[0m\u001b[0msend_command\u001b[0m\u001b[1;33m(\u001b[0m\u001b[0mcommand\u001b[0m\u001b[1;33m)\u001b[0m\u001b[1;33m\u001b[0m\u001b[0m\n\u001b[1;32m   1132\u001b[0m         return_value = get_return_value(\n\u001b[0;32m-> 1133\u001b[0;31m             answer, self.gateway_client, self.target_id, self.name)\n\u001b[0m\u001b[1;32m   1134\u001b[0m \u001b[1;33m\u001b[0m\u001b[0m\n\u001b[1;32m   1135\u001b[0m         \u001b[1;32mfor\u001b[0m \u001b[0mtemp_arg\u001b[0m \u001b[1;32min\u001b[0m \u001b[0mtemp_args\u001b[0m\u001b[1;33m:\u001b[0m\u001b[1;33m\u001b[0m\u001b[0m\n",
      "\u001b[0;32mC:\\spark\\python\\pyspark\\sql\\utils.py\u001b[0m in \u001b[0;36mdeco\u001b[0;34m(*a, **kw)\u001b[0m\n\u001b[1;32m     61\u001b[0m     \u001b[1;32mdef\u001b[0m \u001b[0mdeco\u001b[0m\u001b[1;33m(\u001b[0m\u001b[1;33m*\u001b[0m\u001b[0ma\u001b[0m\u001b[1;33m,\u001b[0m \u001b[1;33m**\u001b[0m\u001b[0mkw\u001b[0m\u001b[1;33m)\u001b[0m\u001b[1;33m:\u001b[0m\u001b[1;33m\u001b[0m\u001b[0m\n\u001b[1;32m     62\u001b[0m         \u001b[1;32mtry\u001b[0m\u001b[1;33m:\u001b[0m\u001b[1;33m\u001b[0m\u001b[0m\n\u001b[0;32m---> 63\u001b[0;31m             \u001b[1;32mreturn\u001b[0m \u001b[0mf\u001b[0m\u001b[1;33m(\u001b[0m\u001b[1;33m*\u001b[0m\u001b[0ma\u001b[0m\u001b[1;33m,\u001b[0m \u001b[1;33m**\u001b[0m\u001b[0mkw\u001b[0m\u001b[1;33m)\u001b[0m\u001b[1;33m\u001b[0m\u001b[0m\n\u001b[0m\u001b[1;32m     64\u001b[0m         \u001b[1;32mexcept\u001b[0m \u001b[0mpy4j\u001b[0m\u001b[1;33m.\u001b[0m\u001b[0mprotocol\u001b[0m\u001b[1;33m.\u001b[0m\u001b[0mPy4JJavaError\u001b[0m \u001b[1;32mas\u001b[0m \u001b[0me\u001b[0m\u001b[1;33m:\u001b[0m\u001b[1;33m\u001b[0m\u001b[0m\n\u001b[1;32m     65\u001b[0m             \u001b[0ms\u001b[0m \u001b[1;33m=\u001b[0m \u001b[0me\u001b[0m\u001b[1;33m.\u001b[0m\u001b[0mjava_exception\u001b[0m\u001b[1;33m.\u001b[0m\u001b[0mtoString\u001b[0m\u001b[1;33m(\u001b[0m\u001b[1;33m)\u001b[0m\u001b[1;33m\u001b[0m\u001b[0m\n",
      "\u001b[0;32mC:\\spark\\python\\lib\\py4j-0.10.3-src.zip\\py4j\\protocol.py\u001b[0m in \u001b[0;36mget_return_value\u001b[0;34m(answer, gateway_client, target_id, name)\u001b[0m\n\u001b[1;32m    317\u001b[0m                 raise Py4JJavaError(\n\u001b[1;32m    318\u001b[0m                     \u001b[1;34m\"An error occurred while calling {0}{1}{2}.\\n\"\u001b[0m\u001b[1;33m.\u001b[0m\u001b[1;33m\u001b[0m\u001b[0m\n\u001b[0;32m--> 319\u001b[0;31m                     format(target_id, \".\", name), value)\n\u001b[0m\u001b[1;32m    320\u001b[0m             \u001b[1;32melse\u001b[0m\u001b[1;33m:\u001b[0m\u001b[1;33m\u001b[0m\u001b[0m\n\u001b[1;32m    321\u001b[0m                 raise Py4JError(\n",
      "\u001b[0;31mPy4JJavaError\u001b[0m: An error occurred while calling o916.partitions.\n: java.lang.OutOfMemoryError: GC overhead limit exceeded\r\n\tat java.lang.Integer.valueOf(Unknown Source)\r\n\tat scala.runtime.BoxesRunTime.boxToInteger(BoxesRunTime.java:65)\r\n\tat scala.collection.IndexedSeqOptimized$class.zipWithIndex(IndexedSeqOptimized.scala:103)\r\n\tat scala.collection.mutable.ArrayOps$ofRef.zipWithIndex(ArrayOps.scala:186)\r\n\tat org.apache.spark.rdd.RDD$$anonfun$partitions$2.apply(RDD.scala:249)\r\n\tat org.apache.spark.rdd.RDD$$anonfun$partitions$2.apply(RDD.scala:246)\r\n\tat scala.Option.getOrElse(Option.scala:121)\r\n\tat org.apache.spark.rdd.RDD.partitions(RDD.scala:246)\r\n\tat org.apache.spark.api.java.JavaRDDLike$class.partitions(JavaRDDLike.scala:60)\r\n\tat org.apache.spark.api.java.AbstractJavaRDDLike.partitions(JavaRDDLike.scala:45)\r\n\tat sun.reflect.GeneratedMethodAccessor41.invoke(Unknown Source)\r\n\tat sun.reflect.DelegatingMethodAccessorImpl.invoke(Unknown Source)\r\n\tat java.lang.reflect.Method.invoke(Unknown Source)\r\n\tat py4j.reflection.MethodInvoker.invoke(MethodInvoker.java:237)\r\n\tat py4j.reflection.ReflectionEngine.invoke(ReflectionEngine.java:357)\r\n\tat py4j.Gateway.invoke(Gateway.java:280)\r\n\tat py4j.commands.AbstractCommand.invokeMethod(AbstractCommand.java:132)\r\n\tat py4j.commands.CallCommand.execute(CallCommand.java:79)\r\n\tat py4j.GatewayConnection.run(GatewayConnection.java:214)\r\n\tat java.lang.Thread.run(Unknown Source)\r\n"
     ]
    }
   ],
   "source": [
    "iterations = 10\n",
    "for iter in range(iterations):\n",
    "    if iter % 2 == 0:\n",
    "        print(iter, \"iterations done\")\n",
    "    # Update r(i, k) given a(i, k)\n",
    "    R = computeR(A, R, S, N)\n",
    "    \n",
    "    # Update a(i, k) given r(i, k)\n",
    "    A = computeA(A, R, N)"
   ]
  }
 ],
 "metadata": {
  "anaconda-cloud": {},
  "kernelspec": {
   "display_name": "Python [conda root]",
   "language": "python",
   "name": "conda-root-py"
  },
  "language_info": {
   "codemirror_mode": {
    "name": "ipython",
    "version": 3
   },
   "file_extension": ".py",
   "mimetype": "text/x-python",
   "name": "python",
   "nbconvert_exporter": "python",
   "pygments_lexer": "ipython3",
   "version": "3.5.2"
  }
 },
 "nbformat": 4,
 "nbformat_minor": 1
}
