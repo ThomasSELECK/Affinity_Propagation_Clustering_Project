{
 "cells": [
  {
   "cell_type": "code",
   "execution_count": 1,
   "metadata": {
    "collapsed": true
   },
   "outputs": [],
   "source": [
    "import numpy as np\n",
    "import matplotlib.pyplot as plt\n",
    "import pandas as pd\n",
    "from operator import add, sub"
   ]
  },
  {
   "cell_type": "code",
   "execution_count": 2,
   "metadata": {
    "collapsed": false
   },
   "outputs": [],
   "source": [
    "from pyspark import SparkContext\n",
    "\n",
    "sc.stop()\n",
    "\n",
    "sc = SparkContext(\"local\", \"App Name\", pyFiles=['C:/Users/Maxence/Desktop/Mapper.py'])\n",
    "\n",
    "sc.setSystemProperty('spark.executor.memory', '2g')\n",
    "sc.setSystemProperty('spark.executor.cores', '4')"
   ]
  },
  {
   "cell_type": "code",
   "execution_count": 3,
   "metadata": {
    "collapsed": false
   },
   "outputs": [
    {
     "data": {
      "image/png": "[encoded data removed]",
      "text/plain": [
       "<matplotlib.figure.Figure at 0x1b974b5aeb8>"
      ]
     },
     "metadata": {},
     "output_type": "display_data"
    }
   ],
   "source": [
    "# Temporary cell. To be deleted later\n",
    "\n",
    "N = 4\n",
    "x_1 = np.random.multivariate_normal(mean = [0,0], cov = [[0.1,0],[0,0.1]], size = N)\n",
    "x_2 = np.random.multivariate_normal(mean = [3,0], cov = [[0.3,-0.1],[-0.1,0.2]], size = N)\n",
    "x_3 = np.random.multivariate_normal(mean = [0,3], cov = [[0.2,0],[0,0.2]], size = N)\n",
    "N = 3 * N\n",
    "X = np.concatenate((x_1, x_2, x_3))\n",
    "\n",
    "plt.scatter(X[:,0], X[:,1])\n",
    "plt.show()\n",
    "\n",
    "pd.DataFrame(X).to_csv(\"gaussian_data.txt\", sep=\"\\t\", header=None, index=True)"
   ]
  },
  {
   "cell_type": "code",
   "execution_count": 3,
   "metadata": {
    "collapsed": false
   },
   "outputs": [
    {
     "name": "stdout",
     "output_type": "stream",
     "text": [
      "root\n",
      " |-- index: long (nullable = true)\n",
      " |-- x1: double (nullable = true)\n",
      " |-- x2: double (nullable = true)\n",
      "\n"
     ]
    }
   ],
   "source": [
    "#Convert RDD to DataFrame\n",
    "from pyspark.sql.types import *\n",
    "sql_c = SQLContext(sc)\n",
    "\n",
    "lines = sc.textFile(\"gaussian_data.csv\")\n",
    "parts = lines.map(lambda l: l.split(\"\\t\"))\n",
    "\n",
    "#Convert each field into int / float for DataFame implementation\n",
    "data = parts.map(lambda p: (int(p[0]), float(p[1]), float(p[2])))\n",
    "\n",
    "#DataFrame structure generation\n",
    "spark_data = sql_c.createDataFrame(data, schema=(\"index\",\"x1\",\"x2\"))\n",
    "\n",
    "#Enable cartesian products. If not, Spark blocks \n",
    "sql_c.setConf(\"spark.sql.crossJoin.enabled\", True)\n",
    "\n",
    "#createOrReplaceTempView creates a view of DataFrame. Allows to use SQL queries over DataFrame\n",
    "spark_data.createOrReplaceTempView(\"data\")\n",
    "spark_data.printSchema()"
   ]
  },
  {
   "cell_type": "code",
   "execution_count": 7,
   "metadata": {
    "collapsed": false
   },
   "outputs": [
    {
     "name": "stdout",
     "output_type": "stream",
     "text": [
      "+-----+--------------------+--------------------+\n",
      "|index|                  x1|                  x2|\n",
      "+-----+--------------------+--------------------+\n",
      "|    0| 0.29354767383937447|  0.4568056073684831|\n",
      "|    1|-0.12124833116822087|  0.5752018260995152|\n",
      "|    2| 0.12483458806722963| 0.05885954111875446|\n",
      "|    3|-0.15259069394378327|-0.03033431797640859|\n",
      "|    4|   4.024687578015456|-0.06000651655121...|\n",
      "|    5|   3.257188478127214| -0.6338546652028731|\n",
      "|    6|  2.9208445305373254|-0.09815585513762597|\n",
      "|    7|   3.654916033718488| 0.46443393112851783|\n",
      "|    8|  0.3961357113708628|  3.0348860538467664|\n",
      "|    9|-0.36549091419397184|   2.733579893500002|\n",
      "|   10| -0.9850700857682828|   3.009768190648289|\n",
      "|   11| -0.6293522535439434|   2.546469901438722|\n",
      "+-----+--------------------+--------------------+\n",
      "\n"
     ]
    }
   ],
   "source": [
    "spark_data.show()"
   ]
  },
  {
   "cell_type": "code",
   "execution_count": 4,
   "metadata": {
    "collapsed": false,
    "scrolled": true
   },
   "outputs": [
    {
     "data": {
      "text/plain": [
       "DataFrame[x1_index: bigint, x2_index: bigint, similarities: string]"
      ]
     },
     "execution_count": 4,
     "metadata": {},
     "output_type": "execute_result"
    }
   ],
   "source": [
    "def generateSimilarityMatrix():\n",
    "    #Cartesain product\n",
    "    cartesian_similarities = sql_c.sql(\"SELECT d1.index as x1_index, d2.index as x2_index, -((d1.x1 - d2.x1) * (d1.x1 - d2.x1)) as similarity_x1, -((d1.x2 - d2.x2) * (d1.x2 - d2.x2)) as similarity_x2  FROM data d1 JOIN data d2\")\n",
    "    \n",
    "    #View of cartesian product\n",
    "    cartesian_similarities.createOrReplaceTempView(\"cartesian_similarities\")\n",
    "    \n",
    "    #Sum of similarities and view generation\n",
    "    sum_similarites = sql_c.sql(\"SELECT x1_index, x2_index, (similarity_x1 + similarity_x2) as similarity_without_diagonal FROM cartesian_similarities\")\n",
    "    sum_similarites.createOrReplaceTempView(\"sum_similarites\")\n",
    "\n",
    "    #Median computation\n",
    "    sum_similarites_without_diagonal = sql_c.sql(\"SELECT *  FROM sum_similarites HAVING similarity_without_diagonal != 0\")\n",
    "    sum_similarites_without_diagonal.createOrReplaceTempView(\"sum_similarites_without_diagonal\")\n",
    "    median = np.median(sql_c.sql(\"SELECT similarity_without_diagonal FROM sum_similarites_without_diagonal\").collect())\n",
    "    \n",
    "    #Replace diagonal of similarity matrix by median\n",
    "    similarity_matrix = sql_c.sql(\"SELECT x1_index, x2_index, if(similarity_without_diagonal=0, '%s', similarity_without_diagonal) as similarities FROM sum_similarites\" % median)\n",
    "    similarity_matrix.createOrReplaceTempView(\"Similarity_matrix\")\n",
    "\n",
    "    return similarity_matrix\n",
    "\n",
    "generateSimilarityMatrix()"
   ]
  },
  {
   "cell_type": "code",
   "execution_count": 5,
   "metadata": {
    "collapsed": false,
    "scrolled": true
   },
   "outputs": [
    {
     "data": {
      "text/plain": [
       "(DataFrame[x1_index: bigint, x2_index: bigint, availability: double],\n",
       " DataFrame[x1_index: bigint, x2_index: bigint, responsibility: double])"
      ]
     },
     "execution_count": 5,
     "metadata": {},
     "output_type": "execute_result"
    }
   ],
   "source": [
    "def initializeAvailibityAndResponsibilityMatrices(N):\n",
    "\n",
    "    # Create A and R matrices\n",
    "    A = sc.parallelize(range(N)).flatMap(lambda x: [(x, y, 0) for y in range(N)])\n",
    "    R = sc.parallelize(range(N)).flatMap(lambda x: [(x, y, 0) for y in range(N)])\n",
    "\n",
    "    # Each line is converted to corresponding format (int or float)\n",
    "    A = A.map(lambda p: (int(p[0]), int(p[1]), float(p[2])))\n",
    "    R = R.map(lambda p: (int(p[0]), int(p[1]), float(p[2])))\n",
    "\n",
    "    # Apply the schema to the DataFrame\n",
    "    A_spark = sql_c.createDataFrame(A, schema=(\"x1_index\",\"x2_index\",\"availability\"))\n",
    "    R_spark = sql_c.createDataFrame(R, schema=(\"x1_index\",\"x2_index\",\"responsibility\"))\n",
    "\n",
    "    #SQL views generation\n",
    "    A_spark.createOrReplaceTempView(\"availability_matrix\")\n",
    "    R_spark.createOrReplaceTempView(\"responsibility_matrix\")\n",
    "    \n",
    "    return A_spark, R_spark\n",
    "\n",
    "initializeAvailibityAndResponsibilityMatrices(N)"
   ]
  },
  {
   "cell_type": "code",
   "execution_count": 6,
   "metadata": {
    "collapsed": false,
    "scrolled": true
   },
   "outputs": [],
   "source": [
    "def computeR(): #computeR(A, R, S, N)\n",
    "    \n",
    "    # Compute the sum of A and S\n",
    "    sum_A_S = sql_c.sql(\"SELECT t.x1_index, t.x2_index, sum(t.sim_availability) as sim_availability FROM(SELECT  x1_index, x2_index, similarities as sim_availability FROM similarity_matrix UNION ALL SELECT x1_index, x2_index, availability as sim_availability FROM availability_matrix)t GROUP BY t.x1_index, t.x2_index ORDER BY t.x1_index, t.x2_index\") \n",
    "    sum_A_S.createOrReplaceTempView(\"sum_A_S\")\n",
    "\n",
    "    # Remove all rows where i == k and compute the maximum\n",
    "    sum_A_S_cartesian = sql_c.sql(\"SELECT  d.index, s.x2_index, s.x1_index, s.sim_availability FROM data d JOIN sum_A_S s WHERE d.index != s.x2_index\")\n",
    "    sum_A_S_cartesian.createOrReplaceTempView(\"sum_A_S_cartesian\")\n",
    "    maximum = sql_c.sql(\"SELECT x1_index, index, max(sim_availability) as maximum FROM sum_A_S_cartesian GROUP BY x1_index, index\")\n",
    "    maximum.createOrReplaceTempView(\"maximum\")\n",
    "\n",
    "    # Compute r\n",
    "    responsibility_matrix_updated = sql_c.sql(\"SELECT x1_index, x2_index, sum(r_value) as r FROM (SELECT x1_index, x2_index, similarities as r_value FROM Similarity_matrix UNION ALL SELECT x1_index, index as x2_index, maximum*(-1) as r_value FROM maximum)t GROUP BY t.x1_index, t.x2_index\")\n",
    "    responsibility_matrix_updated.createOrReplaceTempView(\"responsibility_matrix_updated\")\n",
    "    \n",
    "    # Compute R\n",
    "    R_updated = sql_c.sql(\"SELECT rmu.x1_index, rmu.x2_index, ((1 - 0.5)* rmu.r) + (0.5 * rm.responsibility) as responsibility FROM responsibility_matrix rm JOIN responsibility_matrix_updated rmu ON rm.x1_index = rmu.x1_index AND rm.x2_index = rmu.x2_index\") #% lambdaValue  \n",
    "    R_updated.createOrReplaceTempView(\"responsibility_matrix\")\n",
    "    \n",
    "    return R_updated"
   ]
  },
  {
   "cell_type": "code",
   "execution_count": 7,
   "metadata": {
    "collapsed": false,
    "scrolled": true
   },
   "outputs": [],
   "source": [
    "def computeA():\n",
    "   \n",
    "    # Remove all rows where i == k and compute the maximum\n",
    "    tmp = sql_c.sql(\"SELECT * FROM responsibility_matrix WHERE x1_index != x2_index\")\n",
    "    tmp.createOrReplaceTempView(\"tmp\")\n",
    "    tmp_bis = sql_c.sql(\"SELECT d.index, ru.* FROM data d JOIN tmp ru\")\n",
    "    tmp_bis.createOrReplaceTempView(\"tmp_bis\")\n",
    "    tmp_ter = sql_c.sql(\"SELECT * FROM tmp_bis WHERE index != x1_index AND index != x2_index\")\n",
    "    tmp_ter.createOrReplaceTempView(\"tmp_ter\")\n",
    "    tmp_2 = sql_c.sql(\"SELECT index, x2_index, x1_index FROM tmp_ter\")\n",
    "    tmp_2.createOrReplaceTempView(\"tmp_2\")\n",
    "    tmp_2_bis = sql_c.sql(\"SELECT t.*, ru.responsibility FROM tmp_2 t JOIN responsibility_matrix ru ON ru.x1_index = t.index AND ru.x2_index = t.x2_index\")\n",
    "    tmp_2_bis.createOrReplaceTempView(\"tmp_2_bis\")\n",
    "    maximum = sql_c.sql(\"SELECT x1_index, x2_index, sum(if(responsibility < 0, 0, responsibility)) as sum_max_responsibility FROM tmp_2_bis GROUP BY x1_index, x2_index\")\n",
    "    maximum.createOrReplaceTempView(\"maximum_compute_A\")\n",
    " \n",
    "    # Add R[k, k]\n",
    "    tmp_add = sql_c.sql(\"SELECT max.x2_index, max.x2_index, max.x1_index, max.x2_index, max.sum_max_responsibility, ru.responsibility FROM maximum_compute_A max JOIN responsibility_matrix ru ON ru.x1_index = max.x2_index AND ru.x2_index = max.x2_index WHERE ru.x1_index = ru.x2_index\")\n",
    "    tmp_add.createOrReplaceTempView(\"tmp_add\")\n",
    "    a = sql_c.sql(\"SELECT x1_index, x2_index, if((sum_max_responsibility + responsibility) > 0, 0, sum_max_responsibility + responsibility) as min_sum FROM tmp_add\")\n",
    "    a.createOrReplaceTempView(\"a\")\n",
    "    \n",
    "    # Compute the value of a when i == k\n",
    "    R_filter = sql_c.sql(\"SELECT * FROM responsibility_matrix WHERE x1_index = x2_index\")\n",
    "    R_filter.createOrReplaceTempView(\"R_filter\")\n",
    "    tmp_max2 = sql_c.sql(\"SELECT d.index, f.* FROM data d JOIN R_filter f WHERE d.index != f.x2_index\")\n",
    "    tmp_max2.createOrReplaceTempView(\"tmp_max2\")\n",
    "    tmp_max2_bis = sql_c.sql(\"SELECT t.index, t.x2_index, t.x1_index, ru.responsibility FROM tmp_max2 t JOIN responsibility_matrix ru ON ru.x1_index = t.index AND ru.x2_index = t.x2_index\")\n",
    "    tmp_max2_bis.createOrReplaceTempView(\"tmp_max2_bis\")\n",
    "    max_2 = sql_c.sql(\"SELECT x1_index, x2_index, sum(if(responsibility <0, 0, responsibility)) as min_sum FROM tmp_max2_bis GROUP BY x1_index, x2_index\")\n",
    "    max_2.createOrReplaceTempView(\"max_2\")\n",
    "\n",
    "    # Join both DataFrames\n",
    "    union = sql_c.sql(\"SELECT * FROM a UNION ALL SELECT * FROM max_2\")\n",
    "    union.createOrReplaceTempView(\"union\")\n",
    "\n",
    "    # Compute A\n",
    "    A_updated = sql_c.sql(\"SELECT u.x1_index, u.x2_index, ((1 - 0.5) * u.min_sum) + (0.5 * a.availability) as availability FROM availability_matrix a JOIN union u ON u.x1_index = a.x1_index AND u.x2_index = a.x2_index\")\n",
    "    A_updated.createOrReplaceTempView(\"availability_matrix\")\n",
    "    \n",
    "    return A_updated"
   ]
  },
  {
   "cell_type": "code",
   "execution_count": null,
   "metadata": {
    "collapsed": false,
    "scrolled": true
   },
   "outputs": [
    {
     "name": "stdout",
     "output_type": "stream",
     "text": [
      "0 iterations done\n",
      "2 iterations done\n"
     ]
    }
   ],
   "source": [
    "import time\n",
    "\n",
    "# Start the timer\n",
    "startTime = time.time()\n",
    "\n",
    "iterations = 3\n",
    "for iter in range(iterations):\n",
    "    if iter % 2 == 0:\n",
    "        print(iter, \"iterations done\")\n",
    "    # Update r(i, k) given a(i, k)\n",
    "    R = computeR()\n",
    "    \n",
    "    # Actually execute the code\n",
    "    A = computeA()\n",
    "\n",
    "R_final = R.collect()\n",
    "A_final = A.collect()\n",
    "\n",
    "print(\"Exec: --- %s seconds ---\" % (time.time() - startTime))"
   ]
  },
  {
   "cell_type": "code",
   "execution_count": 18,
   "metadata": {
    "collapsed": false
   },
   "outputs": [],
   "source": [
    "import csv\n",
    "import numpy as np \n",
    "N = 12\n",
    "file =  open(\"gaussian_data.csv\") #, \"rb\"\n",
    "reader = csv.reader(file, delimiter = \"\\t\") #\n",
    "X = np.zeros(shape=[N, 3])\n",
    "i = 0\n",
    "for item in reader:\n",
    "    X[i] = [item[i] for i in [0,1,2] ]\n",
    "    i += 1"
   ]
  },
  {
   "cell_type": "code",
   "execution_count": 27,
   "metadata": {
    "collapsed": false
   },
   "outputs": [
    {
     "data": {
      "text/plain": [
       "[]"
      ]
     },
     "execution_count": 27,
     "metadata": {},
     "output_type": "execute_result"
    }
   ],
   "source": [
    "A_matrix = np.zeros((N, N))\n",
    "R_matrix = np.zeros((N, N))\n",
    "\n",
    "for item in A_final:\n",
    "    A_matrix[item[0], item[1]] = item[2]\n",
    "    \n",
    "for item in R_final:\n",
    "    R_matrix[item[0], item[1]] = item[2] \n",
    "\n",
    "# Combine both a(i, k) and r(i, k) to get centers\n",
    "centers = [i for i in range(N) if R_matrix[i, i] + A_matrix[i, i] > 0]\n",
    "centers"
   ]
  },
  {
   "cell_type": "code",
   "execution_count": 29,
   "metadata": {
    "collapsed": false,
    "scrolled": true
   },
   "outputs": [
    {
     "data": {
      "text/plain": [
       "[Row(x1_index=3, x2_index=0, responsibility_updated=-0.17571220923703443),\n",
       " Row(x1_index=8, x2_index=7, responsibility_updated=-8.278006392737328),\n",
       " Row(x1_index=3, x2_index=5, responsibility_updated=-5.952955240103175),\n",
       " Row(x1_index=4, x2_index=0, responsibility_updated=-6.888365488915603),\n",
       " Row(x1_index=11, x2_index=11, responsibility_updated=-4.542919008223634),\n",
       " Row(x1_index=2, x2_index=6, responsibility_updated=-3.878702550727),\n",
       " Row(x1_index=1, x2_index=3, responsibility_updated=-0.09079148755331275),\n",
       " Row(x1_index=7, x2_index=8, responsibility_updated=-8.407552263186277),\n",
       " Row(x1_index=9, x2_index=3, responsibility_updated=-3.7899576583255574),\n",
       " Row(x1_index=4, x2_index=7, responsibility_updated=0.25329389395295376),\n",
       " Row(x1_index=8, x2_index=9, responsibility_updated=0.30965769254300113),\n",
       " Row(x1_index=0, x2_index=11, responsibility_updated=-2.516183873748068),\n",
       " Row(x1_index=2, x2_index=5, responsibility_updated=-5.103286766307271),\n",
       " Row(x1_index=7, x2_index=3, responsibility_updated=-7.1650671616907635),\n",
       " Row(x1_index=11, x2_index=6, responsibility_updated=-9.746654821257636),\n",
       " Row(x1_index=5, x2_index=6, responsibility_updated=0.2591280499272612),\n",
       " Row(x1_index=9, x2_index=5, responsibility_updated=-12.179394265581147),\n",
       " Row(x1_index=11, x2_index=2, responsibility_updated=-3.3261850706489713),\n",
       " Row(x1_index=1, x2_index=0, responsibility_updated=0.07054638400926348),\n",
       " Row(x1_index=7, x2_index=7, responsibility_updated=-4.389351096922857),\n",
       " Row(x1_index=10, x2_index=7, responsibility_updated=-13.833508600384036),\n",
       " Row(x1_index=2, x2_index=9, responsibility_updated=-3.6548138650054947),\n",
       " Row(x1_index=5, x2_index=1, responsibility_updated=-6.2377762036885445),\n",
       " Row(x1_index=11, x2_index=7, responsibility_updated=-11.292597791687696),\n",
       " Row(x1_index=10, x2_index=11, responsibility_updated=0.05948892219174251),\n",
       " Row(x1_index=1, x2_index=1, responsibility_updated=-4.502198790799966),\n",
       " Row(x1_index=0, x2_index=10, responsibility_updated=-3.9832039682153684),\n",
       " Row(x1_index=0, x2_index=9, responsibility_updated=-2.715979810063304),\n",
       " Row(x1_index=3, x2_index=4, responsibility_updated=-8.682806934575927),\n",
       " Row(x1_index=4, x2_index=10, responsibility_updated=-17.054709912333717),\n",
       " Row(x1_index=10, x2_index=9, responsibility_updated=-0.05948892219174251),\n",
       " Row(x1_index=3, x2_index=8, responsibility_updated=-4.805878132065079),\n",
       " Row(x1_index=10, x2_index=6, responsibility_updated=-12.287090191648591),\n",
       " Row(x1_index=7, x2_index=1, responsibility_updated=-6.929959029531131),\n",
       " Row(x1_index=8, x2_index=1, responsibility_updated=-2.8234361143352444),\n",
       " Row(x1_index=11, x2_index=9, responsibility_updated=0.11827376270708079),\n",
       " Row(x1_index=0, x2_index=1, responsibility_updated=0.00037589328716251813),\n",
       " Row(x1_index=11, x2_index=5, responsibility_updated=-12.557515126295147),\n",
       " Row(x1_index=1, x2_index=4, responsibility_updated=-8.703100405625856),\n",
       " Row(x1_index=8, x2_index=5, responsibility_updated=-10.487210439372427),\n",
       " Row(x1_index=0, x2_index=4, responsibility_updated=-7.001213182792712),\n",
       " Row(x1_index=11, x2_index=1, responsibility_updated=-2.0197172326262005),\n",
       " Row(x1_index=4, x2_index=5, responsibility_updated=-0.25329389395295376),\n",
       " Row(x1_index=7, x2_index=4, responsibility_updated=0.22179973062967534),\n",
       " Row(x1_index=5, x2_index=9, responsibility_updated=-12.031660510254678),\n",
       " Row(x1_index=7, x2_index=2, responsibility_updated=-6.107098410314392),\n",
       " Row(x1_index=4, x2_index=3, responsibility_updated=-8.519382711308372),\n",
       " Row(x1_index=9, x2_index=10, responsibility_updated=-0.1777626848988233),\n",
       " Row(x1_index=6, x2_index=1, responsibility_updated=-4.653819539967614),\n",
       " Row(x1_index=4, x2_index=8, responsibility_updated=-11.166489946550158),\n",
       " Row(x1_index=10, x2_index=10, responsibility_updated=-4.424645245516553),\n",
       " Row(x1_index=6, x2_index=9, responsibility_updated=-9.209313769611946),\n",
       " Row(x1_index=4, x2_index=4, responsibility_updated=-4.389351096922857),\n",
       " Row(x1_index=10, x2_index=2, responsibility_updated=-4.799284880961621),\n",
       " Row(x1_index=2, x2_index=8, responsibility_updated=-4.422708886183344),\n",
       " Row(x1_index=10, x2_index=8, responsibility_updated=-0.7835899400777726),\n",
       " Row(x1_index=4, x2_index=9, responsibility_updated=-13.333011722873412),\n",
       " Row(x1_index=5, x2_index=8, responsibility_updated=-10.622590465795685),\n",
       " Row(x1_index=7, x2_index=10, responsibility_updated=-13.79821445179034),\n",
       " Row(x1_index=8, x2_index=3, responsibility_updated=-4.5129080383485745),\n",
       " Row(x1_index=5, x2_index=7, responsibility_updated=-0.4821622915612579),\n",
       " Row(x1_index=1, x2_index=11, responsibility_updated=-1.9789970152025336),\n",
       " Row(x1_index=3, x2_index=3, responsibility_updated=-4.552775320190411),\n",
       " Row(x1_index=0, x2_index=3, responsibility_updated=-0.12513567984658963),\n",
       " Row(x1_index=0, x2_index=7, responsibility_updated=-5.5563910258698614),\n",
       " Row(x1_index=6, x2_index=8, responsibility_updated=-7.895002879421903),\n",
       " Row(x1_index=4, x2_index=2, responsibility_updated=-7.405606852369919),\n",
       " Row(x1_index=7, x2_index=6, responsibility_updated=-0.22179973062967534),\n",
       " Row(x1_index=9, x2_index=8, responsibility_updated=-0.2831137817497268),\n",
       " Row(x1_index=1, x2_index=5, responsibility_updated=-6.344789741591346),\n",
       " Row(x1_index=2, x2_index=7, responsibility_updated=-6.270522633581946),\n",
       " Row(x1_index=2, x2_index=3, responsibility_updated=0.05095242267760733),\n",
       " Row(x1_index=11, x2_index=0, responsibility_updated=-2.556904091171735),\n",
       " Row(x1_index=11, x2_index=4, responsibility_updated=-14.174586557873187),\n",
       " Row(x1_index=1, x2_index=6, responsibility_updated=-4.760833077870416),\n",
       " Row(x1_index=6, x2_index=6, responsibility_updated=-4.395185252897164),\n",
       " Row(x1_index=10, x2_index=4, responsibility_updated=-17.090004060927413),\n",
       " Row(x1_index=9, x2_index=11, responsibility_updated=0.1777626848988233),\n",
       " Row(x1_index=7, x2_index=9, responsibility_updated=-10.450463323617651),\n",
       " Row(x1_index=2, x2_index=11, responsibility_updated=-3.336041382615749),\n",
       " Row(x1_index=5, x2_index=2, responsibility_updated=-4.945696699014024),\n",
       " Row(x1_index=7, x2_index=0, responsibility_updated=-5.443543331992752),\n",
       " Row(x1_index=9, x2_index=4, responsibility_updated=-13.48657963417419),\n",
       " Row(x1_index=10, x2_index=1, responsibility_updated=-3.1660604630828333),\n",
       " Row(x1_index=3, x2_index=2, responsibility_updated=0.14136801694375756),\n",
       " Row(x1_index=5, x2_index=5, responsibility_updated=-4.395185252897164),\n",
       " Row(x1_index=8, x2_index=8, responsibility_updated=-4.259805226473906),\n",
       " Row(x1_index=0, x2_index=6, responsibility_updated=-3.5122988038508933),\n",
       " Row(x1_index=6, x2_index=5, responsibility_updated=0.22763388660398276),\n",
       " Row(x1_index=6, x2_index=4, responsibility_updated=-0.40991218965735776),\n",
       " Row(x1_index=1, x2_index=10, responsibility_updated=-3.2436140083662472),\n",
       " Row(x1_index=2, x2_index=2, responsibility_updated=-4.552775320190411),\n",
       " Row(x1_index=6, x2_index=0, responsibility_updated=-3.4052852659480912),\n",
       " Row(x1_index=4, x2_index=1, responsibility_updated=-8.590252711748745),\n",
       " Row(x1_index=6, x2_index=3, responsibility_updated=-4.525251686899241),\n",
       " Row(x1_index=7, x2_index=11, responsibility_updated=-11.139029880386918),\n",
       " Row(x1_index=4, x2_index=6, responsibility_updated=-0.40407803368305034),\n",
       " Row(x1_index=8, x2_index=11, responsibility_updated=-0.30965769254300113),\n",
       " Row(x1_index=9, x2_index=9, responsibility_updated=-4.542919008223634),\n",
       " Row(x1_index=6, x2_index=7, responsibility_updated=-0.22763388660398276),\n",
       " Row(x1_index=3, x2_index=6, responsibility_updated=-4.682841754192488),\n",
       " Row(x1_index=2, x2_index=0, responsibility_updated=-0.05095242267760733),\n",
       " Row(x1_index=8, x2_index=4, responsibility_updated=-11.036944076101209),\n",
       " Row(x1_index=1, x2_index=7, responsibility_updated=-7.04280672340824),\n",
       " Row(x1_index=6, x2_index=10, responsibility_updated=-12.257630199029204),\n",
       " Row(x1_index=11, x2_index=3, responsibility_updated=-3.381294307187632),\n",
       " Row(x1_index=8, x2_index=2, responsibility_updated=-4.129738792466839),\n",
       " Row(x1_index=0, x2_index=8, responsibility_updated=-3.2354748517890792),\n",
       " Row(x1_index=6, x2_index=2, responsibility_updated=-3.7211124834337532),\n",
       " Row(x1_index=9, x2_index=6, responsibility_updated=-9.357047524938414),\n",
       " Row(x1_index=2, x2_index=4, responsibility_updated=-7.569031075637473),\n",
       " Row(x1_index=11, x2_index=8, responsibility_updated=-0.5927714742927279),\n",
       " Row(x1_index=2, x2_index=10, responsibility_updated=-4.927414955635479),\n",
       " Row(x1_index=0, x2_index=0, responsibility_updated=-4.502198790799966),\n",
       " Row(x1_index=5, x2_index=10, responsibility_updated=-15.436322386219995),\n",
       " Row(x1_index=7, x2_index=5, responsibility_updated=-0.4763281355869505),\n",
       " Row(x1_index=0, x2_index=2, responsibility_updated=-0.00037589328716251813),\n",
       " Row(x1_index=1, x2_index=2, responsibility_updated=-0.07054638400926348),\n",
       " Row(x1_index=9, x2_index=1, responsibility_updated=-2.306808682832909),\n",
       " Row(x1_index=3, x2_index=9, responsibility_updated=-3.7998139702923353),\n",
       " Row(x1_index=2, x2_index=1, responsibility_updated=-0.12112291339970829),\n",
       " Row(x1_index=5, x2_index=3, responsibility_updated=-5.7953651728099285),\n",
       " Row(x1_index=3, x2_index=10, responsibility_updated=-4.925162434579745),\n",
       " Row(x1_index=8, x2_index=10, responsibility_updated=-0.6187499210351266),\n",
       " Row(x1_index=5, x2_index=11, responsibility_updated=-12.409781370968677),\n",
       " Row(x1_index=10, x2_index=3, responsibility_updated=-4.797032359905887),\n",
       " Row(x1_index=8, x2_index=6, responsibility_updated=-7.759622852998645),\n",
       " Row(x1_index=3, x2_index=7, responsibility_updated=-7.328491384958317),\n",
       " Row(x1_index=4, x2_index=11, responsibility_updated=-14.02101864657241),\n",
       " Row(x1_index=1, x2_index=9, responsibility_updated=-2.266088465409242),\n",
       " Row(x1_index=3, x2_index=1, responsibility_updated=-0.14136801694375756),\n",
       " Row(x1_index=10, x2_index=0, responsibility_updated=-3.905650422931955),\n",
       " Row(x1_index=6, x2_index=11, responsibility_updated=-9.598921065931165),\n",
       " Row(x1_index=8, x2_index=0, responsibility_updated=-2.9930812874630197),\n",
       " Row(x1_index=10, x2_index=5, responsibility_updated=-15.465782378839384),\n",
       " Row(x1_index=0, x2_index=5, responsibility_updated=-4.893316628312616),\n",
       " Row(x1_index=11, x2_index=10, responsibility_updated=-0.11827376270708079),\n",
       " Row(x1_index=9, x2_index=0, responsibility_updated=-2.756700027486971),\n",
       " Row(x1_index=1, x2_index=8, responsibility_updated=-3.065829678661304),\n",
       " Row(x1_index=3, x2_index=11, responsibility_updated=-3.3911506191544096),\n",
       " Row(x1_index=5, x2_index=0, responsibility_updated=-4.786303090409814),\n",
       " Row(x1_index=9, x2_index=2, responsibility_updated=-3.644957553038717),\n",
       " Row(x1_index=5, x2_index=4, responsibility_updated=-0.2591280499272612),\n",
       " Row(x1_index=9, x2_index=7, responsibility_updated=-10.604031234918429)]"
      ]
     },
     "execution_count": 29,
     "metadata": {},
     "output_type": "execute_result"
    }
   ],
   "source": [
    "R_final"
   ]
  },
  {
   "cell_type": "code",
   "execution_count": 48,
   "metadata": {
    "collapsed": false,
    "scrolled": true
   },
   "outputs": [],
   "source": [
    "pd.DataFrame(A_final).to_csv(\"A_final_SQL.csv\", sep=\";\", header=None, index=True)\n",
    "pd.DataFrame(R_final).to_csv(\"R_final_SQL.csv\", sep=\";\", header=None, index=True)"
   ]
  }
 ],
 "metadata": {
  "anaconda-cloud": {},
  "kernelspec": {
   "display_name": "Python [conda root]",
   "language": "python",
   "name": "conda-root-py"
  },
  "language_info": {
   "codemirror_mode": {
    "name": "ipython",
    "version": 3
   },
   "file_extension": ".py",
   "mimetype": "text/x-python",
   "name": "python",
   "nbconvert_exporter": "python",
   "pygments_lexer": "ipython3",
   "version": "3.5.2"
  }
 },
 "nbformat": 4,
 "nbformat_minor": 1
}
