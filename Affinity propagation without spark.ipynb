{
 "cells": [
  {
   "cell_type": "code",
   "execution_count": 1,
   "metadata": {
    "collapsed": false
   },
   "outputs": [],
   "source": [
    "import numpy as np\n",
    "import matplotlib.pyplot as plt\n",
    "\n",
    "np.random.seed(2017)"
   ]
  },
  {
   "cell_type": "markdown",
   "metadata": {},
   "source": [
    "In this notebook, we'll implement the distributed version of the Affinity Propagation Clustering Algorithm."
   ]
  },
  {
   "cell_type": "markdown",
   "metadata": {},
   "source": [
    "Let's begin by testing Spark and checking everything is ok before proceeding... This example will be deleted later.\n",
    "An interesting link is the following: http://blog.cloudera.com/blog/2014/09/how-to-translate-from-mapreduce-to-apache-spark/"
   ]
  },
  {
   "cell_type": "markdown",
   "metadata": {},
   "source": [
    "Let's begin be implementing a word count example using Spark and mimicking Map/Reduce paradigm. We'll adapt this code to our problem later."
   ]
  },
  {
   "cell_type": "markdown",
   "metadata": {},
   "source": [
    "Actual Affinity propagation Clustering algorithm :"
   ]
  },
  {
   "cell_type": "markdown",
   "metadata": {},
   "source": [
    "The following class defines a mapper for the Affinity Propagation Clustering Algorithm."
   ]
  },
  {
   "cell_type": "code",
   "execution_count": 2,
   "metadata": {
    "collapsed": true
   },
   "outputs": [],
   "source": [
    "class Mapper:\n",
    "    \"\"\"\n",
    "    This class defines a mapper object that computes the partial centroids for the partial dataset given in arguments.\n",
    "    \"\"\"\n",
    "    \n",
    "    def __init__(self, data):\n",
    "        \"\"\"\n",
    "        This is the class' constructor.\n",
    "        \"\"\"\n",
    "        \n",
    "        # Dataset\n",
    "        self.__data = data\n",
    "        \n",
    "        # Number of samples in the dataset\n",
    "        self.__N = data.shape[0]\n",
    "        \n",
    "        # Availabilities matrix\n",
    "        self.__A = np.zeros((self.__N, self.__N))\n",
    "        \n",
    "        # Responsabilities matrix\n",
    "        self.__R = np.zeros((self.__N, self.__N))\n",
    "        \n",
    "        # Similarity matrix\n",
    "        self.__S = np.zeros((self.__N, self.__N))\n",
    "        \n",
    "        # List of centroids\n",
    "        self.__centers = []\n",
    "    \n",
    "    def __a(self, i, k):\n",
    "        \"\"\"\n",
    "        This method computes the availability sent from point i to point k.\n",
    "        \n",
    "        Parameters\n",
    "        ----------\n",
    "        i : integer\n",
    "                This is the index i needed to select the first point.\n",
    "\n",
    "        k : integer\n",
    "                This is the index k needed to select the first point.\n",
    "\n",
    "        Returns\n",
    "        -------\n",
    "        a : float\n",
    "                This is the availability of point i for k.\n",
    "        \"\"\"\n",
    "\n",
    "        if i != k:\n",
    "            a = min([0, self.__R[k, k] + sum([max(0, self.__R[i_prime, k]) for i_prime in range(self.__N) if i_prime != i and i_prime != k])])\n",
    "        else:\n",
    "            a = sum([max(0, self.__R[i_prime, k]) for i_prime in range(self.__N) if i_prime != k])\n",
    "            \n",
    "        return a\n",
    "\n",
    "    def __r(self, i, k):\n",
    "        \"\"\"\n",
    "        This method computes the responsability sent from point i to point k.\n",
    "        \n",
    "        Parameters\n",
    "        ----------\n",
    "        i : integer\n",
    "                This is the index i needed to select the first point.\n",
    "\n",
    "        k : integer\n",
    "                This is the index k needed to select the first point.\n",
    "\n",
    "        Returns\n",
    "        -------\n",
    "        r : float\n",
    "                This is the responsability of point i for k.\n",
    "        \"\"\"\n",
    "\n",
    "        r = self.__S[i, k] - max([self.__A[i, k_prime] + self.__S[i, k_prime] for k_prime in range(self.__N) if k_prime != k])\n",
    "        return r\n",
    "\n",
    "    def __s(self, x_i, x_k):\n",
    "        \"\"\"\n",
    "        This method computes the similarity between two points (negative squared error).\n",
    "        \n",
    "        Parameters\n",
    "        ----------\n",
    "        x_i : numpy array\n",
    "                This is the ith point of the dataset.\n",
    "\n",
    "        x_k : numpy array\n",
    "                This is the kth point of the dataset.\n",
    "\n",
    "        Returns\n",
    "        -------\n",
    "        s : float\n",
    "                This is the similarity between points i and k.\n",
    "        \"\"\"\n",
    "\n",
    "        s = -np.sum((x_i - x_k) ** 2)\n",
    "        return s\n",
    "\n",
    "    def __GenerateSimilarityMatrix(self):\n",
    "        \"\"\"\n",
    "        This method generates the similarity matrix for all the points given to the mapper.\n",
    "        \n",
    "        Parameters\n",
    "        ----------\n",
    "        None\n",
    "\n",
    "        Returns\n",
    "        -------\n",
    "        None\n",
    "        \"\"\"\n",
    "\n",
    "        # As the matrix is symetric, we don't compute the similarity for each couple\n",
    "        for r in range(self.__N): # For each row\n",
    "            for c in range(r + 1, self.__N): # For each column\n",
    "                tmp = self.__s(self.__data[r], self.__data[c])\n",
    "                self.__S[r, c] = tmp\n",
    "                self.__S[c, r] = tmp\n",
    "\n",
    "        # For diagonal: compute \"preferences\"\n",
    "        flatS = self.__S.flatten()\n",
    "        for i in range(self.__N):\n",
    "            self.__S[i, i] = np.median(flatS[flatS != 0.0])\n",
    "                            \n",
    "    def ExecuteAffinityPropagation(self, iterations, lambdaValue = 0.5):\n",
    "        \"\"\"\n",
    "        This method executes the Affinity Propagation algorithm on several iterations.\n",
    "        \n",
    "        Parameters\n",
    "        ----------\n",
    "        iterations : positive integer\n",
    "                This is the number of iterations the algorithm will be executed.\n",
    "\n",
    "        lambdaValue : float\n",
    "                This is the lambda specified in the paper.\n",
    "\n",
    "        Returns\n",
    "        -------\n",
    "        self.__centers : list\n",
    "                This list contains all the centroids computed by the algorithm.\n",
    "        \"\"\"\n",
    "        \n",
    "        # Compute the similarity matrix\n",
    "        self.__GenerateSimilarityMatrix()\n",
    "\n",
    "        for i in range(iterations):\n",
    "            # Update r(i, k) given a(i, k)\n",
    "            for i in range(self.__N): # For each row\n",
    "                for k in range(self.__N): # For each column\n",
    "                    self.__R[i, k] = (1 - lambdaValue) * self.__r(i, k) + lambdaValue * self.__R[i, k]\n",
    "\n",
    "            # Update a(i, k) given r(i, k)\n",
    "            for i in range(self.__N): # For each row\n",
    "                for k in range(self.__N): # For each column\n",
    "                    self.__A[i, k] = (1 - lambdaValue) * self.__a(i, k) + lambdaValue * self.__A[i, k]\n",
    "\n",
    "            # Combine both a(i, k) and r(i, k) to get centers\n",
    "            self.__centers = [i for i in range(self.__N) if self.__R[i, i] + self.__A[i, i] > 0]\n",
    "            \n",
    "        return self.__centers"
   ]
  },
  {
   "cell_type": "code",
   "execution_count": 3,
   "metadata": {
    "collapsed": false
   },
   "outputs": [
    {
     "data": {
      "image/png": "[encoded data removed]",
      "text/plain": [
       "<matplotlib.figure.Figure at 0x7f4159da07b8>"
      ]
     },
     "metadata": {},
     "output_type": "display_data"
    },
    {
     "data": {
      "image/png": "[encoded data removed]",
      "text/plain": [
       "<matplotlib.figure.Figure at 0x7f4159d1dcf8>"
      ]
     },
     "metadata": {},
     "output_type": "display_data"
    }
   ],
   "source": [
    "# Temporary cell. To be deleted later\n",
    "\n",
    "N = 10\n",
    "x_1 = np.random.multivariate_normal(mean = [0,0], cov = [[0.1,0],[0,0.1]], size = N)\n",
    "x_2 = np.random.multivariate_normal(mean = [3,0], cov = [[0.3,-0.1],[-0.1,0.2]], size = N)\n",
    "x_3 = np.random.multivariate_normal(mean = [0,3], cov = [[0.2,0],[0,0.2]], size = N)\n",
    "N = 3 * N\n",
    "X = np.concatenate((x_1, x_2, x_3))\n",
    "\n",
    "plt.scatter(X[:,0], X[:,1])\n",
    "plt.show()\n",
    "\n",
    "m1 = Mapper(X)\n",
    "m1Centroids = m1.ExecuteAffinityPropagation(100)\n",
    "\n",
    "fig = plt.figure()\n",
    "ax1 = fig.add_subplot(111)\n",
    "\n",
    "ax1.scatter(X[:, 0], X[:, 1], s = 10, c = 'b', marker = \"s\", label = 'data')\n",
    "ax1.scatter(X[m1Centroids, 0], X[m1Centroids, 1], s = 30, c = 'r', marker = \"o\", label = 'centroids')\n",
    "plt.legend(loc = 'upper right');\n",
    "plt.show()"
   ]
  },
  {
   "cell_type": "code",
   "execution_count": null,
   "metadata": {
    "collapsed": true
   },
   "outputs": [],
   "source": []
  }
 ],
 "metadata": {
  "kernelspec": {
   "display_name": "Python 3",
   "language": "python",
   "name": "python3"
  },
  "language_info": {
   "codemirror_mode": {
    "name": "ipython",
    "version": 3
   },
   "file_extension": ".py",
   "mimetype": "text/x-python",
   "name": "python",
   "nbconvert_exporter": "python",
   "pygments_lexer": "ipython3",
   "version": "3.5.2"
  }
 },
 "nbformat": 4,
 "nbformat_minor": 2
}
