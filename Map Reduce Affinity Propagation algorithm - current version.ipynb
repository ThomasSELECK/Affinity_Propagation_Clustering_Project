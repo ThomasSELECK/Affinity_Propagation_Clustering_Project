{
 "cells": [
  {
   "cell_type": "code",
   "execution_count": 1,
   "metadata": {
    "collapsed": true
   },
   "outputs": [],
   "source": [
    "import numpy as np\n",
    "import matplotlib.pyplot as plt\n",
    "from operator import add, sub\n",
    "import pandas as pd\n",
    "\n",
    "np.random.seed(2017)"
   ]
  },
  {
   "cell_type": "markdown",
   "metadata": {},
   "source": [
    "Let's generate random 2D data."
   ]
  },
  {
   "cell_type": "code",
   "execution_count": 42,
   "metadata": {
    "collapsed": false
   },
   "outputs": [
    {
     "data": {
      "image/png": "[encoded data removed]",
      "text/plain": [
       "<matplotlib.figure.Figure at 0x18a127b8860>"
      ]
     },
     "metadata": {},
     "output_type": "display_data"
    }
   ],
   "source": [
    "#Data Generation\n",
    "\n",
    "N = 4\n",
    "x_1 = np.random.multivariate_normal(mean = [0,0], cov = [[0.1,0],[0,0.1]], size = N)\n",
    "x_2 = np.random.multivariate_normal(mean = [3,0], cov = [[0.3,-0.1],[-0.1,0.2]], size = N)\n",
    "x_3 = np.random.multivariate_normal(mean = [0,3], cov = [[0.2,0],[0,0.2]], size = N)\n",
    "N = 3 * N\n",
    "X = np.concatenate((x_1, x_2, x_3))\n",
    "\n",
    "plt.scatter(X[:,0], X[:,1])\n",
    "plt.show()\n",
    "\n",
    "pd.DataFrame(X).to_csv(\"gaussian_data.csv\", sep=\"\\t\", header=None, index=True)"
   ]
  },
  {
   "cell_type": "markdown",
   "metadata": {},
   "source": [
    "Let's compute the similarity matrix."
   ]
  },
  {
   "cell_type": "code",
   "execution_count": 2,
   "metadata": {
    "collapsed": false,
    "scrolled": true
   },
   "outputs": [
    {
     "name": "stdout",
     "output_type": "stream",
     "text": [
      "-9.19047097198\n"
     ]
    }
   ],
   "source": [
    "# As we can't rely on data order in a Map/Reduce paradigm, we add the values' coordinates in each row.\n",
    "def addCoordinates(row):\n",
    "    \"\"\"\n",
    "    This function adds the matrix coordinates to each value.\n",
    "\n",
    "    Parameters\n",
    "    ----------\n",
    "    row: row of Spark RDD\n",
    "            This is one row of the current Spark RDD we're parsing.\n",
    "\n",
    "    Returns\n",
    "    -------\n",
    "    result: list\n",
    "            This is the preprocessed row, with coordinates added.\n",
    "    \"\"\"\n",
    "    \n",
    "    values = row.split(\"\\t\")\n",
    "    index = int(values[0])\n",
    "    values = [float(_) for _ in values[1:]]\n",
    "    result = [[index, j, v] for j, v in enumerate(values)]\n",
    "    \n",
    "    return result\n",
    "\n",
    "def computeSimilarity(row):\n",
    "    \"\"\"\n",
    "    This function adds the matrix coordinates to each value.\n",
    "\n",
    "    Parameters\n",
    "    ----------\n",
    "    row: row of Spark RDD\n",
    "            This is one row of the current Spark RDD we're parsing.\n",
    "\n",
    "    Returns\n",
    "    -------\n",
    "    similarity: tuple\n",
    "            This is computed similarity, with matrix coordinates added.\n",
    "    \"\"\"\n",
    "    \n",
    "    ((i, v1), (j, v2)) = row\n",
    "    similarity = i, j, -1 * ((v1 - v2) ** 2)\n",
    "    \n",
    "    return similarity\n",
    "\n",
    "def GenerateSimilarityMatrix():\n",
    "    \"\"\"\n",
    "    This method generates the similarity matrix for all the points given to the mapper.\n",
    "\n",
    "    Parameters\n",
    "    ----------\n",
    "    None\n",
    "\n",
    "    Returns\n",
    "    -------\n",
    "    S: Spark RDD\n",
    "            This is the computed similarity matrix in the Spark RDD format.\n",
    "    \"\"\"\n",
    "    \n",
    "    # Open the text file and add coordinates to each row\n",
    "    mat1 = sc.textFile(\"gaussian_data.csv\") \n",
    "    new_mat1 = mat1.flatMap(addCoordinates)\n",
    "    \n",
    "    # Generate a RDD for x coordinates and one for y coordinates\n",
    "    new_mat_x = new_mat1.filter(lambda x: x[1] == 0).map(lambda row: (row[0], row[2]))\n",
    "    new_mat_y = new_mat1.filter(lambda x: x[1] == 1).map(lambda row: (row[0], row[2]))\n",
    "    \n",
    "    # Compute the cartesian product for x and y\n",
    "    mat_cartesian_x = new_mat_x.cartesian(new_mat_x)\n",
    "    mat_cartesian_y = new_mat_y.cartesian(new_mat_y)\n",
    "    \n",
    "    # Compute the similarity for x and y\n",
    "    sim_x = mat_cartesian_x.map(computeSimilarity)\n",
    "    sim_y = mat_cartesian_y.map(computeSimilarity)\n",
    "    \n",
    "    # Concatenate both x- and y-RDD and sum them by identical keys. Remove cells that equal zero\n",
    "    sim = sc.union([sim_x, sim_y])\n",
    "    final = sim.map(lambda row: ((row[0], row[1]), row[2])).reduceByKey(add).filter(lambda x: x[1] != 0)\n",
    "    \n",
    "    # Compute the matrix's diagonal\n",
    "    median = np.median(final.map(lambda row: row[1]).collect())\n",
    "    print(median)\n",
    "    diagonal = sc.parallelize(range(mat1.count())).map(lambda x: ((x, x), median))\n",
    "    \n",
    "    # Generate the final matrix\n",
    "    S = sc.union([final, diagonal])\n",
    "    \n",
    "    return S\n",
    "\n",
    "S = GenerateSimilarityMatrix()\n",
    "#S = sc.parallelize(S.collect())"
   ]
  },
  {
   "cell_type": "markdown",
   "metadata": {},
   "source": [
    "Let's compute the matrix R."
   ]
  },
  {
   "cell_type": "code",
   "execution_count": 3,
   "metadata": {
    "collapsed": false
   },
   "outputs": [],
   "source": [
    "def computeR(A, R, S, N):\n",
    "    # Compute the sum of A and S\n",
    "    sumA_S = sc.union([A, S]).reduceByKey(add)\n",
    "\n",
    "    # Remove all rows where i == k and compute the maximum\n",
    "    tmp = sc.parallelize(range(N)).cartesian(sumA_S)\n",
    "    tmp = tmp.map(lambda row: (row[0], (row[1][0][1], (row[1][0][0], row[1][1])))).filter(lambda row: row[1][0] != row[0])\n",
    "    maximum = tmp.map(lambda row: ((row[1][1][0], row[0]), row[1][1][1])).reduceByKey(max)\n",
    "\n",
    "    # Compute r\n",
    "    r = sc.union([S, maximum]).reduceByKey(sub)\n",
    "\n",
    "    # Compute R\n",
    "    R = R.join(r).map(lambda row: (row[0], (1 - lambdaValue) * row[1][1] + lambdaValue * row[1][0]))\n",
    "    \n",
    "    return R"
   ]
  },
  {
   "cell_type": "code",
   "execution_count": 4,
   "metadata": {
    "collapsed": false
   },
   "outputs": [],
   "source": [
    "# Create A and R matrices\n",
    "A = sc.parallelize(range(N)).flatMap(lambda x: [((x, y), 0) for y in range(N)])\n",
    "R = sc.parallelize(range(N)).flatMap(lambda x: [((x, y), 0) for y in range(N)])\n",
    "lambdaValue = 0.5"
   ]
  },
  {
   "cell_type": "markdown",
   "metadata": {},
   "source": [
    "Let's compute the matrix A."
   ]
  },
  {
   "cell_type": "code",
   "execution_count": 5,
   "metadata": {
    "collapsed": false
   },
   "outputs": [],
   "source": [
    "def computeA(A, R, N):\n",
    "    \"\"\"\n",
    "    if i != k:\n",
    "        a = min([0, R[k, k] + sum([max(0, R[i_prime, k]) for i_prime in range(N) if i_prime != i and i_prime != k])])\n",
    "    else:\n",
    "        a = sum([max(0, R[i_prime, k]) for i_prime in range(N) if i_prime != k])\n",
    "    \"\"\"\n",
    "    \n",
    "    # Remove all rows where i == k and compute the maximum\n",
    "    tmp = R.filter(lambda row: row[0][0] != row[0][1])\n",
    "    tmp = sc.parallelize(range(N)).cartesian(tmp).filter(lambda row: row[0] != row[1][0][0] and row[0] != row[1][0][1])\n",
    "    tmp = tmp.map(lambda row: ((row[0], row[1][0][1]), row[1][0][0])).join(R)\n",
    "    maximum = tmp.map(lambda row: ((row[1][0], row[0][1]), max(0, row[1][1]))).reduceByKey(add)\n",
    "    \n",
    "    # Add R[k, k]\n",
    "    tmp = maximum.map(lambda row: ((row[0][1], row[0][1]), row)).join(R.filter(lambda row: row[0][0] == row[0][1]))\n",
    "    a = tmp.map(lambda row: (row[1][0][0], min(0, row[1][0][1] + row[1][1])))\n",
    "    \n",
    "    # Compute the value of a when i == k\n",
    "    tmp = R.filter(lambda row: row[0][0] == row[0][1])\n",
    "    tmp = sc.parallelize(range(N)).cartesian(tmp).filter(lambda row: row[0] != row[1][0][1])\n",
    "    tmp = tmp.map(lambda row: ((row[0], row[1][0][1]), row[1][0][0])).join(R)\n",
    "    maximum2 = tmp.map(lambda row: ((row[1][0], row[0][1]), max(0, row[1][1]))).reduceByKey(add)\n",
    "\n",
    "    # Join both RDDs\n",
    "    a = sc.union([a, maximum2])\n",
    "\n",
    "    # Compute A\n",
    "    A = A.join(a).map(lambda row: (row[0], (1 - lambdaValue) * row[1][1] + lambdaValue * row[1][0]))\n",
    "    \n",
    "    return A\n"
   ]
  },
  {
   "cell_type": "markdown",
   "metadata": {},
   "source": [
    "Let's run the algorithm."
   ]
  },
  {
   "cell_type": "code",
   "execution_count": 6,
   "metadata": {
    "collapsed": false,
    "scrolled": true
   },
   "outputs": [
    {
     "name": "stdout",
     "output_type": "stream",
     "text": [
      "0 iterations done\n",
      "2 iterations done\n",
      "4 iterations done\n",
      "6 iterations done\n",
      "8 iterations done\n",
      "Exec: --- 8211.378233194351 seconds ---\n"
     ]
    }
   ],
   "source": [
    "import time\n",
    "\n",
    "# Create A and R matrices\n",
    "A = sc.parallelize(range(N)).flatMap(lambda x: [((x, y), 0) for y in range(N)])\n",
    "R = sc.parallelize(range(N)).flatMap(lambda x: [((x, y), 0) for y in range(N)])\n",
    "lambdaValue = 0.5\n",
    "\n",
    "# Start the timer\n",
    "startTime = time.time()\n",
    "\n",
    "iterations = 10\n",
    "for iter in range(iterations):\n",
    "    if iter % 2 == 0:\n",
    "        print(iter, \"iterations done\")\n",
    "    # Update r(i, k) given a(i, k)\n",
    "    R = computeR(A, R, S, N)\n",
    "    \n",
    "    # Actually execute the code\n",
    "    R_exec = R.collect()\n",
    "    R = sc.parallelize(R_exec)\n",
    "    \n",
    "    # Update a(i, k) given r(i, k)\n",
    "    A = computeA(A, R, N)\n",
    "    \n",
    "    # Actually execute the code\n",
    "    A_exec = A.collect()\n",
    "    A = sc.parallelize(A_exec)    \n",
    "    \n",
    "# Stop the timer and print the exectution time\n",
    "print(\"Exec: --- %s seconds ---\" % (time.time() - startTime))"
   ]
  },
  {
   "cell_type": "markdown",
   "metadata": {},
   "source": [
    "Let's compute the centers."
   ]
  },
  {
   "cell_type": "code",
   "execution_count": 7,
   "metadata": {
    "collapsed": false,
    "scrolled": true
   },
   "outputs": [
    {
     "data": {
      "text/plain": [
       "[((3, 7), -1.2061191249909422),\n",
       " ((9, 5), -1.2651683063677261),\n",
       " ((6, 11), -7.4914654039156634),\n",
       " ((9, 2), -0.0086219708449407524),\n",
       " ((1, 10), -7.6603148290204341),\n",
       " ((3, 0), -5.0323027835143428),\n",
       " ((10, 6), -0.0095226002913034839),\n",
       " ((4, 4), 5.3824062719354346),\n",
       " ((6, 1), -4.2148024044712304),\n",
       " ((9, 8), -7.9974738494951758),\n",
       " ((3, 10), -7.6603148290204341),\n",
       " ((1, 0), -5.3084963327003543),\n",
       " ((5, 5), 5.3147466458465153),\n",
       " ((11, 11), 0.91296596545398934),\n",
       " ((8, 2), -0.0086219708449407524),\n",
       " ((0, 10), -7.6603148290204341),\n",
       " ((2, 3), -5.8713809477598442),\n",
       " ((7, 0), -4.1327464947449322),\n",
       " ((4, 9), -0.0076650072758410962),\n",
       " ((10, 11), -7.8951672127675936),\n",
       " ((0, 4), -1.1313091321840418),\n",
       " ((11, 5), -1.2651683063677261),\n",
       " ((5, 11), -7.4914654039156634),\n",
       " ((5, 0), -4.1327464947449322),\n",
       " ((8, 7), -1.2061191249909422),\n",
       " ((6, 4), -2.743429735498641),\n",
       " ((1, 5), -1.2651683063677261),\n",
       " ((9, 10), -7.9766836121035816),\n",
       " ((1, 2), -0.18765023411275342),\n",
       " ((6, 3), -4.2219691041362601),\n",
       " ((3, 8), -7.7326489136017758),\n",
       " ((7, 5), -2.4313550083970559),\n",
       " ((2, 6), -0.0095226002913034839),\n",
       " ((4, 7), -3.4276656366937472),\n",
       " ((10, 5), -1.2651683063677261),\n",
       " ((0, 2), -0.23808546654649662),\n",
       " ((11, 3), -4.2219691041362601),\n",
       " ((8, 10), -7.6848262222189589),\n",
       " ((5, 2), -0.0086219708449407524),\n",
       " ((8, 5), -1.2651683063677261),\n",
       " ((9, 7), -1.2061191249909422),\n",
       " ((3, 5), -1.2651683063677261),\n",
       " ((11, 6), -0.0095226002913034839),\n",
       " ((5, 8), -7.7326489136017758),\n",
       " ((0, 7), -1.2061191249909422),\n",
       " ((2, 8), -7.7326489136017758),\n",
       " ((10, 0), -4.1327464947449322),\n",
       " ((4, 2), -0.0086219708449407524),\n",
       " ((7, 11), -7.4914654039156634),\n",
       " ((4, 5), -2.9762853438383958),\n",
       " ((10, 7), -1.2061191249909422),\n",
       " ((8, 0), -4.1327464947449322),\n",
       " ((11, 9), -0.065273631092716874),\n",
       " ((0, 8), -7.7326489136017758),\n",
       " ((5, 7), -2.4057512823837799),\n",
       " ((2, 5), -1.2651683063677261),\n",
       " ((7, 6), -1.1009911485892361),\n",
       " ((3, 3), 3.5814146937642999),\n",
       " ((9, 1), -4.2148024044712304),\n",
       " ((1, 9), -0.0076650072758410962),\n",
       " ((6, 8), -7.7326489136017758),\n",
       " ((0, 5), -1.2651683063677261),\n",
       " ((11, 4), -1.1313091321840418),\n",
       " ((5, 10), -7.6603148290204341),\n",
       " ((1, 7), -1.2061191249909422),\n",
       " ((6, 6), 6.9563809234547946),\n",
       " ((3, 6), -0.0095226002913034839),\n",
       " ((9, 4), -1.1313091321840418),\n",
       " ((7, 3), -4.2219691041362601),\n",
       " ((2, 0), -5.6893711911595979),\n",
       " ((10, 8), -7.7372894475171226),\n",
       " ((4, 10), -7.6603148290204341),\n",
       " ((2, 7), -1.2061191249909422),\n",
       " ((7, 4), -3.2484296966946844),\n",
       " ((0, 0), 3.6321228857035082),\n",
       " ((11, 1), -4.2148024044712304),\n",
       " ((8, 8), 0.31178598748656594),\n",
       " ((8, 3), -4.2219691041362601),\n",
       " ((5, 4), -2.7743521216093088),\n",
       " ((11, 10), -8.0534381409294227),\n",
       " ((0, 11), -7.4914654039156634),\n",
       " ((1, 1), 3.5625511928924292),\n",
       " ((9, 9), 15.070142249429802),\n",
       " ((6, 0), -4.1327464947449322),\n",
       " ((3, 11), -7.4914654039156634),\n",
       " ((3, 4), -1.1313091321840418),\n",
       " ((9, 6), -0.0095226002913034839),\n",
       " ((4, 0), -4.1327464947449322),\n",
       " ((7, 9), -0.0076650072758410962),\n",
       " ((10, 2), -0.0086219708449407524),\n",
       " ((2, 10), -7.6603148290204341),\n",
       " ((6, 5), -3.6953093940821891),\n",
       " ((1, 4), -1.1313091321840418),\n",
       " ((5, 1), -4.2148024044712304),\n",
       " ((8, 6), -0.0095226002913034839),\n",
       " ((5, 6), -1.5875115205065133),\n",
       " ((0, 9), -0.0076650072758410962),\n",
       " ((8, 1), -4.2148024044712304),\n",
       " ((11, 8), -7.7749694312795956),\n",
       " ((1, 11), -7.4914654039156634),\n",
       " ((6, 10), -7.6603148290204341),\n",
       " ((9, 3), -4.2219691041362601),\n",
       " ((3, 1), -5.182675088428141),\n",
       " ((8, 11), -7.5722487856208653),\n",
       " ((0, 3), -5.1601184609251476),\n",
       " ((11, 2), -0.0086219708449407524),\n",
       " ((10, 4), -1.1313091321840418),\n",
       " ((4, 6), -0.87381990144938504),\n",
       " ((6, 7), -3.1837602855876388),\n",
       " ((1, 6), -0.0095226002913034839),\n",
       " ((10, 10), 0.73400348819066286),\n",
       " ((2, 2), 9.7100223876352487),\n",
       " ((7, 1), -4.2148024044712304),\n",
       " ((4, 8), -7.7326489136017758),\n",
       " ((4, 3), -4.2219691041362601),\n",
       " ((10, 1), -4.2148024044712304),\n",
       " ((7, 10), -7.6603148290204341),\n",
       " ((2, 9), -0.0076650072758410962),\n",
       " ((5, 9), -0.0076650072758410962),\n",
       " ((0, 6), -0.0095226002913034839),\n",
       " ((11, 7), -1.2061191249909422),\n",
       " ((8, 9), -0.031270482802708943),\n",
       " ((11, 0), -4.1327464947449322),\n",
       " ((0, 1), -5.4016381552256263),\n",
       " ((6, 2), -0.0086219708449407524),\n",
       " ((9, 11), -7.9199461788125198),\n",
       " ((3, 9), -0.0076650072758410962),\n",
       " ((1, 3), -5.2158225974880903),\n",
       " ((1, 8), -7.7326489136017758),\n",
       " ((6, 9), -0.0076650072758410962),\n",
       " ((9, 0), -4.1327464947449322),\n",
       " ((3, 2), -0.24911960150437912),\n",
       " ((7, 7), 5.4094634588578057),\n",
       " ((2, 4), -1.1313091321840418),\n",
       " ((7, 8), -7.7326489136017758),\n",
       " ((4, 1), -4.2148024044712304),\n",
       " ((10, 3), -4.2219691041362601),\n",
       " ((2, 11), -7.4914654039156634),\n",
       " ((8, 4), -1.1313091321840418),\n",
       " ((5, 3), -4.2219691041362601),\n",
       " ((4, 11), -7.4914654039156634),\n",
       " ((7, 2), -0.0086219708449407524),\n",
       " ((2, 1), -5.6226451626523515),\n",
       " ((10, 9), -0.01785460540494543)]"
      ]
     },
     "execution_count": 7,
     "metadata": {},
     "output_type": "execute_result"
    }
   ],
   "source": [
    "A_exec"
   ]
  },
  {
   "cell_type": "code",
   "execution_count": 8,
   "metadata": {
    "collapsed": false
   },
   "outputs": [
    {
     "data": {
      "text/plain": [
       "[2, 6, 9]"
      ]
     },
     "execution_count": 8,
     "metadata": {},
     "output_type": "execute_result"
    }
   ],
   "source": [
    "#Get the centroids\n",
    "A_matrix = np.zeros((N, N))\n",
    "R_matrix = np.zeros((N, N))\n",
    "\n",
    "A_list = A_exec\n",
    "A_list.sort()\n",
    "\n",
    "R_list = R_exec\n",
    "R_list.sort()\n",
    "\n",
    "for item in A_list:\n",
    "    A_matrix[item[0][0], item[0][1]] = item[1]\n",
    "    \n",
    "for item in R_list:\n",
    "    R_matrix[item[0][0], item[0][1]] = item[1]\n",
    "\n",
    "# Combine both a(i, k) and r(i, k) to get centers\n",
    "centers = [i for i in range(N) if R_matrix[i, i] + A_matrix[i, i] > 0]\n",
    "centers"
   ]
  },
  {
   "cell_type": "code",
   "execution_count": 10,
   "metadata": {
    "collapsed": true
   },
   "outputs": [],
   "source": [
    "import csv\n",
    "import numpy as np \n",
    "N = 12\n",
    "file =  open(\"gaussian_data.csv\") #, \"rb\"\n",
    "reader = csv.reader(file, delimiter = \"\\t\") #\n",
    "X = np.zeros(shape=[N, 3])\n",
    "i = 0\n",
    "for item in reader:\n",
    "    X[i] = [item[i] for i in [0,1,2] ]\n",
    "    i += 1"
   ]
  },
  {
   "cell_type": "code",
   "execution_count": 12,
   "metadata": {
    "collapsed": false,
    "scrolled": true
   },
   "outputs": [
    {
     "data": {
      "image/png": "[encoded data removed]",
      "text/plain": [
       "<matplotlib.figure.Figure at 0x18e6010c4a8>"
      ]
     },
     "metadata": {},
     "output_type": "display_data"
    }
   ],
   "source": [
    "fig = plt.figure()\n",
    "ax1 = fig.add_subplot(111)\n",
    "\n",
    "ax1.scatter(X[:,0], X[:,1], s=10, c='b', marker=\"s\", label='data')\n",
    "ax1.scatter(X[centers,0],X[centers,1], s=30, c='r', marker=\"o\", label='centroids')\n",
    "plt.legend(loc='upper right');\n",
    "plt.show()"
   ]
  }
 ],
 "metadata": {
  "anaconda-cloud": {},
  "kernelspec": {
   "display_name": "Python [default]",
   "language": "python",
   "name": "python3"
  },
  "language_info": {
   "codemirror_mode": {
    "name": "ipython",
    "version": 3
   },
   "file_extension": ".py",
   "mimetype": "text/x-python",
   "name": "python",
   "nbconvert_exporter": "python",
   "pygments_lexer": "ipython3",
   "version": "3.5.2"
  }
 },
 "nbformat": 4,
 "nbformat_minor": 2
}
