{
 "cells": [
  {
   "cell_type": "code",
   "execution_count": 1,
   "metadata": {
    "collapsed": true
   },
   "outputs": [],
   "source": [
    "from pyspark.mllib.linalg import Matrices\n",
    "import numpy as np\n",
    "import matplotlib.pyplot as plt\n",
    "\n",
    "np.random.seed(2017)"
   ]
  },
  {
   "cell_type": "markdown",
   "metadata": {},
   "source": [
    "In this notebook, we'll implement the distributed version of the Affinity Propagation Clustering Algorithm."
   ]
  },
  {
   "cell_type": "code",
   "execution_count": 56,
   "metadata": {
    "collapsed": false
   },
   "outputs": [],
   "source": [
    "def a(i, k, R, N):\n",
    "    \"\"\"\n",
    "    This method computes the availability sent from point i to point k.\n",
    "\n",
    "    Parameters\n",
    "    ----------\n",
    "    i : integer\n",
    "            This is the index i needed to select the first point.\n",
    "\n",
    "    k : integer\n",
    "            This is the index k needed to select the first point.\n",
    "\n",
    "    Returns\n",
    "    -------\n",
    "    a : float\n",
    "            This is the availability of point i for k.\n",
    "    \"\"\"\n",
    "\n",
    "    if i != k:\n",
    "        a = min([0, R[k, k] + sum([max(0, R[i_prime, k]) for i_prime in range(N) if i_prime != i and i_prime != k])])\n",
    "    else:\n",
    "        a = sum([max(0, R[i_prime, k]) for i_prime in range(N) if i_prime != k])\n",
    "\n",
    "    return a\n",
    "\n",
    "def r(i, k, S, A, N):\n",
    "    \"\"\"\n",
    "    This method computes the responsability sent from point i to point k.\n",
    "\n",
    "    Parameters\n",
    "    ----------\n",
    "    i : integer\n",
    "            This is the index i needed to select the first point.\n",
    "\n",
    "    k : integer\n",
    "            This is the index k needed to select the first point.\n",
    "\n",
    "    Returns\n",
    "    -------\n",
    "    r : float\n",
    "            This is the responsability of point i for k.\n",
    "    \"\"\"\n",
    "\n",
    "    r = S[i, k] - max([A[i, k_prime] + S[i, k_prime] for k_prime in range(N) if k_prime != k])\n",
    "    return r\n",
    "\n",
    "def s(x_i, x_k):\n",
    "    \"\"\"\n",
    "    This method computes the similarity between two points (negative squared error).\n",
    "\n",
    "    Parameters\n",
    "    ----------\n",
    "    x_i : numpy array\n",
    "            This is the ith point of the dataset.\n",
    "\n",
    "    x_k : numpy array\n",
    "            This is the kth point of the dataset.\n",
    "\n",
    "    Returns\n",
    "    -------\n",
    "    s : float\n",
    "            This is the similarity between points i and k.\n",
    "    \"\"\"\n",
    "\n",
    "    s = -np.sum((x_i - x_k) ** 2)\n",
    "    return s\n",
    "\n",
    "def GenerateSimilarityMatrix(data, N):\n",
    "    \"\"\"\n",
    "    This method generates the similarity matrix for all the points given to the mapper.\n",
    "\n",
    "    Parameters\n",
    "    ----------\n",
    "    None\n",
    "\n",
    "    Returns\n",
    "    -------\n",
    "    None\n",
    "    \"\"\"\n",
    "\n",
    "    # Compute the similarity matrix # Make sure all items are return in the right order\n",
    "    similarityMatrix = data.zipWithIndex().cartesian(data.zipWithIndex()).map(lambda X: (X[0][1], X[1][1], s(X[0][0], X[1][0])) if X[0][1] != X[1][1] else (X[0][1], X[1][1], 0.0))\n",
    "    similarityMatrix = similarityMatrix.sortBy(lambda x: (x[0], x[1])).map(lambda y: y[2]).collect()\n",
    "    S = Matrices.dense(N, N, similarityMatrix).toArray()\n",
    "\n",
    "    # For diagonal: compute \"preferences\"\n",
    "    flatS = S.flatten()\n",
    "    med = np.median(flatS[flatS != 0.0])\n",
    "    \n",
    "    for i in range(N):\n",
    "        S[i, i] = med\n",
    "        \n",
    "    return S\n",
    "\n",
    "def ExecuteAffinityPropagation(data, A, R, N, iterations, lambdaValue = 0.5):\n",
    "    \"\"\"\n",
    "    This method executes the Affinity Propagation algorithm on several iterations.\n",
    "\n",
    "    Parameters\n",
    "    ----------\n",
    "    iterations : positive integer\n",
    "            This is the number of iterations the algorithm will be executed.\n",
    "\n",
    "    lambdaValue : float\n",
    "            This is the lambda specified in the paper.\n",
    "\n",
    "    Returns\n",
    "    -------\n",
    "    centers : list\n",
    "            This list contains all the centroids computed by the algorithm.\n",
    "    \"\"\"\n",
    "\n",
    "    # Compute the similarity matrix\n",
    "    S = GenerateSimilarityMatrix(data, N)\n",
    "\n",
    "    for it in range(iterations):\n",
    "        print(\"iteration:\", it)\n",
    "        # Update r(i, k) given a(i, k)\n",
    "        rMatrix = data.zipWithIndex().cartesian(data.zipWithIndex()).map(lambda X: (X[0][1], X[1][1], (1 - lambdaValue) * r(X[0][1], X[1][1], S, A, N) + lambdaValue * R[X[0][1], X[1][1]]))\n",
    "        rMatrix = rMatrix.sortBy(lambda x: (x[0], x[1])).map(lambda y: y[2]).collect()\n",
    "        R = Matrices.dense(N, N, rMatrix).toArray()\n",
    "        \n",
    "        # Update a(i, k) given r(i, k)        \n",
    "        aMatrix = data.zipWithIndex().cartesian(data.zipWithIndex()).map(lambda X: (X[0][1], X[1][1], (1 - lambdaValue) * a(X[0][1], X[1][1], R, N) + lambdaValue * A[X[0][1], X[1][1]]))\n",
    "        aMatrix = aMatrix.sortBy(lambda x: (x[0], x[1])).map(lambda y: y[2]).collect()\n",
    "        A = Matrices.dense(N, N, aMatrix).toArray()\n",
    "\n",
    "        # Combine both a(i, k) and r(i, k) to get centers\n",
    "        centers = [i for i in range(N) if R[i, i] + A[i, i] > 0]\n",
    "\n",
    "    return centers"
   ]
  },
  {
   "cell_type": "code",
   "execution_count": 3,
   "metadata": {
    "collapsed": false
   },
   "outputs": [],
   "source": [
    "from pyspark.sql import SparkSession\n",
    "from pyspark.sql import Row\n",
    "\n",
    "# Create a SparkSession # Only for Spark 2\n",
    "spark = SparkSession.builder.appName(\"Affinity Propagation algorithm\").getOrCreate()\n",
    "    \n",
    "# Read the data\n",
    "irisData = spark.read.option(\"header\",\"true\").csv(\"iris_species.csv\")\n",
    "\n",
    "# Only keep useful columns\n",
    "irisData = irisData.select(\"SepalLengthCm\", \"SepalWidthCm\", \"PetalLengthCm\", \"PetalWidthCm\")\n",
    "\n",
    "# Make sure we've the right data type\n",
    "irisData = irisData.withColumn(\"SepalLengthCm\", irisData[\"SepalLengthCm\"].cast(\"double\"))\n",
    "irisData = irisData.withColumn(\"SepalWidthCm\", irisData[\"SepalWidthCm\"].cast(\"double\"))\n",
    "irisData = irisData.withColumn(\"PetalLengthCm\", irisData[\"PetalLengthCm\"].cast(\"double\"))\n",
    "irisData = irisData.withColumn(\"PetalWidthCm\", irisData[\"PetalWidthCm\"].cast(\"double\"))\n",
    "\n",
    "splittedDataframe = irisData.randomSplit([0.2, 0.2, 0.2, 0.2, 0.2]) # We do 5 splits with 20% data in each"
   ]
  },
  {
   "cell_type": "code",
   "execution_count": 58,
   "metadata": {
    "collapsed": false
   },
   "outputs": [
    {
     "data": {
      "image/png": "[encoded data removed]",
      "text/plain": [
       "<matplotlib.figure.Figure at 0x7f1e6e17c2b0>"
      ]
     },
     "metadata": {},
     "output_type": "display_data"
    }
   ],
   "source": [
    "plotData = splittedDataframe[0].select(\"SepalLengthCm\", \"SepalWidthCm\").toPandas()\n",
    "plt.scatter(plotData[\"SepalLengthCm\"], plotData[\"SepalWidthCm\"])\n",
    "plt.show()"
   ]
  },
  {
   "cell_type": "code",
   "execution_count": 59,
   "metadata": {
    "collapsed": false,
    "scrolled": false
   },
   "outputs": [
    {
     "name": "stdout",
     "output_type": "stream",
     "text": [
      "iteration: 0\n",
      "iteration: 1\n",
      "iteration: 2\n",
      "iteration: 3\n",
      "iteration: 4\n",
      "iteration: 5\n",
      "iteration: 6\n",
      "iteration: 7\n",
      "iteration: 8\n",
      "iteration: 9\n",
      "iteration: 10\n",
      "iteration: 11\n",
      "iteration: 12\n",
      "iteration: 13\n",
      "iteration: 14\n",
      "iteration: 15\n",
      "iteration: 16\n",
      "iteration: 17\n",
      "iteration: 18\n",
      "iteration: 19\n",
      "iteration: 20\n",
      "iteration: 21\n",
      "iteration: 22\n",
      "iteration: 23\n",
      "iteration: 24\n",
      "iteration: 25\n",
      "iteration: 26\n",
      "iteration: 27\n",
      "iteration: 28\n",
      "iteration: 29\n",
      "iteration: 30\n",
      "iteration: 31\n",
      "iteration: 32\n",
      "iteration: 33\n",
      "iteration: 34\n",
      "iteration: 35\n",
      "iteration: 36\n",
      "iteration: 37\n",
      "iteration: 38\n",
      "iteration: 39\n",
      "iteration: 40\n",
      "iteration: 41\n",
      "iteration: 42\n",
      "iteration: 43\n",
      "iteration: 44\n",
      "iteration: 45\n",
      "iteration: 46\n",
      "iteration: 47\n",
      "iteration: 48\n",
      "iteration: 49\n",
      "iteration: 50\n",
      "iteration: 51\n",
      "iteration: 52\n",
      "iteration: 53\n",
      "iteration: 54\n",
      "iteration: 55\n",
      "iteration: 56\n",
      "iteration: 57\n",
      "iteration: 58\n",
      "iteration: 59\n",
      "iteration: 60\n",
      "iteration: 61\n",
      "iteration: 62\n",
      "iteration: 63\n",
      "iteration: 64\n",
      "iteration: 65\n",
      "iteration: 66\n",
      "iteration: 67\n",
      "iteration: 68\n",
      "iteration: 69\n",
      "iteration: 70\n",
      "iteration: 71\n",
      "iteration: 72\n",
      "iteration: 73\n",
      "iteration: 74\n",
      "iteration: 75\n",
      "iteration: 76\n",
      "iteration: 77\n",
      "iteration: 78\n",
      "iteration: 79\n",
      "iteration: 80\n",
      "iteration: 81\n",
      "iteration: 82\n",
      "iteration: 83\n",
      "iteration: 84\n",
      "iteration: 85\n",
      "iteration: 86\n",
      "iteration: 87\n",
      "iteration: 88\n",
      "iteration: 89\n",
      "iteration: 90\n",
      "iteration: 91\n",
      "iteration: 92\n",
      "iteration: 93\n",
      "iteration: 94\n",
      "iteration: 95\n",
      "iteration: 96\n",
      "iteration: 97\n",
      "iteration: 98\n",
      "iteration: 99\n"
     ]
    }
   ],
   "source": [
    "# Reformat data to make possible the use of cartesian method\n",
    "data = sc.parallelize(splittedDataframe[0].select(\"SepalLengthCm\", \"SepalWidthCm\").rdd.map(lambda x: np.array([e for e in x])).collect())\n",
    "    \n",
    "# Number of samples in the dataset\n",
    "N = splittedDataframe[0].count()\n",
    "\n",
    "# Availabilities matrix\n",
    "A = np.zeros((N, N))\n",
    "\n",
    "# Responsabilities matrix\n",
    "R = np.zeros((N, N))\n",
    "\n",
    "centroids = ExecuteAffinityPropagation(data, A, R, N, 100)"
   ]
  },
  {
   "cell_type": "code",
   "execution_count": 69,
   "metadata": {
    "collapsed": false
   },
   "outputs": [
    {
     "data": {
      "image/png": "[encoded data removed]",
      "text/plain": [
       "<matplotlib.figure.Figure at 0x7f1e6c650978>"
      ]
     },
     "metadata": {},
     "output_type": "display_data"
    },
    {
     "data": {
      "image/png": "[encoded data removed]",
      "text/plain": [
       "<matplotlib.figure.Figure at 0x7f1e6c662d68>"
      ]
     },
     "metadata": {},
     "output_type": "display_data"
    },
    {
     "data": {
      "image/png": "[encoded data removed]",
      "text/plain": [
       "<matplotlib.figure.Figure at 0x7f1e6c436550>"
      ]
     },
     "metadata": {},
     "output_type": "display_data"
    }
   ],
   "source": [
    "fig = plt.figure()\n",
    "ax1 = fig.add_subplot(111)\n",
    "\n",
    "ax1.scatter(plotData[\"SepalLengthCm\"], plotData[\"SepalWidthCm\"], s = 10, c = 'b', marker = \"s\", label = 'data')\n",
    "ax1.scatter(plotData.loc[plotData.index.isin(centroids), \"SepalLengthCm\"], plotData.loc[plotData.index.isin(centroids), \"SepalWidthCm\"], s = 30, c = 'r', marker = \"o\", label = 'centroids')\n",
    "plt.legend(loc = 'upper right');\n",
    "plt.show()"
   ]
  },
  {
   "cell_type": "code",
   "execution_count": null,
   "metadata": {
    "collapsed": true
   },
   "outputs": [],
   "source": []
  }
 ],
 "metadata": {
  "kernelspec": {
   "display_name": "Python 3",
   "language": "python",
   "name": "python3"
  },
  "language_info": {
   "codemirror_mode": {
    "name": "ipython",
    "version": 3
   },
   "file_extension": ".py",
   "mimetype": "text/x-python",
   "name": "python",
   "nbconvert_exporter": "python",
   "pygments_lexer": "ipython3",
   "version": "3.5.2"
  }
 },
 "nbformat": 4,
 "nbformat_minor": 2
}
